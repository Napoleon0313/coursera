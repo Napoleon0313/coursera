{
 "cells": [
  {
   "cell_type": "markdown",
   "metadata": {},
   "source": [
    "## Regularized logistic regression"
   ]
  },
  {
   "cell_type": "code",
   "execution_count": 75,
   "metadata": {
    "collapsed": true
   },
   "outputs": [],
   "source": [
    "%matplotlib inline\n",
    "import numpy as np\n",
    "import matplotlib.pyplot as plt\n",
    "from mpl_toolkits import mplot3d\n",
    "\n",
    "\n",
    "# use seaborn for plot defaults\n",
    "# this can be safely commented out\n",
    "import seaborn; seaborn.set()"
   ]
  },
  {
   "cell_type": "markdown",
   "metadata": {},
   "source": [
    "#### Visualizing the data"
   ]
  },
  {
   "cell_type": "code",
   "execution_count": 76,
   "metadata": {
    "collapsed": false
   },
   "outputs": [
    {
     "name": "stdout",
     "output_type": "stream",
     "text": [
      "(118, 3)\n"
     ]
    },
    {
     "data": {
      "image/png": "[encoded data removed]",
      "text/plain": [
       "<matplotlib.figure.Figure at 0x10b7f42e8>"
      ]
     },
     "metadata": {},
     "output_type": "display_data"
    }
   ],
   "source": [
    "data = np.genfromtxt('ex2data2.txt', delimiter=',')\n",
    "\n",
    "print(data.shape)\n",
    "\n",
    "pos = data[data[:,-1]==1] # extract positive samples\n",
    "neg = data[data[:,-1]==0] # extract negative samples\n",
    "\n",
    "ax = plt.axes()\n",
    "ax.scatter(pos[:,0], pos[:,1], c='r', marker=\"x\", label='Positive');\n",
    "ax.scatter(neg[:,0], neg[:,1], c='m', marker=\"s\", label='Negative');\n",
    "ax.set_xlabel(\"Microship test 1\")\n",
    "ax.set_ylabel(\"Microship test 2\")\n",
    "ax.legend();"
   ]
  },
  {
   "cell_type": "code",
   "execution_count": 77,
   "metadata": {
    "collapsed": false
   },
   "outputs": [],
   "source": [
    "from sklearn.preprocessing import PolynomialFeatures  \n",
    "\n",
    "poly = PolynomialFeatures(6)\n",
    "X = poly.fit_transform(data[:,[0,1]])\n",
    "\n",
    "m, n  = X.shape[0], X.shape[1] - 1\n",
    "y = data[:,-1]\n",
    "theta = np.zeros( (n+1, 1) )\n",
    "_lambda = 1"
   ]
  },
  {
   "cell_type": "markdown",
   "metadata": {},
   "source": [
    "#### Sigmoid function"
   ]
  },
  {
   "cell_type": "code",
   "execution_count": 78,
   "metadata": {
    "collapsed": true
   },
   "outputs": [],
   "source": [
    "import scipy.special\n",
    "\n",
    "def sigmoid(z):\n",
    "    return scipy.special.expit(z)"
   ]
  },
  {
   "cell_type": "markdown",
   "metadata": {
    "collapsed": true
   },
   "source": [
    "### Cost Function and the Gradient"
   ]
  },
  {
   "cell_type": "markdown",
   "metadata": {},
   "source": [
    "$ J(θ) = \\frac{1}{m} \\sum_{m=1}^{i} [1−y^{(i)} log(h_θ(x^{(i)})) − (1 − y^{(i)}) log(1 − h_θ(x^{(i)}))􏰄] + \\frac{λ}{2m} \\sum_{j=1}^{n} θ_j^2$"
   ]
  },
  {
   "cell_type": "code",
   "execution_count": 79,
   "metadata": {
    "collapsed": false
   },
   "outputs": [
    {
     "data": {
      "text/plain": [
       "0.69314718055994529"
      ]
     },
     "execution_count": 79,
     "metadata": {},
     "output_type": "execute_result"
    }
   ],
   "source": [
    "def cost_function(theta, X, y, _lambda):\n",
    "    m = X.shape[0]\n",
    "    h = sigmoid(X.dot( theta ))\n",
    "    term1 = np.log( h ).T.dot( -y )\n",
    "    term2 = np.log(1 - h).T.dot(1 - y)\n",
    "    term3 = ( _lambda / (2*m) ) * theta\n",
    "    return np.sum( ( term1 - term2 ) / m ) + np.sum( term3 )\n",
    "\n",
    "def compute_gradient(theta, X, y, _lambda):\n",
    "    m = X.shape[0]\n",
    "    grad = X.T.dot( sigmoid( X.dot( theta ) ) - y ) / m\n",
    "    grad[1:] = grad[1:] + ( (theta[1:] * _lambda ) / m )\n",
    "    return grad\n",
    "\n",
    "compute_gradient(theta, X, y, _lambda);\n",
    "cost_function(theta, X, y, _lambda)"
   ]
  },
  {
   "cell_type": "markdown",
   "metadata": {},
   "source": [
    "### Learning the optimal parameters"
   ]
  },
  {
   "cell_type": "code",
   "execution_count": 80,
   "metadata": {
    "collapsed": false
   },
   "outputs": [
    {
     "name": "stdout",
     "output_type": "stream",
     "text": [
      "Warning: Desired error not necessarily achieved due to precision loss.\n",
      "         Current function value: nan\n",
      "         Iterations: 24\n",
      "         Function evaluations: 1950\n",
      "         Gradient evaluations: 65\n"
     ]
    }
   ],
   "source": [
    "import scipy.optimize #python equivalent of fminunc in Octave/Matlab\n",
    "\n",
    "def findMinTheta( theta, X, y, _lambda ):\n",
    "    result = scipy.optimize.minimize( cost_function, theta, args=(X, y, _lambda),  method='BFGS', options={\"maxiter\":500, \"disp\":True} )\n",
    "    return result.x, result.fun\n",
    "\n",
    "theta, cost = findMinTheta( theta, X , y, _lambda)"
   ]
  },
  {
   "cell_type": "code",
   "execution_count": null,
   "metadata": {
    "collapsed": true
   },
   "outputs": [],
   "source": [
    "def predict(X, theta, binary=True):\n",
    "    p = sigmoid( theta.dot( X ) )\n",
    "    if binary:\n",
    "        return 1 if p > 0.5 else 0\n",
    "    else:\n",
    "        return p"
   ]
  },
  {
   "cell_type": "markdown",
   "metadata": {},
   "source": [
    "### Visualizing the decision boundary"
   ]
  },
  {
   "cell_type": "code",
   "execution_count": null,
   "metadata": {
    "collapsed": true
   },
   "outputs": [],
   "source": [
    "def plot_decision_function(clf, ax=None):\n",
    "    if ax is None:\n",
    "        ax = plt.gca()\n",
    "    x = np.linspace(plt.xlim()[0], plt.xlim()[1], 30)\n",
    "    y = np.linspace(plt.ylim()[0], plt.ylim()[1], 30)\n",
    "    Y, X = np.meshgrid(y, x)\n",
    "    P = np.zeros_like(X)\n",
    "    for i, xi in enumerate(x):\n",
    "        for j, yj in enumerate(y):\n",
    "            P[i, j] = clf.decision_function([xi, yj])\n",
    "    # plot the margins\n",
    "    ax.contour(X, Y, P, colors='k',\n",
    "               levels=[-1, 0, 1], alpha=0.5,\n",
    "               linestyles=['--', '-', '--'])"
   ]
  }
 ],
 "metadata": {
  "kernelspec": {
   "display_name": "Python 3",
   "language": "python",
   "name": "python3"
  },
  "language_info": {
   "codemirror_mode": {
    "name": "ipython",
    "version": 3
   },
   "file_extension": ".py",
   "mimetype": "text/x-python",
   "name": "python",
   "nbconvert_exporter": "python",
   "pygments_lexer": "ipython3",
   "version": "3.4.3"
  }
 },
 "nbformat": 4,
 "nbformat_minor": 0
}

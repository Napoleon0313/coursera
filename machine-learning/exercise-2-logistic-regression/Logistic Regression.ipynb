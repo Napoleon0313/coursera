{
 "cells": [
  {
   "cell_type": "markdown",
   "metadata": {},
   "source": [
    "## Logistic Regression"
   ]
  },
  {
   "cell_type": "code",
   "execution_count": 2,
   "metadata": {
    "collapsed": false
   },
   "outputs": [
    {
     "name": "stderr",
     "output_type": "stream",
     "text": [
      "/Library/Frameworks/Python.framework/Versions/3.4/lib/python3.4/site-packages/matplotlib/__init__.py:872: UserWarning: axes.color_cycle is deprecated and replaced with axes.prop_cycle; please use the latter.\n",
      "  warnings.warn(self.msg_depr % (key, alt_key))\n"
     ]
    }
   ],
   "source": [
    "%matplotlib inline\n",
    "import numpy as np\n",
    "import matplotlib.pyplot as plt\n",
    "from mpl_toolkits import mplot3d\n",
    "import seaborn; seaborn.set()"
   ]
  },
  {
   "cell_type": "markdown",
   "metadata": {},
   "source": [
    "#### Visualizing the data"
   ]
  },
  {
   "cell_type": "code",
   "execution_count": 3,
   "metadata": {
    "collapsed": false
   },
   "outputs": [
    {
     "name": "stdout",
     "output_type": "stream",
     "text": [
      "(100, 3)\n"
     ]
    },
    {
     "data": {
      "image/png": "[encoded data removed]",
      "text/plain": [
       "<matplotlib.figure.Figure at 0x10a36b240>"
      ]
     },
     "metadata": {},
     "output_type": "display_data"
    }
   ],
   "source": [
    "data = np.genfromtxt('ex2data1.txt', delimiter=',')\n",
    "\n",
    "print(data.shape)\n",
    "\n",
    "pos = data[data[:,-1]==1] # extract positive samples\n",
    "neg = data[data[:,-1]==0] # extract negative samples\n",
    "\n",
    "ax = plt.axes()\n",
    "ax.scatter(pos[:,0], pos[:,1], c='r', marker=\"x\", label='Positive');\n",
    "ax.scatter(neg[:,0], neg[:,1], c='m', marker=\"s\", label='Negative');\n",
    "ax.set_xlabel(\"Exam1 Score\")\n",
    "ax.set_ylabel(\"Exam2 Score\")\n",
    "ax.legend();"
   ]
  },
  {
   "cell_type": "markdown",
   "metadata": {},
   "source": [
    "### Initialize Parameters"
   ]
  },
  {
   "cell_type": "code",
   "execution_count": 4,
   "metadata": {
    "collapsed": false
   },
   "outputs": [],
   "source": [
    "# Get the dataset shape\n",
    "m, n  = data.shape[0], data.shape[1] - 1\n",
    "\n",
    "# Add an additional column to the feature set\n",
    "X = np.c_[ np.ones((m, 1)), data[:, :n] ]\n",
    "\n",
    "# Extract the labels\n",
    "y = data[:, n:n+1]\n",
    "\n",
    "theta = np.zeros( (n+1, 1) ) "
   ]
  },
  {
   "cell_type": "markdown",
   "metadata": {},
   "source": [
    "#### Sigmoid function\n",
    "\n",
    "The logistic regression cost function is defined as $h_{\\theta}(x) = g(\\theta^T x)$ where the function g is the sigmoid function, which is defined as: $g(z) = \\frac{1}{1+e^{-z}}$"
   ]
  },
  {
   "cell_type": "code",
   "execution_count": 7,
   "metadata": {
    "collapsed": false
   },
   "outputs": [
    {
     "data": {
      "text/plain": [
       "array([ 0.5,  0.5,  0.5])"
      ]
     },
     "execution_count": 7,
     "metadata": {},
     "output_type": "execute_result"
    }
   ],
   "source": [
    "import scipy.special\n",
    "\n",
    "def sigmoid(z):\n",
    "    return scipy.special.expit(z)\n",
    "    \n",
    "sigmoid(np.array([0,0,0]))"
   ]
  },
  {
   "cell_type": "markdown",
   "metadata": {
    "collapsed": true
   },
   "source": [
    "#### Cost function\n",
    "\n",
    "The cost function is defined as:\n",
    "\n",
    "$J(\\theta) = \\frac{1}{m} \\sum_{n=1}^{m} [-y^{(i)}log(h_{\\theta}(x^{(i)}))-(1-y^{(i)})log(1-h_{\\theta}(x^{(i)}))]$"
   ]
  },
  {
   "cell_type": "code",
   "execution_count": 8,
   "metadata": {
    "collapsed": false
   },
   "outputs": [
    {
     "data": {
      "text/plain": [
       "0.69314718055994518"
      ]
     },
     "execution_count": 8,
     "metadata": {},
     "output_type": "execute_result"
    }
   ],
   "source": [
    "def compute_cost(theta, X, y):\n",
    "    m = X.shape[0]\n",
    "    h = sigmoid(X.dot( theta ))\n",
    "    term1 = np.log( h ).T.dot( -y )\n",
    "    term2 = np.log(1 - h).T.dot(1 - y)\n",
    "    return np.sum(((term1 - term2) / m))\n",
    "\n",
    "compute_cost(theta, X, y)"
   ]
  },
  {
   "cell_type": "markdown",
   "metadata": {},
   "source": [
    "#### Gradient\n",
    "\n",
    "The gradient of the cost is a vector of the same length as $\\theta$ where the $j^{th}$ element (for j = 0,1,...,n) is defined as follows:\n",
    "\n",
    "$\\frac{\\partial J(\\theta)}{\\partial \\theta_j} = \\frac{1}{m} \\sum_{n=1}^{m} (h_{\\theta}(x^{(i)}) - y^{(i)})x_{j}^{(i)}$"
   ]
  },
  {
   "cell_type": "code",
   "execution_count": 11,
   "metadata": {
    "collapsed": false
   },
   "outputs": [
    {
     "data": {
      "text/plain": [
       "array([[ -0.1       ],\n",
       "       [-12.00921659],\n",
       "       [-11.26284221]])"
      ]
     },
     "execution_count": 11,
     "metadata": {},
     "output_type": "execute_result"
    }
   ],
   "source": [
    "def gradient_cost(X, y, theta):\n",
    "    m = X.shape[0]\n",
    "    return ( X.T.dot(sigmoid( X.dot( theta ) ) - y)  ) / m\n",
    "\n",
    "gradient_cost(X, y, theta)"
   ]
  },
  {
   "cell_type": "markdown",
   "metadata": {},
   "source": [
    "#### Learning parameters"
   ]
  },
  {
   "cell_type": "code",
   "execution_count": 12,
   "metadata": {
    "collapsed": false
   },
   "outputs": [
    {
     "name": "stdout",
     "output_type": "stream",
     "text": [
      "Optimization terminated successfully.\n",
      "         Current function value: 0.203498\n",
      "         Iterations: 157\n",
      "         Function evaluations: 287\n"
     ]
    }
   ],
   "source": [
    "import scipy.optimize #python equivalent of fminunc in Octave/Matlab\n",
    "\n",
    "def fit(theta, X, y, num_iter):\n",
    "    result = scipy.optimize.fmin( compute_cost, x0=theta, args=(X, y), maxiter=num_iter, full_output=True )\n",
    "    return result[0], result[1]\n",
    "\n",
    "theta, cost = fit(theta, X, y, 200)"
   ]
  },
  {
   "cell_type": "markdown",
   "metadata": {},
   "source": [
    "#### Plotting the decision boundary\n"
   ]
  },
  {
   "cell_type": "code",
   "execution_count": 13,
   "metadata": {
    "collapsed": false
   },
   "outputs": [
    {
     "data": {
      "image/png": "[encoded data removed]",
      "text/plain": [
       "<matplotlib.figure.Figure at 0x10a911208>"
      ]
     },
     "metadata": {},
     "output_type": "display_data"
    }
   ],
   "source": [
    "plot_x = np.array([min(X[:,1]), max(X[:,1])]) #find minimum and maximum x-value\n",
    "plot_y = (-1./ theta[2]) * (theta[1] * plot_x + theta[0]) #predict y-value for x-values\n",
    "\n",
    "ax = plt.axes()\n",
    "ax.scatter(pos[:,0], pos[:,1], c='r', marker=\"x\", label='Positive');\n",
    "ax.scatter(neg[:,0], neg[:,1], c='m', marker=\"s\", label='Negative');\n",
    "ax.plot(plot_x, plot_y, color='g');\n",
    "ax.set_xlabel(\"Exam1 Score\")\n",
    "ax.set_ylabel(\"Exam2 Score\")\n",
    "ax.legend();"
   ]
  },
  {
   "cell_type": "markdown",
   "metadata": {},
   "source": [
    "#### Predicting new values"
   ]
  },
  {
   "cell_type": "code",
   "execution_count": 14,
   "metadata": {
    "collapsed": false
   },
   "outputs": [
    {
     "data": {
      "text/plain": [
       "(0.77629159041124107, 1)"
      ]
     },
     "execution_count": 14,
     "metadata": {},
     "output_type": "execute_result"
    }
   ],
   "source": [
    "def predict(X, theta, binary=True):\n",
    "    p = sigmoid(theta.dot(X))\n",
    "    if binary:\n",
    "        return 1 if p > 0.5 else 0\n",
    "    else:\n",
    "        return p\n",
    "    \n",
    "test = np.array([1, 45, 85])\n",
    "predict(test, theta, binary=False), (predict(test, theta))"
   ]
  }
 ],
 "metadata": {
  "kernelspec": {
   "display_name": "Python 3",
   "language": "python",
   "name": "python3"
  },
  "language_info": {
   "codemirror_mode": {
    "name": "ipython",
    "version": 3
   },
   "file_extension": ".py",
   "mimetype": "text/x-python",
   "name": "python",
   "nbconvert_exporter": "python",
   "pygments_lexer": "ipython3",
   "version": "3.4.3"
  }
 },
 "nbformat": 4,
 "nbformat_minor": 0
}

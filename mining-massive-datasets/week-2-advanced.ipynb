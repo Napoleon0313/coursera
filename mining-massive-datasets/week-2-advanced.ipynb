{
 "cells": [
  {
   "cell_type": "markdown",
   "metadata": {},
   "source": [
    "# Week 2C (Advanced)\n",
    "\n",
    "## Question 1\n",
    "\n",
    "Suppose we perform the PCY algorithm to find frequent pairs, with market-basket data meeting the following specifications:\n",
    "\n",
    "<ol>\n",
    "<li>s, the support threshold, is 10,000.\n",
    "<li>There are one million items, which are represented by the integers 0,1,...,999999.\n",
    "<li>There are 250,000 frequent items, that is, items that occur 10,000 times or more.\n",
    "<li>There are one million pairs that occur 10,000 times or more.\n",
    "<li>There are P pairs that occur exactly once and consist of 2 frequent items.\n",
    "<li>No other pairs occur at all.\n",
    "<li>Integers are always represented by 4 bytes.\n",
    "<li>When we hash pairs, they distribute among buckets randomly, but as evenly as possible; i.e., you may assume that each bucket gets exactly its fair share of the P pairs that occur once.\n",
    "</ol>\n",
    "\n",
    "Suppose there are S bytes of main memory. In order to run the PCY algorithm successfully, the number of buckets must be sufficiently large that most buckets are not large. In addition, on the second pass, there must be enough room to count all the candidate pairs. As a function of S, what is the largest value of P for which we can successfully run the PCY algorithm on this data? Demonstrate that you have the correct formula by indicating which of the following is a value for S and a value for P that is approximately (i.e., to within 10%) the largest possible value of P for that S.\n",
    "\n",
    "<ol>\n",
    "<li>S = 1,000,000,000; P = 20,000,000,000\n",
    "<li>S = 100,000,000; P = 540,000,000\n",
    "<li>S = 1,000,000,000; P = 35,000,000,000\n",
    "<li>S = 1,000,000,000; P = 10,000,000,000\n",
    "</ol>"
   ]
  },
  {
   "cell_type": "code",
   "execution_count": 41,
   "metadata": {
    "collapsed": false
   },
   "outputs": [
    {
     "name": "stdout",
     "output_type": "stream",
     "text": [
      "{'S': 1000000000, 'P': 20000000000}\n"
     ]
    }
   ],
   "source": [
    "# Limits\n",
    "LOWER, UPPER = 0.9, 1.1\n",
    "ITEM_COUNT = 1000000\n",
    "FREQ_ITEMS = 250000\n",
    "\n",
    "values = [\n",
    "    {\"S\": 1000000000, \"P\": 20000000000},\n",
    "    {\"S\": 100000000, \"P\": 540000000},\n",
    "    {\"S\": 1000000000, \"P\": 35000000000},\n",
    "    {\"S\": 1000000000, \"P\": 10000000000}]\n",
    "\n",
    "def p_max(S):\n",
    "    # Pass 1\n",
    "    # item_count = ITEM_COUNT * 4\n",
    "    # bucket_memory = S - item_count\n",
    "    # num_buckets = bucket_memory / 4\n",
    "\n",
    "    # Pass 2\n",
    "    # frequent_items = FREQ_ITEMS * 4\n",
    "    # bit_map = num_buckets/32\n",
    "    # candidate_pairs = 12 * num_buckets * 4 * (P/S)\n",
    "    return (S**2)/(4.8*(10**7))\n",
    "    \n",
    "for v in values:\n",
    "    p = p_max(v[\"S\"])\n",
    "    l, u = p * LOWER, p * UPPER\n",
    "    if l <= v[\"P\"] and v[\"P\"] <= u:\n",
    "        print(v)"
   ]
  },
  {
   "cell_type": "markdown",
   "metadata": {
    "collapsed": true
   },
   "source": [
    "## Question 2\n",
    "\n",
    "During a run of Toivonen's Algorithm with set of items {A,B,C,D,E,F,G,H} a sample is found to have the following maximal frequent itemsets: {A,B}, {A,C}, {A,D}, {B,C}, {E}, {F}. Compute the negative border. Then, identify in the list below the set that is NOT in the negative border.\n",
    "\n",
    "<ol>\n",
    "<li>{B,F}\n",
    "<li>{B,D}\n",
    "<li>{D}\n",
    "<li>{B,E}\n",
    "</ol>"
   ]
  },
  {
   "cell_type": "code",
   "execution_count": 39,
   "metadata": {
    "collapsed": false
   },
   "outputs": [
    {
     "name": "stdout",
     "output_type": "stream",
     "text": [
      "[{'D'}]\n",
      "[{'F', 'B'}]\n"
     ]
    }
   ],
   "source": [
    "\"\"\"\n",
    "Having constructed the collection of frequent itemsets for the sample, we\n",
    "next construct the negative border. This is the collection of itemsets that are not\n",
    "frequent in the sample, but all of their immediate subsets (subsets constructed\n",
    "by deleting exactly one item) are frequent in the sample.\n",
    "\"\"\"\n",
    "\n",
    "def extend_frequent(sets):\n",
    "    \"A subset of a maximal frequent itemset, such as the empty set, must itself be frequent\"\n",
    "    for f in sets:\n",
    "        if len(f) > 1:\n",
    "            for v in f:\n",
    "                c = f.copy()\n",
    "                c.remove(v)\n",
    "                sets.append(c)\n",
    "    return sets\n",
    "\n",
    "# Set of items\n",
    "items = set([\"A\", \"B\", \"C\", \"D\", \"E\", \"F\", \"G\", \"H\"])\n",
    "\n",
    "# Maximal frequent itemsets\n",
    "frequent_itemset = [set([\"A\", \"B\"]), set([\"A\", \"C\"]), set([\"A\", \"D\"]), set([\"B\", \"C\"]), set([\"E\"]), set([\"F\"])]\n",
    "\n",
    "# Sets to test\n",
    "test = [set([\"B\", \"F\"]),set([\"B\", \"D\"]), set([\"D\"]), set([\"B\", \"E\"])]\n",
    "                \n",
    "frequent_itemset = extend_frequent(frequent_itemset)\n",
    "    \n",
    "# Not frequent itemsets\n",
    "negative_border = []\n",
    "\n",
    "# Frequent itemsets\n",
    "frequent = []\n",
    "\n",
    "for t in test:\n",
    "    count, freq = 0, False\n",
    "    # Generate all possible subsets\n",
    "    for v in t:\n",
    "        c = t.copy()\n",
    "        c.remove(v)\n",
    "        for f in frequent_itemset:\n",
    "            # Count all subsets found in the frequent itemset\n",
    "            if c == f:\n",
    "                count += 1\n",
    "            # If test set if a subset of a frequent set -> frequent\n",
    "            if t.issubset(f):\n",
    "                freq = True\n",
    "        # If all subsets are found in the maximal frequent itemsets\n",
    "        if count == len(t):\n",
    "            negative_border.append(t)\n",
    "        if freq:\n",
    "            frequent.append(t)\n",
    "        \n",
    "print(frequent)\n",
    "print(negative_border)"
   ]
  },
  {
   "cell_type": "code",
   "execution_count": null,
   "metadata": {
    "collapsed": true
   },
   "outputs": [],
   "source": []
  }
 ],
 "metadata": {
  "kernelspec": {
   "display_name": "Python 3",
   "language": "python",
   "name": "python3"
  },
  "language_info": {
   "codemirror_mode": {
    "name": "ipython",
    "version": 3
   },
   "file_extension": ".py",
   "mimetype": "text/x-python",
   "name": "python",
   "nbconvert_exporter": "python",
   "pygments_lexer": "ipython3",
   "version": "3.4.3"
  }
 },
 "nbformat": 4,
 "nbformat_minor": 0
}

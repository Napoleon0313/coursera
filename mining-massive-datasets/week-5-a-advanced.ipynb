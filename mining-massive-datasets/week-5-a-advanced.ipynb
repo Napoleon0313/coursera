{
 "cells": [
  {
   "cell_type": "markdown",
   "metadata": {},
   "source": [
    "# Week5A (Advanced)\n",
    "\n",
    "## Question 1\n",
    "\n",
    "Consider the diagonal matrix: \n",
    "\n",
    "<table style=\"float:left\">\n",
    "<tr><td>1<td>\t0<td>\t0</tr>\n",
    "<tr><td>0<td>\t2<td>\t0</tr>\n",
    "<tr><td>0<td>\t0<td>\t0</tr>\n",
    "</table>\n",
    "\n",
    "<br clear=\"all\"/>\n",
    "\n",
    "Compute its Moore-Penrose pseudoinverse, and then identify, in the list below, the true statement about the elements of the pseudoinverse.\n",
    "\n",
    "<ol>\n",
    "<li>There is one element with value 0.\n",
    "<li>There is one element with value 1/2.\n",
    "<li>There are seven elements with value infinity.\n",
    "<li>There is one element with value -1.\n",
    "</ol>"
   ]
  },
  {
   "cell_type": "code",
   "execution_count": 1,
   "metadata": {
    "collapsed": false
   },
   "outputs": [
    {
     "data": {
      "text/plain": [
       "array([[ 1. ,  0. ,  0. ],\n",
       "       [ 0. ,  0.5,  0. ],\n",
       "       [ 0. ,  0. ,  0. ]])"
      ]
     },
     "execution_count": 1,
     "metadata": {},
     "output_type": "execute_result"
    }
   ],
   "source": [
    "import numpy as np\n",
    "\n",
    "M = np.diag([1, 2, 0])\n",
    "\n",
    "np.linalg.pinv(M)"
   ]
  },
  {
   "cell_type": "markdown",
   "metadata": {},
   "source": [
    "## Question 2\n",
    "\n",
    "An ad publisher selects three ads to place on each page, in order from the top. Click-through rates (CTR's) at each position differ for each advertiser, and each advertiser has a different CTR for each position. Each advertiser bids for click-throughs, and each advertiser has a daily budget, which may not be exceeded. When a click-through occurs, the advertiser pays the amount they bid. In one day, there are 101 click-throughs to be auctioned.\n",
    "Here is a table of the bids, CTR's for positions 1, 2, and 3, and budget for each advertiser.\n",
    "\n",
    "<table style=\"float:left\">\n",
    "<tr><td><b>Advertiser <td><b>\t Bid<td><b>\tCTR1<td><b>\tCTR2<td><b>\tCTR3<td><b>\tBudget</tr>\n",
    "<tr><td>A<td>\t.10<td>\t.015<td>\t.010<td>\t.005<td>\t1</tr>\n",
    "<tr><td>B<td>\t.09<td>\t.016<td>\t.012<td>\t.006<td>\t2</tr>\n",
    "<tr><td>C<td>\t.08<td>\t.017<td>\t.014<td>\t.007<td>\t3</tr>\n",
    "<tr><td>D<td>\t.07<td>\t.018<td>\t.015<td>\t.008<td>\t4</tr>\n",
    "<tr><td>E<td>\t.06<td>\t.019<td>\t.016<td>\t.010<td>\t5</tr>\n",
    "</table>\n",
    "\n",
    "<br clear=\"all\">\n",
    "\n",
    "The publisher uses the following strategy to allocate the three ad slots:\n",
    "\n",
    "Any advertiser whose budget is spent is ignored in what follows.\n",
    "The first slot goes to the advertiser whose expected yield for the first slot (product of the bid and the CTR for the first slot) is the greatest. This advertiser is ignored in what follows.\n",
    "The second slot goes to the advertiser whose expected yield for the second slot (product of the bid and the CTR for the second slot) is the greatest. This advertiser is ignored in what follows.\n",
    "The third slot goes to the advertiser whose expected yield for the third slot (product of the bid and the CTR for the third slot) is the greatest.\n",
    "The same three advertisers get the three ad positions until one of two things happens:\n",
    "\n",
    "An advertiser runs out of budget, or\n",
    "All 101 click-throughs have been obtained.\n",
    "Either of these events ends one phase of the allocation. If a phase ends because an advertiser ran out of budget, then they are assumed to get all the clicks their budget buys. During the same phase, we calculate the number of click-throughs received by the other two advertisers by assuming that all three received click-throughs in proportion to their respective CTR's for their positions (round to the nearest integer). If click-throughs remain, the publisher reallocates all three slots and starts a new phase.\n",
    "\n",
    "If the phase ends because all click-throughs have been allocated, assume that the three advertisers received click-throughs in proportion to their respective CTR's (again, rounding if necessary).\n",
    "\n",
    "Your task is to simulate the allocation of slots and to determine how many click-throughs each of the five advertisers get.\n",
    "\n",
    "<ol>\n",
    "<li>C gets 36 click-throughs.\n",
    "<li>E gets 35 click-throughs.\n",
    "<li>A gets 57 click-throughs.\n",
    "<li>B gets 0 click-throughs.\n",
    "</ol>"
   ]
  },
  {
   "cell_type": "code",
   "execution_count": null,
   "metadata": {
    "collapsed": true
   },
   "outputs": [],
   "source": []
  },
  {
   "cell_type": "markdown",
   "metadata": {},
   "source": [
    "## Question 3\n",
    "\n",
    "In certain clustering algorithms, such as CURE, we need to pick a representative set of points in a supposed cluster, and these points should be as far away from each other as possible. That is, begin with the two furthest points, and at each step add the point whose minimum distance to any of the previously selected points is maximum.\n",
    "Suppose you are given the following points in two-dimensional Euclidean space: x = (0,0); y = (10,10), a = (1,6); b = (3,7); c = (4,3); d = (7,7), e = (8,2); f = (9,5). Obviously, x and y are furthest apart, so start with these. You must add five more points, which we shall refer to as the first, second,..., fifth points in what follows. The distance measure is the normal Euclidean L2-norm. Which of the following is true about the order in which the five points are added?\n",
    "\n",
    "<ol>\n",
    "<li>b is added fourth\n",
    "<li>b is added second\n",
    "<li>d is added second\n",
    "<li>c is added first\n",
    "</ol>"
   ]
  },
  {
   "cell_type": "code",
   "execution_count": 73,
   "metadata": {
    "collapsed": false
   },
   "outputs": [
    {
     "name": "stdout",
     "output_type": "stream",
     "text": [
      "Adding point [8 2] to cluster\n",
      "Adding point [3 7] to cluster\n",
      "Adding point [1 6] to cluster\n",
      "Adding point [9 5] to cluster\n",
      "Adding point [4 3] to cluster\n",
      "Adding point [7 7] to cluster\n"
     ]
    }
   ],
   "source": [
    "points = np.array([(1, 6), (3, 7), (4, 3), (7, 7), (8, 2), (9, 5)])\n",
    "\n",
    "cluster = np.array([(0,0), (10, 10)])\n",
    "\n",
    "while points.size:\n",
    "    d = []\n",
    "    for c in cluster:\n",
    "        # Calculate Euclidean L2-norm to all points\n",
    "        l2 = [np.linalg.norm(x-c) for x in points]\n",
    "        d.append(l2)\n",
    "    # Find the minimum value of each column\n",
    "    minimum = np.amin(d, axis=0)\n",
    "    # Find the index column with the highest minimum value\n",
    "    maximum = np.argmax(minimum)\n",
    "    print(\"Adding point\", points[maximum], \"to cluster\")\n",
    "    cluster = np.append(cluster, points[maximum])\n",
    "    points = np.delete(points, maximum, 0)"
   ]
  },
  {
   "cell_type": "code",
   "execution_count": null,
   "metadata": {
    "collapsed": true
   },
   "outputs": [],
   "source": []
  }
 ],
 "metadata": {
  "kernelspec": {
   "display_name": "Python 3",
   "language": "python",
   "name": "python3"
  },
  "language_info": {
   "codemirror_mode": {
    "name": "ipython",
    "version": 3
   },
   "file_extension": ".py",
   "mimetype": "text/x-python",
   "name": "python",
   "nbconvert_exporter": "python",
   "pygments_lexer": "ipython3",
   "version": "3.4.3"
  }
 },
 "nbformat": 4,
 "nbformat_minor": 0
}

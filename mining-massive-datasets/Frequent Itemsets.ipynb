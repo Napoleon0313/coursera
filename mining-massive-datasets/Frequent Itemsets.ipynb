{
 "cells": [
  {
   "cell_type": "markdown",
   "metadata": {},
   "source": [
    "# Week 2B: Frequent Itemsets (Basic)\n",
    "\n",
    "## Question 1\n",
    "\n",
    "Suppose we have transactions that satisfy the following assumptions: \n",
    "\n",
    "<ol>\n",
    "<li>s, the support threshold, is 10,000.\n",
    "<li>There are one million items, which are represented by the integers 0,1,...,999999.\n",
    "<li>There are N frequent items, that is, items that occur 10,000 times or more.\n",
    "<li>There are one million pairs that occur 10,000 times or more.\n",
    "<li>There are 2M pairs that occur exactly once. M of these pairs consist of two frequent items, the other M each have at least one nonfrequent item.\n",
    "<li>No other pairs occur at all.\n",
    "<li>Integers are always represented by 4 bytes.\n",
    "</ol>\n",
    "\n",
    "Suppose we run the a-priori algorithm to find frequent pairs and can choose on the second pass between the triangular-matrix method for counting candidate pairs (a triangular array count[i][j] that holds an integer count for each pair of items (i, j) where i < j) and a hash table of item-item-count triples. Neglect in the first case the space needed to translate between original item numbers and numbers for the frequent items, and in the second case neglect the space needed for the hash table. Assume that item numbers and counts are always 4-byte integers. \n",
    "As a function of N and M, what is the minimum number of bytes of main memory needed to execute the a-priori algorithm on this data? Demonstrate that you have the correct formula by selecting, from the choices below, the triple consisting of values for N, M, and the (approximate, i.e., to within 10%) minumum number of bytes of main memory, S, needed for the a-priori algorithm to execute with this data.\n",
    "\n",
    "<ol>\n",
    "<li>N = 100,000; M = 100,000,000; S = 1,200,000,000\n",
    "<li>N = 50,000; M = 80,000,000; S = 1,500,000,000\n",
    "<li>N = 30,000; M = 100,000,000; S = 500,000,000\n",
    "<li>N = 100,000; M = 50,000,000; S = 5,000,000,000\n",
    "<ol>"
   ]
  },
  {
   "cell_type": "code",
   "execution_count": 1,
   "metadata": {
    "collapsed": false
   },
   "outputs": [
    {
     "ename": "SyntaxError",
     "evalue": "invalid syntax (<ipython-input-1-d2160afe1f9d>, line 4)",
     "output_type": "error",
     "traceback": [
      "\u001b[1;36m  File \u001b[1;32m\"<ipython-input-1-d2160afe1f9d>\"\u001b[1;36m, line \u001b[1;32m4\u001b[0m\n\u001b[1;33m    def triple_method(M)\u001b[0m\n\u001b[1;37m                        ^\u001b[0m\n\u001b[1;31mSyntaxError\u001b[0m\u001b[1;31m:\u001b[0m invalid syntax\n"
     ]
    }
   ],
   "source": [
    "def triangular_count(N):\n",
    "    return 0\n",
    "\n",
    "def triple_method(M)\n",
    "    return 0\n",
    "\n",
    "# N, M, S\n",
    "test = [[100000, 100000000, 1200000000],\n",
    "        [50000, 80000000, 1500000000],\n",
    "        [30000, 100000000, 500000000],\n",
    "        [100000, 50000000, 5000000000],]\n",
    "\n",
    "# Hint: A-priori algorithm notes"
   ]
  },
  {
   "cell_type": "markdown",
   "metadata": {},
   "source": [
    "\n",
    "## Question 2\n",
    "Imagine there are 100 baskets, numbered 1,2,...,100, and 100 items, similarly numbered. Item i is in basket j if and only if i divides j evenly. For example, basket 24 is the set of items {1,2,3,4,6,8,12,24}. Describe all the association rules that have 100% confidence. Which of the following rules has 100% confidence?\n",
    "\n",
    "<ol>\n",
    "<li>{4,6} → 12\n",
    "<li>{1,2} → 4\n",
    "<li>{1,3,6} → 12\n",
    "<li>{1} → 2\n",
    "</ol>"
   ]
  },
  {
   "cell_type": "code",
   "execution_count": null,
   "metadata": {
    "collapsed": true
   },
   "outputs": [],
   "source": []
  },
  {
   "cell_type": "markdown",
   "metadata": {},
   "source": [
    "## Question 3\n",
    "\n",
    "Suppose ABC is a frequent itemset and BCDE is NOT a frequent itemset. Given this information, we can be sure that certain other itemsets are frequent and sure that certain itemsets are NOT frequent. Other itemsets may be either frequent or not. Which of the following is a correct classification of an itemset?\n",
    "\n",
    "<ol>\n",
    "<li>B can be either frequent or not frequent.\n",
    "<li>BCF is not frequent.\n",
    "<li>AB can be either frequent or not frequent.\n",
    "<li>BC is frequent.\n",
    "</ol>"
   ]
  },
  {
   "cell_type": "code",
   "execution_count": null,
   "metadata": {
    "collapsed": true
   },
   "outputs": [],
   "source": []
  }
 ],
 "metadata": {
  "kernelspec": {
   "display_name": "Python 3",
   "language": "python",
   "name": "python3"
  },
  "language_info": {
   "codemirror_mode": {
    "name": "ipython",
    "version": 3
   },
   "file_extension": ".py",
   "mimetype": "text/x-python",
   "name": "python",
   "nbconvert_exporter": "python",
   "pygments_lexer": "ipython3",
   "version": "3.4.3"
  }
 },
 "nbformat": 4,
 "nbformat_minor": 0
}

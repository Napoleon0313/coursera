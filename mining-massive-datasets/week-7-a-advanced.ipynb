{
 "cells": [
  {
   "cell_type": "markdown",
   "metadata": {},
   "source": [
    "# Question 1\n",
    "\n",
    "Suppose we have an LSH family h of (d1,d2,.6,.4) hash functions. We can use three functions from h and the AND-construction to form a (d1,d2,w,x) family, and we can use two functions from h and the OR-construction to form a (d1,d2,y,z) family. Calculate w, x, y, and z, and then identify the correct value of one of these in the list below.\n",
    "\n",
    "<ol>\n",
    "<li>w=.216\n",
    "<li>y=.64\n",
    "<li>y=.936\n",
    "<li>x=.16\n",
    "</ol>"
   ]
  },
  {
   "cell_type": "code",
   "execution_count": null,
   "metadata": {
    "collapsed": true
   },
   "outputs": [],
   "source": []
  },
  {
   "cell_type": "markdown",
   "metadata": {},
   "source": [
    "# Question 2\n",
    "\n",
    "Here are eight strings that represent sets:\n",
    "\n",
    "- s1 = abcef\n",
    "- s2 = acdeg\n",
    "- s3 = bcdefg\n",
    "- s4 = adfg\n",
    "- s5 = bcdfgh\n",
    "- s6 = bceg\n",
    "- s7 = cdfg\n",
    "- s8 = abcd\n",
    "\n",
    "Suppose our upper limit on Jaccard distance is 0.2, and we use the indexing scheme of Section 3.9.4 based on symbols appearing in the prefix (no position or length information). For each of s1, s3, and s6, determine how many other strings that string will be compared with, if it is used as the probe string. Then, identify the true count from the list below.\n",
    "\n",
    "<ol>\n",
    "<li>s1 is compared with 3 other strings.\n",
    "<li>s1 is compared with 5 other strings.\n",
    "<li>s1 is compared with 6 other strings.\n",
    "<li>s3 is compared with 4 other strings.\n",
    "</ol>"
   ]
  },
  {
   "cell_type": "code",
   "execution_count": null,
   "metadata": {
    "collapsed": true
   },
   "outputs": [],
   "source": []
  },
  {
   "cell_type": "markdown",
   "metadata": {},
   "source": [
    "# Question 3\n",
    "\n",
    "Consider the link graph\n",
    "\n",
    "<img style=\"float:left\" src=\"https://d396qusza40orc.cloudfront.net/mmds/images/otc_pagerank4.gif\"/>\n",
    "<br clear=\"all\"/>\n",
    "\n",
    "First, construct the L, the link matrix, as discussed in Section 5.5 on the HITS algorithm. Then do the following:\n",
    "\n",
    "<ol>\n",
    "<li>Start by assuming the hubbiness of each node is 1; that is, the vector h is (the transpose of) [1,1,1,1].\n",
    "<li>Compute an estimate of the authority vector a=LTh.\n",
    "<li>Normalize a by dividing all values so the largest value is 1.\n",
    "<li>Compute an estimate of the hubbiness vector h=La.\n",
    "<li>Normalize h by dividing all values so the largest value is 1.\n",
    "<li>Repeat steps 2-5.\n",
    "</ol>\n",
    "\n",
    "Now, identify in the list below the true statement about the final estimates.\n",
    "\n",
    "<ol>\n",
    "<li>The final estimate of the hubbiness of 1 is 1.\n",
    "<li>The final estimate of the authority of 4 is 1/8.\n",
    "<li>The final estimate of the authority of 2 is 1/5.\n",
    "<li>The final estimate of the hubbiness of 3 is 3/5.\n",
    "</ol>"
   ]
  },
  {
   "cell_type": "code",
   "execution_count": null,
   "metadata": {
    "collapsed": true
   },
   "outputs": [],
   "source": []
  },
  {
   "cell_type": "markdown",
   "metadata": {},
   "source": [
    "# Question 4\n",
    "\n",
    "Consider an implementation of the Block-Stripe Algorithm discussed in Section 5.2 to compute page rank on a graph of N nodes (i.e., Web pages). Suppose each page has, on average, 20 links, and we divide the new rank vector into k blocks (and correspondingly, the matrix M into k stripes). Each stripe of M has one line per \"source\" web page, in the format:\n",
    "\n",
    "- [source_id, degree, m, dest_1, ...., dest_m]\n",
    "\n",
    "Notice that we had to add an additional entry, m, to denote the number of destination nodes in this stripe, which of course is no more than the degree of the node. Assume that all entries (scores, degrees, identifiers,...) are encoded using 4 bytes.\n",
    "\n",
    "There is an additional detail we need to account for, namely, locality of links. As a very simple model, assume that we divide web pages into two disjoint sets:\n",
    "\n",
    "Introvert pages, which link only to other pages within the same host as themselves.\n",
    "Extrovert pages, which have links to pages across several hosts.\n",
    "Assume a fraction x of pages (0 Construct a formula that counts the amount of I/O per page rank iteration in terms of N, x, and k. The 4-tuples below list combinations of N, k, x, and I/O (in bytes). Pick the correct combination.\n",
    "Note. There are some additional optimizations one can think of, such as striping the old score vector, encoding introvert and extrovert pages using different schemes, etc. For the purposes of working this problem, assume we don't do any optimizations beyond the block-stripe algorithm discussed in class.\n",
    "\n",
    "N = 1 billion, k = 2, x = 0.75, 112GB\n",
    "N = 1 billion, k = 2, x = 0.75, 107GB\n",
    "N = 1 billion, k = 3, x = 0.75, 132GB\n",
    "N = 1 billion, k = 3, x = 0.5, 132GB"
   ]
  }
 ],
 "metadata": {
  "kernelspec": {
   "display_name": "Python 3",
   "language": "python",
   "name": "python3"
  },
  "language_info": {
   "codemirror_mode": {
    "name": "ipython",
    "version": 3
   },
   "file_extension": ".py",
   "mimetype": "text/x-python",
   "name": "python",
   "nbconvert_exporter": "python",
   "pygments_lexer": "ipython3",
   "version": "3.4.3"
  }
 },
 "nbformat": 4,
 "nbformat_minor": 0
}

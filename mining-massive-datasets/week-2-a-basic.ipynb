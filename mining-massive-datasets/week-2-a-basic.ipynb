{
 "cells": [
  {
   "cell_type": "markdown",
   "metadata": {},
   "source": [
    "# Week 2A: LSH (Basic)\n",
    "\n",
    "## Question 1\n",
    "\n",
    "The edit distance is the minimum number of character insertions and character deletions required to turn one string into another. Compute the edit distance between each pair of the strings he, she, his, and hers. Then, identify which of the following is a true statement about the number of pairs at a certain edit distance.\n",
    "\n",
    "<ol>\n",
    "<li>There is 1 pair at distance 1.\n",
    "<li>There is 1 pair at distance 3.\n",
    "<li>There are 2 pairs at distance 3.\n",
    "<li>There are 2 pairs at distance 4.\n",
    "</ol>"
   ]
  },
  {
   "cell_type": "code",
   "execution_count": 17,
   "metadata": {
    "collapsed": false
   },
   "outputs": [
    {
     "name": "stdout",
     "output_type": "stream",
     "text": [
      "he - she 1\n",
      "he - his 2\n",
      "he - hers 2\n",
      "she - his 3\n",
      "she - hers 3\n",
      "his - hers 2\n"
     ]
    }
   ],
   "source": [
    "from itertools import combinations\n",
    "from nltk.metrics.distance import edit_distance\n",
    "\n",
    "strings = [\"he\", \"she\", \"his\", \"hers\"]\n",
    "\n",
    "# NOTE: edit_distance allow substitution!\n",
    "for a, b in combinations(strings, 2):\n",
    "    print(a, \"-\", b, edit_distance(a, b))"
   ]
  },
  {
   "cell_type": "markdown",
   "metadata": {},
   "source": [
    "## Question 2\n",
    "\n",
    "Consider the following matrix:\n",
    "\n",
    "<table style=\"float:left\">\n",
    "  <tr>\n",
    "    <td></td>\n",
    "    <td><b>C1</td>\n",
    "    <td><b>C2</td> \n",
    "    <td><b>C3</td>\n",
    "    <td><b>C4</td>\n",
    "  </tr>\n",
    "  <tr>\n",
    "    <td>R1</td><td>0</td><td>1</td><td>1</td><td>0</td>\n",
    "  </tr>\n",
    "  <tr>\n",
    "    <td>R2</td><td>1</td><td>0</td><td>1</td><td>0</td>\n",
    "  </tr>\n",
    "  <tr>\n",
    "    <td>R3</td><td>0</td><td>1</td><td>0</td><td>1</td>\n",
    "  </tr>\n",
    "  <tr>\n",
    "    <td>R4</td><td>0</td><td>0</td><td>1</td><td>0</td>\n",
    "  </tr>\n",
    "  <tr>\n",
    "    <td>R5</td><td>1</td><td>0</td><td>1</td><td>0</td>\n",
    "  </tr>\n",
    "  <tr>\n",
    "    <td>R6</td><td>0</td><td>1</td><td>0</td><td>0</td>\n",
    "  </tr>\n",
    "</table>\n",
    "\n",
    "<br style=\"clear:both\" />\n",
    "\n",
    "Perform a minhashing of the data, with the order of rows: R4, R6, R1, R3, R5, R2. Which of the following is the correct minhash value of the stated column? Note: we give the minhash value in terms of the original name of the row, rather than the order of the row in the permutation. These two schemes are equivalent, since we only care whether hash values for two columns are equal, not what their actual values are.\n",
    "\n",
    "<ol>\n",
    "<li>The minhash value for C1 is R2\n",
    "<li>The minhash value for C1 is R5\n",
    "<li>The minhash value for C2 is R3\n",
    "<li>The minhash value for C2 is R4"
   ]
  },
  {
   "cell_type": "code",
   "execution_count": 18,
   "metadata": {
    "collapsed": false
   },
   "outputs": [
    {
     "name": "stdout",
     "output_type": "stream",
     "text": [
      "Minhash values\n",
      "[5, 6, 4, 3]\n"
     ]
    }
   ],
   "source": [
    "import numpy as np\n",
    "\n",
    "# Input matrix\n",
    "I = [[0, 1, 1, 0], \n",
    "     [1, 0, 1, 1], \n",
    "     [0, 1, 0, 1], \n",
    "     [0, 0, 1, 0], \n",
    "     [1, 0, 1, 0],\n",
    "     [0, 1, 0, 0]]\n",
    "\n",
    "# Row order\n",
    "order = [3, 5, 0, 2, 4, 1]\n",
    "\n",
    "def min_hash(M, order):\n",
    "    res = [0] * 4\n",
    "    for row in order:\n",
    "        for c, col in enumerate(M[row]):\n",
    "            if col == 1 and res[c] == 0:\n",
    "                res[c] = row + 1\n",
    "    return res\n",
    "    \n",
    "m = min_hash(I, order)\n",
    "\n",
    "print(\"Minhash values\")\n",
    "print(m)"
   ]
  },
  {
   "cell_type": "markdown",
   "metadata": {},
   "source": [
    "## Question 3\n",
    "\n",
    "Here is a matrix representing the signatures of seven columns, C1 through C7.\n",
    "\n",
    "<table style=\"float:left\">\n",
    "  <tr>\n",
    "    <td><b>C1</td>\n",
    "    <td><b>C2</td> \n",
    "    <td><b>C3</td>\n",
    "    <td><b>C4</td>\n",
    "    <td><b>C5</td> \n",
    "    <td><b>C6</td>\n",
    "    <td><b>C7</td>\n",
    "  </tr>\n",
    "  <tr> <td>1<td>2<td>1<td>1<td>2<td>5<td>4 </tr>\n",
    "  <tr> <td>2<td>3<td>4<td>2<td>3<td>2<td>2 </tr>\n",
    "  <tr> <td>3<td>1<td>2<td>3<td>1<td>3<td>2 </tr>\n",
    "  <tr> <td>4<td>1<td>3<td>1<td>2<td>4<td>4 </tr>\n",
    "  <tr> <td>5<td>2<td>5<td>1<td>1<td>5<td>1 </tr>\n",
    "  <tr> <td>6<td>1<td>6<td>4<td>1<td>1<td>4 </tr>\n",
    "</table>\n",
    "\n",
    "<br style=\"clear:both\" />\n",
    "\n",
    "Suppose we use locality-sensitive hashing with three bands of two rows each. Assume there are enough buckets available that the hash function for each band can be the identity function (i.e., columns hash to the same bucket if and only if they are identical in the band). Find all the candidate pairs, and then identify one of them in the list below.\n",
    "\n",
    "<ol>\n",
    "<li>C4 and C7\n",
    "<li>C3 and C4\n",
    "<li>C3 and C6\n",
    "<li>C2 and C4\n",
    "</ol>"
   ]
  },
  {
   "cell_type": "code",
   "execution_count": 30,
   "metadata": {
    "collapsed": false
   },
   "outputs": [
    {
     "name": "stdout",
     "output_type": "stream",
     "text": [
      "Candidate pairs\n",
      "[(1, 4), (2, 5), (1, 6), (1, 3), (4, 7)]\n",
      "\n",
      "1: True\n",
      "2: False\n",
      "3: False\n",
      "4: False\n"
     ]
    }
   ],
   "source": [
    "# Signature matrix\n",
    "S = np.array([\n",
    "     [1, 2, 1, 1, 2, 5, 4],\n",
    "     [2, 3, 4, 2, 3, 2, 2],\n",
    "     [3, 1, 2, 3, 1, 3, 2],\n",
    "     [4, 1, 3, 1, 2, 4, 4],\n",
    "     [5, 2, 5, 1, 1, 5, 1],\n",
    "     [6, 1, 6, 4, 1, 1, 4]])\n",
    "\n",
    "def candidate_pairs(matrix, r = []):\n",
    "    m, n = matrix.shape\n",
    "    for band in range(3):\n",
    "        row1 = matrix[band * 2]\n",
    "        row2 = matrix[band * 2 + 1]\n",
    "        for i, j in combinations(range(n), 2):\n",
    "            if row1[i] == row1[j] and row2[i] == row2[j]:\n",
    "                r.append((i + 1, j + 1))\n",
    "    return r\n",
    "\n",
    "c = candidate_pairs(S)\n",
    "\n",
    "print(\"Candidate pairs\")\n",
    "print(c)\n",
    "print()\n",
    "\n",
    "print(\"1:\", (4, 7) in pairs)\n",
    "print(\"2:\", (3, 4) in pairs)\n",
    "print(\"3:\", (3, 6) in pairs)\n",
    "print(\"4:\", (2, 4) in pairs)"
   ]
  },
  {
   "cell_type": "markdown",
   "metadata": {},
   "source": [
    "## Question 4\n",
    "\n",
    "Find the set of 2-shingles for the \"document\":\n",
    "\n",
    "<p style=\"color:blue\">ABRACADABRA</p>\n",
    "\n",
    "and also for the \"document\":\n",
    "\n",
    "<p style=\"color:blue\">BRICABRAC</p>\n",
    "\n",
    "Answer the following questions:\n",
    "\n",
    "<ol>\n",
    "<li>How many 2-shingles does ABRACADABRA have?\n",
    "<li>How many 2-shingles does BRICABRAC have?\n",
    "<li>How many 2-shingles do they have in common?\n",
    "<li>What is the Jaccard similarity between the two documents\"?\n",
    "</ol>\n",
    "\n",
    "Then, find the true statement in the list below.\n",
    "\n",
    "<ol>\n",
    "<li>BRICABRAC has 6 2-shingles.\n",
    "<li>ABRACADABRA has 7 2-shingles.\n",
    "<li>BRICABRAC has 8 2-shingles.\n",
    "<li>ABRACADABRA has 10 2-shingles.\n",
    "</ol>"
   ]
  },
  {
   "cell_type": "code",
   "execution_count": 35,
   "metadata": {
    "collapsed": false
   },
   "outputs": [
    {
     "name": "stdout",
     "output_type": "stream",
     "text": [
      "7\n",
      "7\n",
      "Overlap: 5\n",
      "Jaccard Similarity: 0.56\n"
     ]
    }
   ],
   "source": [
    "from nltk.util import ngrams\n",
    "\n",
    "d1 = \"ABRACADABRA\"\n",
    "d2 = \"BRICABRAC\"\n",
    "\n",
    "def shingles(word, n):\n",
    "    return set([''.join(w) for w in ngrams(word, n)])\n",
    "    \n",
    "s1 = shingles(d1, 2)\n",
    "s2 = shingles(d2, 2)\n",
    "i = set.intersection(s1, s2)\n",
    "u = set.union(s1, s2)\n",
    "jaccard = len(i) / len(u)\n",
    "\n",
    "print(len(s1))\n",
    "print(len(s2))\n",
    "print(\"Overlap:\", len(i))\n",
    "print(\"Jaccard Similarity:\", round(jaccard, 2))"
   ]
  },
  {
   "cell_type": "markdown",
   "metadata": {},
   "source": [
    "<strike><h2> Question 5 </h2> </strike>"
   ]
  },
  {
   "cell_type": "markdown",
   "metadata": {},
   "source": [
    "## Question 6\n",
    "\n",
    "Suppose we want to assign points to whichever of the points (0,0) or (100,40) is nearer.\n",
    "Depending on whether we use the L1 or L2 norm, a point (x,y) could be clustered with a different\n",
    "one of these two points. For this problem, you should work out the conditions under which a point\n",
    "will be assigned to (0,0) when the L1 norm is used, but assigned to (100,40) when the L2 norm is used.\n",
    "Identify one of those points from the list below.\n",
    "\n",
    "<ol>\n",
    "<li>(54,8)\n",
    "<li>(50,18)\n",
    "<li>(53,10)\n",
    "<li>(57,5)\n",
    "</ol>"
   ]
  },
  {
   "cell_type": "code",
   "execution_count": 57,
   "metadata": {
    "collapsed": false
   },
   "outputs": [
    {
     "name": "stdout",
     "output_type": "stream",
     "text": [
      "Winner\n",
      "[59 10]\n"
     ]
    }
   ],
   "source": [
    "import numpy as np\n",
    "\n",
    "def l1(a, b):\n",
    "    return abs(np.sum(a - b))\n",
    "\n",
    "def l2(a, b):\n",
    "    return math.sqrt(np.sum((a - b)**2))\n",
    "\n",
    "# The points which we calculate the distance to\n",
    "centroids = np.array([\n",
    "        [0, 0],\n",
    "        [100, 40]\n",
    "    ])\n",
    "\n",
    "# The points we want to test\n",
    "points = np.array([\n",
    "        [59,10],\n",
    "        [53,10],\n",
    "        [56,15],\n",
    "        [50,18]\n",
    "        ])\n",
    "\n",
    "winner = 0\n",
    "\n",
    "for p in points:\n",
    "    # Calculate the distances using l1 normalization\n",
    "    l1_p1_dist, l1_p2_dist = l1(p, centroids[0]), l1(p, centroids[1])\n",
    "    # Calculate the distances using l2 normalization\n",
    "    l2_p1_dist, l2_p2_dist = l2(p, centroids[0]), l2(p, centroids[1])\n",
    "    # Identify the point where the distance \n",
    "    if l1_p1_dist < l1_p2_dist and l2_p1_dist > l2_p2_dist or l1_p1_dist > l1_p2_dist and l2_p1_dist < l2_p2_dist:\n",
    "        winner = p\n",
    "\n",
    "print(\"Winner\")\n",
    "print(winner)"
   ]
  },
  {
   "cell_type": "code",
   "execution_count": null,
   "metadata": {
    "collapsed": true
   },
   "outputs": [],
   "source": []
  }
 ],
 "metadata": {
  "kernelspec": {
   "display_name": "Python 3",
   "language": "python",
   "name": "python3"
  },
  "language_info": {
   "codemirror_mode": {
    "name": "ipython",
    "version": 3
   },
   "file_extension": ".py",
   "mimetype": "text/x-python",
   "name": "python",
   "nbconvert_exporter": "python",
   "pygments_lexer": "ipython3",
   "version": "3.4.3"
  }
 },
 "nbformat": 4,
 "nbformat_minor": 0
}

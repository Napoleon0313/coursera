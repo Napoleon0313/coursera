{
 "cells": [
  {
   "cell_type": "markdown",
   "metadata": {},
   "source": [
    "# Week 2C (Advanced)\n",
    "\n",
    "## Question 1\n",
    "\n",
    "Suppose we perform the PCY algorithm to find frequent pairs, with market-basket data meeting the following specifications:\n",
    "\n",
    "<ol>\n",
    "<li>s, the support threshold, is 10,000.\n",
    "<li>There are one million items, which are represented by the integers 0,1,...,999999.\n",
    "<li>There are 250,000 frequent items, that is, items that occur 10,000 times or more.\n",
    "<li>There are one million pairs that occur 10,000 times or more.\n",
    "<li>There are P pairs that occur exactly once and consist of 2 frequent items.\n",
    "<li>No other pairs occur at all.\n",
    "<li>Integers are always represented by 4 bytes.\n",
    "<li>When we hash pairs, they distribute among buckets randomly, but as evenly as possible; i.e., you may assume that each bucket gets exactly its fair share of the P pairs that occur once.\n",
    "</ol>\n",
    "\n",
    "Suppose there are S bytes of main memory. In order to run the PCY algorithm successfully, the number of buckets must be sufficiently large that most buckets are not large. In addition, on the second pass, there must be enough room to count all the candidate pairs. As a function of S, what is the largest value of P for which we can successfully run the PCY algorithm on this data? Demonstrate that you have the correct formula by indicating which of the following is a value for S and a value for P that is approximately (i.e., to within 10%) the largest possible value of P for that S.\n",
    "\n",
    "<ol>\n",
    "<li>S = 1,000,000,000; P = 20,000,000,000\n",
    "<li>S = 100,000,000; P = 540,000,000\n",
    "<li>S = 1,000,000,000; P = 35,000,000,000\n",
    "<li>S = 1,000,000,000; P = 10,000,000,000\n",
    "</ol>"
   ]
  },
  {
   "cell_type": "code",
   "execution_count": 13,
   "metadata": {
    "collapsed": false
   },
   "outputs": [
    {
     "name": "stdout",
     "output_type": "stream",
     "text": [
      "Winner\n",
      "{'P': 20000000000, 'S': 1000000000}\n"
     ]
    }
   ],
   "source": [
    "values = [\n",
    "    {\"S\": 1000000000, \"P\": 20000000000},\n",
    "    {\"S\": 100000000, \"P\": 540000000},\n",
    "    {\"S\": 1000000000, \"P\": 35000000000},\n",
    "    {\"S\": 1000000000, \"P\": 10000000000}]\n",
    "\n",
    "def max_pairs(S):\n",
    "    # Pass 1\n",
    "    # item_count = ITEM_COUNT * 4\n",
    "    # bucket_memory = S - item_count\n",
    "    # num_buckets = bucket_memory / 4\n",
    "\n",
    "    # Pass 2\n",
    "    # frequent_items = FREQ_ITEMS * 4\n",
    "    # bit_map = num_buckets/32\n",
    "    # candidate_pairs = 12 * num_buckets * 4 * (P/S)\n",
    "    return ( S**2 ) / (4.8 * (10**7) )\n",
    "   \n",
    "winner = 0\n",
    "    \n",
    "for v in values:\n",
    "    pairs = max_pairs(v[\"S\"])\n",
    "    interval_min, interval_max = pairs * 0.9, pairs * 1.1\n",
    "    if interval_min <= v[\"P\"] <= interval_max:\n",
    "        winner = v\n",
    "        \n",
    "print(\"Winner\")\n",
    "print(winner)"
   ]
  },
  {
   "cell_type": "markdown",
   "metadata": {
    "collapsed": true
   },
   "source": [
    "## Question 2\n",
    "\n",
    "During a run of Toivonen's Algorithm with set of items {A,B,C,D,E,F,G,H} a sample is found to have the following maximal frequent itemsets: {A,B}, {A,C}, {A,D}, {B,C}, {E}, {F}. Compute the negative border. Then, identify in the list below the set that is NOT in the negative border.\n",
    "\n",
    "<ol>\n",
    "<li>{B,F}\n",
    "<li>{B,D}\n",
    "<li>{D}\n",
    "<li>{B,E}\n",
    "</ol>"
   ]
  },
  {
   "cell_type": "code",
   "execution_count": 12,
   "metadata": {
    "collapsed": false
   },
   "outputs": [
    {
     "name": "stdout",
     "output_type": "stream",
     "text": [
      "Frequent\n",
      "[{'D'}]\n",
      "\n",
      "Negative border\n",
      "[{'B', 'F'}, {'D', 'B'}, {'B', 'E'}]\n"
     ]
    }
   ],
   "source": [
    "\"\"\"\n",
    "Having constructed the collection of frequent itemsets for the sample, we\n",
    "next construct the negative border. This is the collection of itemsets that are not\n",
    "frequent in the sample, but all of their immediate subsets (subsets constructed\n",
    "by deleting exactly one item) are frequent in the sample.\n",
    "\"\"\"\n",
    "\n",
    "# TODO: Rewrite to handle freqent itemsets of length > 2\n",
    "def extend_frequent(sets):\n",
    "    \"\"\" extend our frequent itemsets with all subsets of our frequent itemsets\"\"\"\n",
    "    for f in sets:\n",
    "        if len(f) > 1:\n",
    "            for v in f:\n",
    "                c = f.copy()\n",
    "                c.remove(v)\n",
    "                if c not in sets:\n",
    "                    sets.append(c)\n",
    "    return sets\n",
    "\n",
    "items = set([\"A\", \"B\", \"C\", \"D\", \"E\", \"F\", \"G\", \"H\"])\n",
    "\n",
    "frequent_itemset = [\n",
    "    set([\"A\", \"B\"]),\n",
    "    set([\"A\", \"C\"]),\n",
    "    set([\"A\", \"D\"]),\n",
    "    set([\"B\", \"C\"]),\n",
    "    set([\"E\"]),\n",
    "    set([\"F\"])\n",
    "]\n",
    "\n",
    "# Extend the frequent itemset with all subsets\n",
    "frequent_itemset = extend_frequent(frequent_itemset)\n",
    "\n",
    "test = [\n",
    "    set([\"B\", \"F\"]),\n",
    "    set([\"B\", \"D\"]),\n",
    "    set([\"D\"]),\n",
    "    set([\"B\", \"E\"])]\n",
    "                \n",
    "frequent, negative_border = [], []\n",
    "\n",
    "for t in test:\n",
    "    count, freq = 0, False\n",
    "    # Generate all possible subsets\n",
    "    for v in t:\n",
    "        c = t.copy()\n",
    "        c.remove(v)\n",
    "        for f in frequent_itemset:\n",
    "            # Count all subsets found in the frequent itemset\n",
    "            if c == f:\n",
    "                count += 1\n",
    "            # If test set if a subset of a frequent set -> frequent\n",
    "            if t.issubset(f):\n",
    "                freq = True\n",
    "        # If all subsets are found in the maximal frequent itemsets\n",
    "        if count == len(t):\n",
    "            negative_border.append(t)\n",
    "        if freq:\n",
    "            frequent.append(t)\n",
    "\n",
    "print(\"Frequent\")\n",
    "print(frequent)\n",
    "print()\n",
    "\n",
    "print(\"Negative border\")\n",
    "print(negative_border)"
   ]
  }
 ],
 "metadata": {
  "kernelspec": {
   "display_name": "Python 3",
   "language": "python",
   "name": "python3"
  },
  "language_info": {
   "codemirror_mode": {
    "name": "ipython",
    "version": 3
   },
   "file_extension": ".py",
   "mimetype": "text/x-python",
   "name": "python",
   "nbconvert_exporter": "python",
   "pygments_lexer": "ipython3",
   "version": "3.4.3"
  }
 },
 "nbformat": 4,
 "nbformat_minor": 0
}

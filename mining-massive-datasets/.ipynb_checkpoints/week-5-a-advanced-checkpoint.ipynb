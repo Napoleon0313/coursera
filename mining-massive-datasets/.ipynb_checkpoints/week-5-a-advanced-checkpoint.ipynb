{
 "cells": [
  {
   "cell_type": "markdown",
   "metadata": {},
   "source": [
    "# Week5A (Advanced)\n",
    "\n",
    "## Question 1\n",
    "\n",
    "Consider the diagonal matrix: \n",
    "\n",
    "<table style=\"float:left\">\n",
    "<tr><td>1<td>\t0<td>\t0</tr>\n",
    "<tr><td>0<td>\t2<td>\t0</tr>\n",
    "<tr><td>0<td>\t0<td>\t0</tr>\n",
    "</table>\n",
    "\n",
    "<br clear=\"all\"/>\n",
    "\n",
    "Compute its Moore-Penrose pseudoinverse, and then identify, in the list below, the true statement about the elements of the pseudoinverse.\n",
    "\n",
    "<ol>\n",
    "<li>There is one element with value 0.\n",
    "<li>There is one element with value 1/2.\n",
    "<li>There are seven elements with value infinity.\n",
    "<li>There is one element with value -1.\n",
    "</ol>"
   ]
  },
  {
   "cell_type": "code",
   "execution_count": 2,
   "metadata": {
    "collapsed": false
   },
   "outputs": [
    {
     "name": "stdout",
     "output_type": "stream",
     "text": [
      "Moore-Penrose psudoinverse\n"
     ]
    },
    {
     "data": {
      "text/plain": [
       "array([[ 1. ,  0. ,  0. ],\n",
       "       [ 0. ,  0.5,  0. ],\n",
       "       [ 0. ,  0. ,  0. ]])"
      ]
     },
     "execution_count": 2,
     "metadata": {},
     "output_type": "execute_result"
    }
   ],
   "source": [
    "import numpy as np\n",
    "\n",
    "M = np.diag([1, 2, 0])\n",
    "\n",
    "print(\"Moore-Penrose psudoinverse\")\n",
    "np.linalg.pinv(M)"
   ]
  },
  {
   "cell_type": "markdown",
   "metadata": {},
   "source": [
    "## Question 2\n",
    "\n",
    "An ad publisher selects three ads to place on each page, in order from the top. Click-through rates (CTR's) at each position differ for each advertiser, and each advertiser has a different CTR for each position. Each advertiser bids for click-throughs, and each advertiser has a daily budget, which may not be exceeded. When a click-through occurs, the advertiser pays the amount they bid. In one day, there are 101 click-throughs to be auctioned.\n",
    "Here is a table of the bids, CTR's for positions 1, 2, and 3, and budget for each advertiser.\n",
    "\n",
    "<table style=\"float:left\">\n",
    "<tr><td><b>Advertiser <td><b>\t Bid<td><b>\tCTR1<td><b>\tCTR2<td><b>\tCTR3<td><b>\tBudget</tr>\n",
    "<tr><td>A<td>\t.10<td>\t.015<td>\t.010<td>\t.005<td>\t1</tr>\n",
    "<tr><td>B<td>\t.09<td>\t.016<td>\t.012<td>\t.006<td>\t2</tr>\n",
    "<tr><td>C<td>\t.08<td>\t.017<td>\t.014<td>\t.007<td>\t3</tr>\n",
    "<tr><td>D<td>\t.07<td>\t.018<td>\t.015<td>\t.008<td>\t4</tr>\n",
    "<tr><td>E<td>\t.06<td>\t.019<td>\t.016<td>\t.010<td>\t5</tr>\n",
    "</table>\n",
    "\n",
    "<br clear=\"all\">\n",
    "\n",
    "The publisher uses the following strategy to allocate the three ad slots:\n",
    "\n",
    "Any advertiser whose budget is spent is ignored in what follows.\n",
    "The first slot goes to the advertiser whose expected yield for the first slot (product of the bid and the CTR for the first slot) is the greatest. This advertiser is ignored in what follows.\n",
    "The second slot goes to the advertiser whose expected yield for the second slot (product of the bid and the CTR for the second slot) is the greatest. This advertiser is ignored in what follows.\n",
    "The third slot goes to the advertiser whose expected yield for the third slot (product of the bid and the CTR for the third slot) is the greatest.\n",
    "The same three advertisers get the three ad positions until one of two things happens:\n",
    "\n",
    "An advertiser runs out of budget, or\n",
    "All 101 click-throughs have been obtained.\n",
    "Either of these events ends one phase of the allocation. If a phase ends because an advertiser ran out of budget, then they are assumed to get all the clicks their budget buys. During the same phase, we calculate the number of click-throughs received by the other two advertisers by assuming that all three received click-throughs in proportion to their respective CTR's for their positions (round to the nearest integer). If click-throughs remain, the publisher reallocates all three slots and starts a new phase.\n",
    "\n",
    "If the phase ends because all click-throughs have been allocated, assume that the three advertisers received click-throughs in proportion to their respective CTR's (again, rounding if necessary).\n",
    "\n",
    "Your task is to simulate the allocation of slots and to determine how many click-throughs each of the five advertisers get.\n",
    "\n",
    "<ol>\n",
    "<li>C gets 36 click-throughs.\n",
    "<li>E gets 35 click-throughs.\n",
    "<li>A gets 57 click-throughs.\n",
    "<li>B gets 0 click-throughs.\n",
    "</ol>"
   ]
  },
  {
   "cell_type": "code",
   "execution_count": 131,
   "metadata": {
    "collapsed": false
   },
   "outputs": [
    {
     "name": "stdout",
     "output_type": "stream",
     "text": [
      "[10.0, 22.0, 37.0, 6.0, 25.0]\n"
     ]
    }
   ],
   "source": [
    "#The answer is off by 1 since i do not perform any rounding at the end of an allocation phase.\n",
    "\n",
    "advertisers = [{\"advertiser\": \"A\", \"bid\": 0.10, \"ctr1\": 0.015, \"ctr2\": 0.010, \"ctr3\": 0.005, \"budget\": 1, \"ctr\": 0},\n",
    "               {\"advertiser\": \"B\", \"bid\": 0.09, \"ctr1\": 0.016, \"ctr2\": 0.012, \"ctr3\": 0.006, \"budget\": 2, \"ctr\": 0},\n",
    "               {\"advertiser\": \"C\", \"bid\": 0.08, \"ctr1\": 0.017, \"ctr2\": 0.014, \"ctr3\": 0.007, \"budget\": 3, \"ctr\": 0},\n",
    "               {\"advertiser\": \"D\", \"bid\": 0.07, \"ctr1\": 0.018, \"ctr2\": 0.015, \"ctr3\": 0.008, \"budget\": 4, \"ctr\": 0},\n",
    "               {\"advertiser\": \"E\", \"bid\": 0.06, \"ctr1\": 0.019, \"ctr2\": 0.016, \"ctr3\": 0.010, \"budget\": 5, \"ctr\": 0}]\n",
    "\n",
    "def determine_winner(advertisers, ctr, locked):\n",
    "    bids = [x[\"bid\"] * x[ctr] if x not in locked else 0 for x in advertisers]\n",
    "    max_bid = max(bids)\n",
    "    winner = bids.index(max_bid)\n",
    "    return winner, max_bid\n",
    "\n",
    "click_through_rates = [\"ctr1\", \"ctr2\", \"ctr3\"]\n",
    "\n",
    "while(sum([x[\"ctr\"] for x in advertisers]) < 101):\n",
    "    \n",
    "    # Any advertiser whose budget is spent is ignored in what follows\n",
    "    locked = [x for x in advertisers if x[\"bid\"] * x[\"ctr3\"] > x[\"budget\"]]\n",
    "    \n",
    "    for ctr in click_through_rates:\n",
    "        winner, bid = determine_winner(advertisers, ctr, locked)\n",
    "        advertisers[winner][\"budget\"] -= bid\n",
    "        advertisers[winner][\"ctr\"] += advertisers[winner][ctr]\n",
    "        locked.append(winner)    \n",
    "\n",
    "print([round(x[\"ctr\"], 0) for x in advertisers])   "
   ]
  },
  {
   "cell_type": "markdown",
   "metadata": {},
   "source": [
    "## Question 3\n",
    "\n",
    "In certain clustering algorithms, such as CURE, we need to pick a representative set of points in a supposed cluster, and these points should be as far away from each other as possible. That is, begin with the two furthest points, and at each step add the point whose minimum distance to any of the previously selected points is maximum.\n",
    "Suppose you are given the following points in two-dimensional Euclidean space: x = (0,0); y = (10,10), a = (1,6); b = (3,7); c = (4,3); d = (7,7), e = (8,2); f = (9,5). Obviously, x and y are furthest apart, so start with these. You must add five more points, which we shall refer to as the first, second,..., fifth points in what follows. The distance measure is the normal Euclidean L2-norm. Which of the following is true about the order in which the five points are added?\n",
    "\n",
    "<ol>\n",
    "<li>b is added fourth\n",
    "<li>b is added second\n",
    "<li>d is added second\n",
    "<li>c is added first\n",
    "</ol>"
   ]
  },
  {
   "cell_type": "code",
   "execution_count": 15,
   "metadata": {
    "collapsed": false
   },
   "outputs": [
    {
     "name": "stdout",
     "output_type": "stream",
     "text": [
      "Order\n",
      "[array([8, 2]), array([3, 7]), array([1, 6]), array([9, 5]), array([4, 3]), array([7, 7])]\n",
      "\n",
      "1: [False False]\n",
      "2: [ True  True]\n",
      "3: [False  True]\n",
      "4: [False False]\n"
     ]
    }
   ],
   "source": [
    "def find_l2_distances(centers, points):\n",
    "    \"\"\" returns a distance matrix with the l2 distance between every point and cluster center \"\"\"\n",
    "    distances = []\n",
    "    for c in centers:\n",
    "        l2_distances = [np.linalg.norm(p-c) for p in points]\n",
    "        distances.append(l2_distances)\n",
    "    return distances\n",
    "    \n",
    "def find_furthest_point(distance_matrix):\n",
    "    \"\"\" returns the point furthest from any cluster center \"\"\"\n",
    "    minimum = np.amin(distance_matrix, axis=0)\n",
    "    return np.argmax(minimum)\n",
    "\n",
    "def cure(points, clusters, order = []):\n",
    "    while points.size:\n",
    "        distance_matrix = find_l2_distances(clusters, points)\n",
    "        max_point = find_furthest_point(distance_matrix)\n",
    "        order.append(points[max_point])\n",
    "        clusters = np.append(clusters, points[max_point])\n",
    "        points = np.delete(points, max_point, 0)\n",
    "    return order\n",
    "    \n",
    "clusters = np.array([\n",
    "        (0,0),\n",
    "        (10, 10)\n",
    "])\n",
    "\n",
    "points = np.array([\n",
    "        (1, 6),\n",
    "        (3, 7),\n",
    "        (4, 3),\n",
    "        (7, 7), \n",
    "        (8, 2), \n",
    "        (9, 5)\n",
    "])\n",
    "\n",
    "order = cure(points, clusters);\n",
    "print(\"Order\")\n",
    "print(order)\n",
    "print()\n",
    "\n",
    "print(\"1:\", [3, 7] == order[3])\n",
    "print(\"2:\", [3, 7] == order[1])\n",
    "print(\"3:\", [7, 7] == order[1])\n",
    "print(\"4:\", [4, 3] == order[0])"
   ]
  }
 ],
 "metadata": {
  "kernelspec": {
   "display_name": "Python 3",
   "language": "python",
   "name": "python3"
  },
  "language_info": {
   "codemirror_mode": {
    "name": "ipython",
    "version": 3
   },
   "file_extension": ".py",
   "mimetype": "text/x-python",
   "name": "python",
   "nbconvert_exporter": "python",
   "pygments_lexer": "ipython3",
   "version": "3.4.3"
  }
 },
 "nbformat": 4,
 "nbformat_minor": 0
}

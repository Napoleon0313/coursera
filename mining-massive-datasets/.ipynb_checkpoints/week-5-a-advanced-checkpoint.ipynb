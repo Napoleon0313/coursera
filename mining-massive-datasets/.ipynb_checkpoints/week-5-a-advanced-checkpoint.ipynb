{
 "cells": [
  {
   "cell_type": "markdown",
   "metadata": {},
   "source": [
    "# Week5A (Advanced)\n",
    "\n",
    "## Question 1\n",
    "\n",
    "Consider the diagonal matrix: \n",
    "\n",
    "<table style=\"float:left\">\n",
    "<tr><td>1<td>\t0<td>\t0</tr>\n",
    "<tr><td>0<td>\t2<td>\t0</tr>\n",
    "<tr><td>0<td>\t0<td>\t0</tr>\n",
    "</table>\n",
    "\n",
    "<br clear=\"all\"/>\n",
    "\n",
    "Compute its Moore-Penrose pseudoinverse, and then identify, in the list below, the true statement about the elements of the pseudoinverse.\n",
    "\n",
    "<ol>\n",
    "<li>There is one element with value 0.\n",
    "<li>There is one element with value 1/2.\n",
    "<li>There are seven elements with value infinity.\n",
    "<li>There is one element with value -1.\n",
    "</ol>"
   ]
  },
  {
   "cell_type": "code",
   "execution_count": 1,
   "metadata": {
    "collapsed": false
   },
   "outputs": [
    {
     "data": {
      "text/plain": [
       "array([[ 1. ,  0. ,  0. ],\n",
       "       [ 0. ,  0.5,  0. ],\n",
       "       [ 0. ,  0. ,  0. ]])"
      ]
     },
     "execution_count": 1,
     "metadata": {},
     "output_type": "execute_result"
    }
   ],
   "source": [
    "import numpy as np\n",
    "\n",
    "M = np.diag([1, 2, 0])\n",
    "\n",
    "np.linalg.pinv(M)"
   ]
  },
  {
   "cell_type": "markdown",
   "metadata": {},
   "source": [
    "## Question 3\n",
    "\n",
    "In certain clustering algorithms, such as CURE, we need to pick a representative set of points in a supposed cluster, and these points should be as far away from each other as possible. That is, begin with the two furthest points, and at each step add the point whose minimum distance to any of the previously selected points is maximum.\n",
    "Suppose you are given the following points in two-dimensional Euclidean space: x = (0,0); y = (10,10), a = (1,6); b = (3,7); c = (4,3); d = (7,7), e = (8,2); f = (9,5). Obviously, x and y are furthest apart, so start with these. You must add five more points, which we shall refer to as the first, second,..., fifth points in what follows. The distance measure is the normal Euclidean L2-norm. Which of the following is true about the order in which the five points are added?\n",
    "\n",
    "<ol>\n",
    "<li>b is added fourth\n",
    "<li>b is added second\n",
    "<li>d is added second\n",
    "<li>c is added first\n",
    "</ol>"
   ]
  },
  {
   "cell_type": "code",
   "execution_count": null,
   "metadata": {
    "collapsed": false
   },
   "outputs": [],
   "source": [
    "points = np.array([(1, 6), (3, 7), (4, 3), (7, 7), (8, 2), (9, 5)])\n",
    "\n",
    "cluster = np.array([(0,0), (10, 10)])\n",
    "\n",
    "\n",
    "while points.size:\n",
    "    dist = np.array([])\n",
    "    for c in cluster:\n",
    "        # Add one row with the the distances to each point in rep\n",
    "        distances = [np.linalg.norm(c-x) for x in points]\n",
    "        dist = np.append(dist, distances) \n",
    "        print(dist)\n",
    "    # Find the minimum of each column\n",
    "    minimum = dist.min(axis=0)\n",
    "    # Find the index of the point with the largest minimum distance\n",
    "    maximum = np.argmax(minimum)\n",
    "    # Rempve the point from points and add it to rep"
   ]
  },
  {
   "cell_type": "code",
   "execution_count": null,
   "metadata": {
    "collapsed": true
   },
   "outputs": [],
   "source": []
  }
 ],
 "metadata": {
  "kernelspec": {
   "display_name": "Python 3",
   "language": "python",
   "name": "python3"
  },
  "language_info": {
   "codemirror_mode": {
    "name": "ipython",
    "version": 3
   },
   "file_extension": ".py",
   "mimetype": "text/x-python",
   "name": "python",
   "nbconvert_exporter": "python",
   "pygments_lexer": "ipython3",
   "version": "3.4.3"
  }
 },
 "nbformat": 4,
 "nbformat_minor": 0
}

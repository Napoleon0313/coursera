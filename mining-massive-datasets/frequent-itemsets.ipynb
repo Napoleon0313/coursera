{
 "cells": [
  {
   "cell_type": "markdown",
   "metadata": {},
   "source": [
    "# Week 2B: Frequent Itemsets (Basic)\n",
    "\n",
    "## Question 1\n",
    "\n",
    "Suppose we have transactions that satisfy the following assumptions: \n",
    "\n",
    "<ol>\n",
    "<li>s, the support threshold, is 10,000.\n",
    "<li>There are one million items, which are represented by the integers 0,1,...,999999.\n",
    "<li>There are N frequent items, that is, items that occur 10,000 times or more.\n",
    "<li>There are one million pairs that occur 10,000 times or more.\n",
    "<li>There are 2M pairs that occur exactly once. M of these pairs consist of two frequent items, the other M each have at least one nonfrequent item.\n",
    "<li>No other pairs occur at all.\n",
    "<li>Integers are always represented by 4 bytes.\n",
    "</ol>\n",
    "\n",
    "Suppose we run the a-priori algorithm to find frequent pairs and can choose on the second pass between the triangular-matrix method for counting candidate pairs (a triangular array count[i][j] that holds an integer count for each pair of items (i, j) where i < j) and a hash table of item-item-count triples. Neglect in the first case the space needed to translate between original item numbers and numbers for the frequent items, and in the second case neglect the space needed for the hash table. Assume that item numbers and counts are always 4-byte integers. \n",
    "As a function of N and M, what is the minimum number of bytes of main memory needed to execute the a-priori algorithm on this data? Demonstrate that you have the correct formula by selecting, from the choices below, the triple consisting of values for N, M, and the (approximate, i.e., to within 10%) minumum number of bytes of main memory, S, needed for the a-priori algorithm to execute with this data.\n",
    "\n",
    "<ol>\n",
    "<li>N = 100,000; M = 100,000,000; S = 1,200,000,000\n",
    "<li>N = 50,000; M = 80,000,000; S = 1,500,000,000\n",
    "<li>N = 30,000; M = 100,000,000; S = 500,000,000\n",
    "<li>N = 100,000; M = 50,000,000; S = 5,000,000,000\n",
    "<ol>"
   ]
  },
  {
   "cell_type": "code",
   "execution_count": 7,
   "metadata": {
    "collapsed": false
   },
   "outputs": [
    {
     "name": "stdout",
     "output_type": "stream",
     "text": [
      "1: True\n",
      "2: False\n",
      "3: False\n",
      "4: False\n"
     ]
    }
   ],
   "source": [
    "NUM_ITEMS = 1000000\n",
    "LOWER, UPPER = 0.9, 1.1\n",
    "\n",
    "def triangular_count(n):\n",
    "    # O(n) to convert item names to consecutive integers\n",
    "    # Total number of pairs n(n-1)/2\n",
    "    # This is roughly equal to 2n^2\n",
    "    #return (NUM_ITEMS + (n * (n-1) / 2) ) * 4\n",
    "    return 2*n**2\n",
    "\n",
    "def triple_method(m):\n",
    "    # O(n) to convert item names to consecutive integers\n",
    "    # 3 times the number of pairs\n",
    "    # This is rougly equal to 12*m\n",
    "    #return (NUM_ITEMS + 3 * m) * 4\n",
    "    return 12*m\n",
    "\n",
    "test = [[100000, 100000000, 1200000000],\n",
    "        [50000, 80000000, 1500000000],\n",
    "        [30000, 100000000, 500000000],\n",
    "        [100000, 50000000, 5000000000]]\n",
    "\n",
    "for t in test:\n",
    "    b = min(triangular_count(t[0]), triple_method(t[1]))\n",
    "    l, u = t[2] * LOWER, t[2] * UPPER\n",
    "    if l <= b <= u:\n",
    "        res = t\n",
    "        \n",
    "for i in range(len(test)):\n",
    "    print(str(i+1) + \":\", res == test[i])"
   ]
  },
  {
   "cell_type": "markdown",
   "metadata": {},
   "source": [
    "\n",
    "## Question 2\n",
    "Imagine there are 100 baskets, numbered 1,2,...,100, and 100 items, similarly numbered. Item i is in basket j if and only if i divides j evenly. For example, basket 24 is the set of items {1,2,3,4,6,8,12,24}. Describe all the association rules that have 100% confidence. Which of the following rules has 100% confidence?\n",
    "\n",
    "<ol>\n",
    "<li>{4,6} → 12\n",
    "<li>{1,2} → 4\n",
    "<li>{1,3,6} → 12\n",
    "<li>{1} → 2\n",
    "</ol>"
   ]
  },
  {
   "cell_type": "code",
   "execution_count": 55,
   "metadata": {
    "collapsed": false
   },
   "outputs": [
    {
     "name": "stdout",
     "output_type": "stream",
     "text": [
      "{4, 6} -> 12\n"
     ]
    }
   ],
   "source": [
    "def generate_baskets(b, i):\n",
    "    baskets = []\n",
    "    for i in range(1, b+1):\n",
    "        items = set()\n",
    "        for j in range(1, i+1):\n",
    "            if i % j == 0:\n",
    "                items.add(j)\n",
    "        baskets.append(items)\n",
    "    return baskets\n",
    "        \n",
    "baskets = generate_baskets(100, 100)\n",
    "\n",
    "rules = [\n",
    "        {\"if\": set([1,2]), \"then\": 4},\n",
    "        {\"if\": set([4,6]), \"then\": 12},\n",
    "        {\"if\": set([1,3,6]), \"then\": 12},\n",
    "        {\"if\": set([1]), \"then\": 2}]\n",
    "\n",
    "for rule in rules:\n",
    "    if_, then = 0, 0\n",
    "    for b in baskets:\n",
    "        if rule[\"if\"].issubset(b):\n",
    "            if_ += 1\n",
    "            if rule[\"then\"] in b:\n",
    "                then += 1\n",
    "    if if_ == then:\n",
    "        res = rule\n",
    "        \n",
    "for i in range(len(rules)):\n",
    "    \n",
    "        print(rule[\"if\"], \"->\", rule[\"then\"])"
   ]
  },
  {
   "cell_type": "markdown",
   "metadata": {},
   "source": [
    "## Question 3\n",
    "\n",
    "Suppose ABC is a frequent itemset and BCDE is NOT a frequent itemset. Given this information, we can be sure that certain other itemsets are frequent and sure that certain itemsets are NOT frequent. Other itemsets may be either frequent or not. Which of the following is a correct classification of an itemset?\n",
    "\n",
    "<ol>\n",
    "<li>B can be either frequent or not frequent.\n",
    "<li>BCF is not frequent.\n",
    "<li>AB can be either frequent or not frequent.\n",
    "<li>BC is frequent.\n",
    "</ol>"
   ]
  },
  {
   "cell_type": "code",
   "execution_count": 56,
   "metadata": {
    "collapsed": true
   },
   "outputs": [],
   "source": [
    "# Answer:\n",
    "#1: B is frequent\n",
    "#2: BCF can be either frequent or not frequent\n",
    "#3: AB is frequent\n",
    "#4: BC is frequent"
   ]
  },
  {
   "cell_type": "code",
   "execution_count": null,
   "metadata": {
    "collapsed": true
   },
   "outputs": [],
   "source": []
  }
 ],
 "metadata": {
  "kernelspec": {
   "display_name": "Python 3",
   "language": "python",
   "name": "python3"
  },
  "language_info": {
   "codemirror_mode": {
    "name": "ipython",
    "version": 3
   },
   "file_extension": ".py",
   "mimetype": "text/x-python",
   "name": "python",
   "nbconvert_exporter": "python",
   "pygments_lexer": "ipython3",
   "version": "3.4.3"
  }
 },
 "nbformat": 4,
 "nbformat_minor": 0
}

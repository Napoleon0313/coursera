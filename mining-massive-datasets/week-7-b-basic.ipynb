{
 "cells": [
  {
   "cell_type": "markdown",
   "metadata": {},
   "source": [
    "# Question 1\n",
    "\n",
    "Compute the Topic-Specific PageRank for the following link topology. Assume that pages selected for the teleport set are nodes 1 and 2 and that in the teleport set, the weight assigned for node 1 is twice that of node 2. Assume further that the teleport probability, (1 - beta), is 0.3. Which of the following statements is correct?\n",
    "\n",
    "<img style=\"float:left\" src=\"https://d396qusza40orc.cloudfront.net/mmds/images/otc_pagerank4.gif\"/>\n",
    "<br clear=\"all\"/>\n",
    "\n",
    "<ol>\n",
    "<li>TSPR(1) = .2455\n",
    "<li>TSPR(2) = .2252\n",
    "<li>TSPR(3) = .1092\n",
    "<li>TSPR(2) = .8998\n",
    "</ol>"
   ]
  },
  {
   "cell_type": "code",
   "execution_count": 54,
   "metadata": {
    "collapsed": false
   },
   "outputs": [
    {
     "name": "stdout",
     "output_type": "stream",
     "text": [
      "Topic-Specific Page Rank\n",
      "[ 0.3575  0.2252  0.2462  0.1711]\n",
      "\n",
      "1: False\n",
      "2: True\n",
      "3: False\n",
      "4: False\n"
     ]
    }
   ],
   "source": [
    "import numpy as np\n",
    "\n",
    "# Link Topology\n",
    "G = np.array([\n",
    "        [0.0, 1.0, 0.0, 0.0],\n",
    "        [0.5, 0.0, 0.0, 0.0],\n",
    "        [0.5, 0.0, 0.0, 1.0],\n",
    "        [0.0, 0.0, 1.0, 0.0]\n",
    "    ])\n",
    "\n",
    "# Random teleport matrix\n",
    "N = np.tile(np.array([[2/3, 1/3 ,0, 0]]).T, (1, 4))\n",
    "\n",
    "# Rank Matrix\n",
    "r = np.ones((G.shape[0], 1)) / G.shape[0]\n",
    "\n",
    "# Random jump probability\n",
    "b = 0.7\n",
    "\n",
    "for i in range(10):\n",
    "    r = b * np.dot(G, r) + (1 - b) * np.dot(N, r)\n",
    "   \n",
    "# Round the results\n",
    "r = np.around(r.flatten(), 4)\n",
    "\n",
    "print(\"Topic-Specific Page Rank\")\n",
    "print(r)\n",
    "print()\n",
    "\n",
    "print(\"1:\", r[0] == 0.2455)\n",
    "print(\"2:\", r[1] == 0.2252)\n",
    "print(\"3:\", r[2] == 0.1092)\n",
    "print(\"4:\", r[3] == 0.8998)"
   ]
  },
  {
   "cell_type": "markdown",
   "metadata": {
    "collapsed": true
   },
   "source": [
    "# Question 2\n",
    "\n",
    "The spam-farm architecture described in Section 5.4.1 suffers from the problem that the target page has many links --- one to each supporting page. To avoid that problem, the spammer could use the architecture shown below:\n",
    "\n",
    "<img style=\"float:left\" src=\"https://d396qusza40orc.cloudfront.net/mmds/images/otc_spamfarm1.gif\"/>\n",
    "<br clear=\"all\"/>\n",
    "\n",
    "There, k \"second-tier\" nodes act as intermediaries. The target page t has only to link to the k second-tier pages, and each of those pages links to m/k of the m supporting pages. Each of the supporting pages links only to t (although most of these links are not shown). Suppose the taxation parameter is β = 0.85, and x is the amount of PageRank supplied from outside to the target page. Let n be the total number of pages in the Web. Finally, let y be the PageRank of target page t. If we compute the formula for y in terms of k, m, and n, we get a formula with the form\n",
    "\n",
    "- y = ax + bm/n + ck/n\n",
    "\n",
    "Note: To arrive at this form, it is necessary at the last step to drop a low-order term that is a fraction of 1/n. Determine coefficients a, b, and c, remembering that β is fixed at 0.85. Then, identify the value, correct to two decimal places, for one of these coefficients.\n",
    "\n",
    "1. c = 0.46\n",
    "2. b = 0.33\n",
    "3. b = 0.21\n",
    "4. c = 0.13"
   ]
  },
  {
   "cell_type": "code",
   "execution_count": 58,
   "metadata": {
    "collapsed": false
   },
   "outputs": [
    {
     "name": "stdout",
     "output_type": "stream",
     "text": [
      "1: False\n",
      "2: True\n",
      "3: False\n",
      "4: False\n"
     ]
    }
   ],
   "source": [
    "β = 0.85\n",
    "\n",
    "a = 1.0 / (1 - np.power(β, 3))\n",
    "b = β / (1.0 + β + np.power(β, 2))\n",
    "c = np.power(β, 2) / (1.0 + β + np.power(β, 2))\n",
    "\n",
    "# Round results to 2 decimals\n",
    "a, b, c = round(a, 2), round(b, 2), round(c, 2)\n",
    "\n",
    "print(\"1:\", c == 0.46)\n",
    "print(\"2:\", b == 0.33)\n",
    "print(\"3:\", b == 0.21)\n",
    "print(\"4:\", c == 0.13)"
   ]
  }
 ],
 "metadata": {
  "kernelspec": {
   "display_name": "Python 3",
   "language": "python",
   "name": "python3"
  },
  "language_info": {
   "codemirror_mode": {
    "name": "ipython",
    "version": 3
   },
   "file_extension": ".py",
   "mimetype": "text/x-python",
   "name": "python",
   "nbconvert_exporter": "python",
   "pygments_lexer": "ipython3",
   "version": "3.4.3"
  }
 },
 "nbformat": 4,
 "nbformat_minor": 0
}

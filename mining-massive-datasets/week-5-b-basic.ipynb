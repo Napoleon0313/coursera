{
 "cells": [
  {
   "cell_type": "markdown",
   "metadata": {},
   "source": [
    "# Week5B (Basic)\n",
    "\n",
    "## Question 1\n",
    "\n",
    "We wish to cluster the following set of points:\n",
    "\n",
    "<img src=\"https://d396qusza40orc.cloudfront.net/mmds/images/otc_gold.gif\" style=\"float:left\">\n",
    "\n",
    "<br clear=\"all\"/>\n",
    "\n",
    "into 10 clusters. We initially choose each of the green points (25,125), (44,105), (29,97), (35,63), (55,63), (42,57), (23,40), (64,37), (33,22), and (55,20) as a centroid. Assign each of the gold points to their nearest centroid. (Note: the scales of the horizontal and vertical axes differ, so you really need to apply the formula for distance of points; you can't just \"eyeball\" it.) Then, recompute the centroids of each of the clusters. Do any of the points then get reassigned to a new cluster on the next round? Identify the true statement in the list below. Each statement refers either to a centroid AFTER recomputation of centroids (precise to one decimal place) or to a point that gets reclassified.\n",
    "\n",
    "<ol>\n",
    "<li>There is a centroid after recomputation at (51.1,105.5)\n",
    "<li>There is a centroid after recomputation at (34.3,133.3)\n",
    "<li>There is a centroid after recomputation at (55,63)\n",
    "<li>There is a centroid after recomputation at (46,58.5)\n",
    "</ol>"
   ]
  },
  {
   "cell_type": "code",
   "execution_count": 73,
   "metadata": {
    "collapsed": false
   },
   "outputs": [
    {
     "name": "stdout",
     "output_type": "stream",
     "text": [
      "[[  52.5   25. ]\n",
      " [  34.3  133.3]\n",
      " [  52.5  109.3]\n",
      " [  52.5   61.5]\n",
      " [  36.    90. ]]\n"
     ]
    }
   ],
   "source": [
    "import numpy as np\n",
    "from collections import defaultdict\n",
    "\n",
    "centroids = np.array([(25,125),\n",
    "                      (44,105),\n",
    "                      (29,97),\n",
    "                      (35,63),\n",
    "                      (55,63), \n",
    "                      (42,57), \n",
    "                      (23,40), \n",
    "                      (64,37), \n",
    "                      (33,22), \n",
    "                      (55,20)])\n",
    "\n",
    "points = np.array([(28, 145),\n",
    "                   (65, 140),\n",
    "                   (50, 130), \n",
    "                   (55, 118), \n",
    "                   (38, 115), \n",
    "                   (50, 90), \n",
    "                   (63, 88), \n",
    "                   (43, 83), \n",
    "                   (50, 60), \n",
    "                   (50, 30)])\n",
    "\n",
    "def recompute(d):\n",
    "    centers = []\n",
    "    for k, v in d.items():\n",
    "        l = np.append(v, k).reshape((-1, 2))\n",
    "        centers.append(np.mean(l, axis=0))\n",
    "    return centers\n",
    "        \n",
    "def cluster(points, cluster_centers):\n",
    "    c = defaultdict(list)\n",
    "    for p in points:\n",
    "        d = [np.linalg.norm(x-p) for x in cluster_centers]\n",
    "        m = np.argmin(d)\n",
    "        c[tuple(cluster_centers[m])].append(p)\n",
    "    return c\n",
    "\n",
    "d = cluster(points, centroids)\n",
    "r = np.around(recompute(d), decimals=1)\n",
    "print(r)"
   ]
  },
  {
   "cell_type": "markdown",
   "metadata": {},
   "source": [
    "## Question 2\n",
    "\n",
    "When performing a k-means clustering, success depends very much on the initially chosen points. Suppose that we choose two centroids (a,b) = (5,10) and (c,d) = (20,5), and the data truly belongs to two rectangular clusters, as suggested by the following diagram:\n",
    "\n",
    "<img src=\"https://d396qusza40orc.cloudfront.net/mmds/images/otc_sq-clust.gif\" style=\"float:left\"/>\n",
    "\n",
    "<br clear=\"all\"/>\n",
    "\n",
    "Under what circumstances will the initial clustering be successful? That is, under what conditions will all the yellow points be assigned to the centroid (5,10), while all of the blue points are assigned to cluster (20,5))? Identify in the list below, a pair of rectangles (described by their upper left corner, UL, and their lower-right corner LR) that are successfully clustered.\n",
    "\n",
    "<ol>\n",
    "<li>Yellow: UL=(3,3) and LR=(10,1); Blue: UL=(13,10) and LR=(16,4)\n",
    "<li>Yellow: UL=(6,7) and LR=(11,4); Blue: UL=(14,10) and LR=(23,6)\n",
    "<li>Yellow: UL=(3,15) and LR=(13,7); Blue: UL=(14,10) and LR=(23,6)\n",
    "<li>Yellow: UL=(6,15) and LR=(13,7); Blue: UL=(16,16) and LR=(18,5)\n",
    "</ol>"
   ]
  },
  {
   "cell_type": "code",
   "execution_count": 216,
   "metadata": {
    "collapsed": false
   },
   "outputs": [
    {
     "name": "stdout",
     "output_type": "stream",
     "text": [
      "0 728\n",
      "0 2500\n",
      "198 2500\n",
      "144 1296\n"
     ]
    }
   ],
   "source": [
    "# Simplify. Find the point in the square closest to the center and classify only this point...\n",
    "\n",
    "def assign_to_cluster(p, c):\n",
    "    d = [np.linalg.norm(p-x) for x in c]\n",
    "    return np.argmin(d)\n",
    "\n",
    "def generate_mesh(ul, lr):\n",
    "    delta = np.absolute(ul-lr)\n",
    "    x = np.linspace(lr[0], ul[0], delta[0] + 1)\n",
    "    y = np.linspace(lr[1], ul[1], delta[1] + 1)\n",
    "    return np.meshgrid(x, y)\n",
    "\n",
    "centroids = np.array([[5, 10], [20, 5]])\n",
    "    \n",
    "rectangles = [{\"yellow\": np.array([[3, 3], (10, 1)]), \"blue\": np.array([(13, 10), (16, 4)])},\n",
    "              {\"yellow\": np.array([[6, 7], [11, 4]]), \"blue\": np.array([(14, 10), (23, 6)])},\n",
    "              {\"yellow\": np.array([[3, 15], [13, 7]]), \"blue\": np.array([(14, 10), (23, 6)])},\n",
    "              {\"yellow\": np.array([[6, 15], [13, 7]]), \"blue\": np.array([(16, 16), (18, 5)])}]\n",
    "\n",
    "for r in rectangles:\n",
    "    yxv, yyv = generate_mesh(r[\"yellow\"][0], r[\"yellow\"][1])\n",
    "    bxv, byv = generate_mesh(r[\"blue\"][0], r[\"blue\"][1])\n",
    "    \n",
    "    yellow = 0\n",
    "    for x in yxv.flatten():\n",
    "        for y in yyv.flatten():\n",
    "            yellow += assign_to_cluster(np.array((x, y)), centroids)\n",
    "            \n",
    "    blue = 0\n",
    "    for x in bxv.flatten():\n",
    "        for y in byv.flatten():\n",
    "            blue += assign_to_cluster(np.array((x, y)), centroids)\n",
    "    \n",
    "    print(yellow, blue)"
   ]
  },
  {
   "cell_type": "markdown",
   "metadata": {},
   "source": [
    "## Question 3\n",
    "\n",
    "Suppose we apply the BALANCE algorithm with bids of 0 or 1 only, to a situation where advertiser A bids on query words x and y, while advertiser B bids on query words x and z. Both have a budget of $2. Identify in the list below a sequence of four queries that will certainly be handled optimally by the algorithm.\n",
    "\n",
    "<ol>\n",
    "<li>yyxx\n",
    "<li>xyyz\n",
    "<li>xxxy\n",
    "<li>yxxz\n",
    "</ol>"
   ]
  },
  {
   "cell_type": "code",
   "execution_count": 23,
   "metadata": {
    "collapsed": false
   },
   "outputs": [
    {
     "name": "stdout",
     "output_type": "stream",
     "text": [
      "1: True\n",
      "2: False\n",
      "3: False\n",
      "4: False\n"
     ]
    }
   ],
   "source": [
    "from random import randint\n",
    "\n",
    "def isValid(a, b):\n",
    "    if a[\"budget\"] >= 0 <= b[\"budget\"]:\n",
    "        return True\n",
    "    return False\n",
    "    \n",
    "def determine_outcome(a, b, query):\n",
    "\n",
    "    if len(query) > 0:\n",
    "        \n",
    "        query_word, query = query[0], query[1:]\n",
    "        \n",
    "        # If conflicting interests\n",
    "        if query_word in a[\"bids\"] and query_word in b[\"bids\"]:\n",
    "            \n",
    "            #If draw\n",
    "            if a[\"budget\"] == b[\"budget\"]:\n",
    "                a_copy, b_copy = a.copy(), b.copy()\n",
    "                a_copy[\"budget\"] -= 1\n",
    "                b_copy[\"budget\"] -= 1\n",
    "                # Branch out into all possible outcomes, see if any possible outcome is invalid\n",
    "                return min(determine_outcome(a, b_copy, query), determine_outcome(a_copy, b, query))\n",
    "                \n",
    "            elif a[\"budget\"] > b[\"budget\"]:\n",
    "                a[\"budget\"] -= 1\n",
    "                \n",
    "            else:\n",
    "                b[\"budget\"] -= 1\n",
    "           \n",
    "        # If only advertiser a is interested\n",
    "        elif query_word in a[\"bids\"]:\n",
    "            a[\"budget\"] -= 1\n",
    "            \n",
    "        # If only advertiser b is interested\n",
    "        elif query_word in b[\"bids\"]:\n",
    "            b[\"budget\"] -= 1\n",
    "            \n",
    "        # If no buyers\n",
    "        return determine_outcome(a, b, query)\n",
    "    \n",
    "    # If query sequence has been emptied\n",
    "    else:\n",
    "        return isValid(a, b)\n",
    "\n",
    "query_sequences = [\"yyxx\", \"xyyz\", \"xxxy\", \"yxxz\"]\n",
    "\n",
    "advertiser_a = {\"advertiser\": \"A\", \"budget\": 2.0, \"bids\": [\"x\", \"y\"]}\n",
    "advertiser_b = {\"advertiser\": \"B\", \"budget\": 2.0, \"bids\": [\"x\", \"z\"]}\n",
    "\n",
    "for i, query_sequence in enumerate(query_sequences):\n",
    "    a, b = advertiser_a.copy(), advertiser_b.copy()\n",
    "    print(str(i+1) + \":\", determine_outcome(a, b, query_sequence))  "
   ]
  },
  {
   "cell_type": "markdown",
   "metadata": {},
   "source": [
    "## Question 4\n",
    "\n",
    "The set cover problem is: given a list of sets, find a smallest collection of these sets such that every element in any of the sets is in at least one set of the collection. As we form a collection, we say an element is covered if it is in at least one set of the collection. Note: In this problem, we shall represent sets by concatenating their elements, without brackets or commas. For example, {A,B} will be represented simply as AB. There are many greedy algorithms that could be used to pick a collection of sets that is close to as small as possible. Here are some that you will consider in this problem. Dumb: Select sets for the collection in the order in which they appear on the list. Stop when all elements are covered. Simple: Consider sets in the order in which they appear on the list. When it is considered, select a set if it has at least one element that is not already covered. Stop when all elements are covered. Largest-First: Consider sets in order of their size. If there are ties, break the tie in favor of the one that appears first on the list. When it is considered, select a set if it has at least one element that is not already covered. Stop when all elements are covered. Most-Help: Consider sets in order of the number of elements they contain that are not already covered. If there are ties, break the tie in favor of the one that appears first on the list. Stop when all elements are covered. Here is a list of sets: AB, BC, CD, DE, EF, FG, GH, AH, ADG, ADF First, determine the optimum solution, that is, the fewest sets that can be selected for a collection that covers all eight elements A,B,...,H. Then, determine the sizes of the collections that will be constructed by each of the four algorithms mentioned above. Compute the ratio of the size returned by the algorithm to the optimum size, and identify one of these ratios in the list below, correct to two decimal places.\n",
    "\n",
    "<ol>\n",
    "<li>The ratio for Simple is 1.75\n",
    "<li>The ratio for Largest-First is 1.75\n",
    "<li>The ratio for Dumb is 1.50\n",
    "<li>The ratio for Simple is 2.00\n",
    "</ol>"
   ]
  },
  {
   "cell_type": "code",
   "execution_count": null,
   "metadata": {
    "collapsed": true
   },
   "outputs": [],
   "source": []
  },
  {
   "cell_type": "markdown",
   "metadata": {},
   "source": [
    "## Question 5\n",
    "\n",
    "This bipartite graph:\n",
    "\n",
    "<img src=\"https://d396qusza40orc.cloudfront.net/mmds/images/otc.gif\"/ style=\"float:left\">\n",
    "\n",
    "<br clear=\"all\">\n",
    "\n",
    "Has several perfect matchings. Find all the perfect matchings and then identify, in the list below, a pair of edges that can appear together in a perfect matching.\n",
    "\n",
    "<ol>\n",
    "<li>a0-b0 and a1-b3\n",
    "<li>a1-b2 and a0-b1\n",
    "<li>a4-b3 and a3-b1\n",
    "<li>a2-b0 and a3-b1\n",
    "</ol>"
   ]
  },
  {
   "cell_type": "code",
   "execution_count": 174,
   "metadata": {
    "collapsed": true
   },
   "outputs": [],
   "source": [
    "# Biparte Graph\n",
    "B = [[\"a0\", \"b0\"],\n",
    "     [\"a0\", \"b1\"],\n",
    "     [\"a1\", \"b2\"],\n",
    "     [\"a1\", \"b3\"],\n",
    "     [\"a2\", \"b0\"],\n",
    "     [\"a2\", \"b4\"],\n",
    "     [\"a3\", \"b1\"],\n",
    "     [\"a3\", \"b2\"],\n",
    "     [\"a4\", \"b3\"],\n",
    "     [\"a4\", \"b4\"]]\n",
    "\n"
   ]
  },
  {
   "cell_type": "code",
   "execution_count": null,
   "metadata": {
    "collapsed": true
   },
   "outputs": [],
   "source": []
  }
 ],
 "metadata": {
  "kernelspec": {
   "display_name": "Python 3",
   "language": "python",
   "name": "python3"
  },
  "language_info": {
   "codemirror_mode": {
    "name": "ipython",
    "version": 3
   },
   "file_extension": ".py",
   "mimetype": "text/x-python",
   "name": "python",
   "nbconvert_exporter": "python",
   "pygments_lexer": "ipython3",
   "version": "3.4.3"
  }
 },
 "nbformat": 4,
 "nbformat_minor": 0
}

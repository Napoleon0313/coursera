{
 "cells": [
  {
   "cell_type": "markdown",
   "metadata": {},
   "source": [
    "# Week5B (Basic)\n",
    "\n",
    "## Question 1\n",
    "\n",
    "We wish to cluster the following set of points:\n",
    "\n",
    "<img src=\"https://d396qusza40orc.cloudfront.net/mmds/images/otc_gold.gif\" style=\"float:left\">\n",
    "\n",
    "<br clear=\"all\"/>\n",
    "\n",
    "into 10 clusters. We initially choose each of the green points (25,125), (44,105), (29,97), (35,63), (55,63), (42,57), (23,40), (64,37), (33,22), and (55,20) as a centroid. Assign each of the gold points to their nearest centroid. (Note: the scales of the horizontal and vertical axes differ, so you really need to apply the formula for distance of points; you can't just \"eyeball\" it.) Then, recompute the centroids of each of the clusters. Do any of the points then get reassigned to a new cluster on the next round? Identify the true statement in the list below. Each statement refers either to a centroid AFTER recomputation of centroids (precise to one decimal place) or to a point that gets reclassified.\n",
    "\n",
    "<ol>\n",
    "<li>There is a centroid after recomputation at (51.1,105.5)\n",
    "<li>There is a centroid after recomputation at (34.3,133.3)\n",
    "<li>There is a centroid after recomputation at (55,63)\n",
    "<li>There is a centroid after recomputation at (46,58.5)\n",
    "</ol>"
   ]
  },
  {
   "cell_type": "code",
   "execution_count": 97,
   "metadata": {
    "collapsed": false
   },
   "outputs": [
    {
     "name": "stdout",
     "output_type": "stream",
     "text": [
      "[[  52.5   25. ]\n",
      " [  34.3  133.3]\n",
      " [  52.5  109.3]\n",
      " [  52.5   61.5]\n",
      " [  36.    90. ]]\n"
     ]
    }
   ],
   "source": [
    "import numpy as np\n",
    "from collections import defaultdict\n",
    "\n",
    "centroids = np.array([(25,125),\n",
    "                      (44,105),\n",
    "                      (29,97),\n",
    "                      (35,63),\n",
    "                      (55,63), \n",
    "                      (42,57), \n",
    "                      (23,40), \n",
    "                      (64,37), \n",
    "                      (33,22), \n",
    "                      (55,20)])\n",
    "\n",
    "points = np.array([(28, 145),\n",
    "                   (65, 140),\n",
    "                   (50, 130), \n",
    "                   (55, 118), \n",
    "                   (38, 115), \n",
    "                   (50, 90), \n",
    "                   (63, 88), \n",
    "                   (43, 83), \n",
    "                   (50, 60), \n",
    "                   (50, 30)])\n",
    "\n",
    "def recompute(d):\n",
    "    centers = []\n",
    "    for k, v in d.items():\n",
    "        l = np.append(v, k).reshape((-1, 2))\n",
    "        centers.append(np.mean(l, axis=0))\n",
    "    return centers\n",
    "        \n",
    "def cluster(points, cluster_centers):\n",
    "    c = defaultdict(list)\n",
    "    for p in points:\n",
    "        d = [np.linalg.norm(x-p) for x in cluster_centers]\n",
    "        m = np.argmin(d)\n",
    "        c[tuple(cluster_centers[m])].append(p)\n",
    "    return c\n",
    "\n",
    "d = cluster(points, centroids)\n",
    "r = np.around(recompute(d), decimals=1)\n",
    "print(r)"
   ]
  },
  {
   "cell_type": "markdown",
   "metadata": {},
   "source": [
    "## Question 2\n",
    "\n",
    "When performing a k-means clustering, success depends very much on the initially chosen points. Suppose that we choose two centroids (a,b) = (5,10) and (c,d) = (20,5), and the data truly belongs to two rectangular clusters, as suggested by the following diagram:\n",
    "\n",
    "<img src=\"https://d396qusza40orc.cloudfront.net/mmds/images/otc_sq-clust.gif\" style=\"float:left\"/>\n",
    "\n",
    "<br clear=\"all\"/>\n",
    "\n",
    "Under what circumstances will the initial clustering be successful? That is, under what conditions will all the yellow points be assigned to the centroid (5,10), while all of the blue points are assigned to cluster (20,5))? Identify in the list below, a pair of rectangles (described by their upper left corner, UL, and their lower-right corner LR) that are successfully clustered.\n",
    "\n",
    "<ol>\n",
    "<li>Yellow: UL=(3,3) and LR=(10,1); Blue: UL=(13,10) and LR=(16,4)\n",
    "<li>Yellow: UL=(6,7) and LR=(11,4); Blue: UL=(14,10) and LR=(23,6)\n",
    "<li>Yellow: UL=(3,15) and LR=(13,7); Blue: UL=(14,10) and LR=(23,6)\n",
    "<li>Yellow: UL=(6,15) and LR=(13,7); Blue: UL=(16,16) and LR=(18,5)\n",
    "</ol>"
   ]
  },
  {
   "cell_type": "code",
   "execution_count": 267,
   "metadata": {
    "collapsed": false
   },
   "outputs": [
    {
     "name": "stdout",
     "output_type": "stream",
     "text": [
      "False\n",
      "True\n",
      "False\n",
      "False\n"
     ]
    }
   ],
   "source": [
    "def assign_to_cluster(p, c):\n",
    "    \"\"\" Assign a point the the closest cluster \"\"\"\n",
    "    d = [np.linalg.norm(p-x) for x in c]\n",
    "    return np.argmin(d)\n",
    "\n",
    "def make_mesh_grid(ul, lr):\n",
    "    \"\"\" Generate a meshgrid representing the square \"\"\"\n",
    "    delta = np.absolute(ul-lr) + 1\n",
    "    x = np.linspace(lr[0], ul[0], delta[0])\n",
    "    y = np.linspace(lr[1], ul[1], delta[1])\n",
    "    return np.meshgrid(x, y)\n",
    "\n",
    "# Cluster centers\n",
    "centroids = np.array([[5, 10], [20, 5]])\n",
    "    \n",
    "# Set of rectangles\n",
    "rectangles = [[np.array([(3, 3), (10, 1)]), np.array([(13, 10), (16, 4)])],\n",
    "              [np.array([(6, 7), (11, 4)]), np.array([(14, 10), (23, 6)])],\n",
    "              [np.array([(3, 15), (13, 7)]), np.array([(14, 10), (23, 6)])],\n",
    "              [np.array([(6, 15), (13, 7)]), np.array([(16, 16), (18, 5)])]]\n",
    "\n",
    "# Clustering counts and number of points in each meshgrid\n",
    "counts, points = [], []\n",
    "\n",
    "for rectangle in rectangles:\n",
    "    for color in rectangle:\n",
    "        cluster_count = 0\n",
    "        X, Y = make_mesh_grid(color[0], color[1])\n",
    "        # Calculate the number of points in the meshgrid\n",
    "        points.append(len(X.flatten()) * len(Y.flatten()))\n",
    "        # For every point in the meshgrid\n",
    "        for x in X.flatten():\n",
    "            for y in Y.flatten():\n",
    "                # Check what cluster it is assigned to\n",
    "                cluster_count += assign_to_cluster((x, y), centroids)  \n",
    "        counts.append(cluster_count)\n",
    "\n",
    "# Note that If every point in a rectangle is assigned to yellow the count is 0     \n",
    "for i in range(0, len(points), 2):\n",
    "    print(counts[i] == 0 and counts[i+1] == points[i+1])"
   ]
  },
  {
   "cell_type": "markdown",
   "metadata": {},
   "source": [
    "### Explanation of my MeshGrid approach\n",
    "\n",
    "As a lazy solution to this problem i decided to make use of numpy meshgrid. To give an illustration of why this work i will plot the meshgrids for the first two squares and show how they relate to the cluster centers. In my approach i classify all the meshgrid points and see if they all meshgrid points are assigned to the correct cluster."
   ]
  },
  {
   "cell_type": "code",
   "execution_count": 265,
   "metadata": {
    "collapsed": false
   },
   "outputs": [
    {
     "data": {
      "image/png": "[encoded data removed]",
      "text/plain": [
       "<matplotlib.figure.Figure at 0x10bd47080>"
      ]
     },
     "metadata": {},
     "output_type": "display_data"
    }
   ],
   "source": [
    "%matplotlib inline\n",
    "import matplotlib.pyplot as plt\n",
    "import seaborn; seaborn.set()\n",
    "\n",
    "ax = plt.axes()\n",
    "\n",
    "# Colors: Yellow and Blue\n",
    "colors = [\"y\", \"b\"]\n",
    "\n",
    "ax.scatter(centroids[:,0], centroids[:,1], c=\"r\", marker=\"x\")\n",
    "\n",
    "for i, color in enumerate(rectangles[0]):\n",
    "    X, Y = make_mesh_grid(color[0], color[1])\n",
    "    ax.scatter(X, Y, c = colors[i], marker=\"o\");"
   ]
  },
  {
   "cell_type": "markdown",
   "metadata": {},
   "source": [
    "## Question 3\n",
    "\n",
    "Suppose we apply the BALANCE algorithm with bids of 0 or 1 only, to a situation where advertiser A bids on query words x and y, while advertiser B bids on query words x and z. Both have a budget of $2. Identify in the list below a sequence of four queries that will certainly be handled optimally by the algorithm.\n",
    "\n",
    "<ol>\n",
    "<li>yyxx\n",
    "<li>xyyz\n",
    "<li>xxxy\n",
    "<li>yxxz\n",
    "</ol>"
   ]
  },
  {
   "cell_type": "code",
   "execution_count": 23,
   "metadata": {
    "collapsed": false
   },
   "outputs": [
    {
     "name": "stdout",
     "output_type": "stream",
     "text": [
      "1: True\n",
      "2: False\n",
      "3: False\n",
      "4: False\n"
     ]
    }
   ],
   "source": [
    "def isValid(a, b):\n",
    "    if a[\"budget\"] >= 0 <= b[\"budget\"]:\n",
    "        return True\n",
    "    return False\n",
    "    \n",
    "def determine_outcome(a, b, query):\n",
    "    \"\"\" Simple recursive function to simulate all possible outcomes when using the BALANCE algorithm\"\"\"\n",
    "\n",
    "    if len(query) > 0:\n",
    "        \n",
    "        query_word, query = query[0], query[1:]\n",
    "        \n",
    "        # If conflicting interests\n",
    "        if query_word in a[\"bids\"] and query_word in b[\"bids\"]:\n",
    "            \n",
    "            #If draw\n",
    "            if a[\"budget\"] == b[\"budget\"]:\n",
    "                a_copy, b_copy = a.copy(), b.copy()\n",
    "                a_copy[\"budget\"] -= 1\n",
    "                b_copy[\"budget\"] -= 1\n",
    "                # See if any possible outcomes are invalid\n",
    "                return min(determine_outcome(a, b_copy, query),\n",
    "                           determine_outcome(a_copy, b, query))   \n",
    "            \n",
    "            elif a[\"budget\"] > b[\"budget\"]:\n",
    "                a[\"budget\"] -= 1  \n",
    "                \n",
    "            else:\n",
    "                b[\"budget\"] -= 1\n",
    "           \n",
    "        # If only advertiser a is interested\n",
    "        elif query_word in a[\"bids\"]:\n",
    "            a[\"budget\"] -= 1\n",
    "            \n",
    "        # If only advertiser b is interested\n",
    "        elif query_word in b[\"bids\"]:\n",
    "            b[\"budget\"] -= 1\n",
    "            \n",
    "        # If no buyers\n",
    "        return determine_outcome(a, b, query)\n",
    "    \n",
    "    # If query sequence has been emptied\n",
    "    else:\n",
    "        return isValid(a, b)\n",
    "\n",
    "query_sequences = [\"yyxx\", \"xyyz\", \"xxxy\", \"yxxz\"]\n",
    "\n",
    "advertiser_a = {\"advertiser\": \"A\", \"budget\": 2.0, \"bids\": [\"x\", \"y\"]}\n",
    "advertiser_b = {\"advertiser\": \"B\", \"budget\": 2.0, \"bids\": [\"x\", \"z\"]}\n",
    "\n",
    "for i, query_sequence in enumerate(query_sequences):\n",
    "    a, b = advertiser_a.copy(), advertiser_b.copy()\n",
    "    print(str(i+1) + \":\", determine_outcome(a, b, query_sequence))  "
   ]
  },
  {
   "cell_type": "markdown",
   "metadata": {},
   "source": [
    "## Question 4\n",
    "\n",
    "The set cover problem is: given a list of sets, find a smallest collection of these sets such that every element in any of the sets is in at least one set of the collection. As we form a collection, we say an element is covered if it is in at least one set of the collection. Note: In this problem, we shall represent sets by concatenating their elements, without brackets or commas. For example, {A,B} will be represented simply as AB. There are many greedy algorithms that could be used to pick a collection of sets that is close to as small as possible. Here are some that you will consider in this problem. Dumb: Select sets for the collection in the order in which they appear on the list. Stop when all elements are covered. Simple: Consider sets in the order in which they appear on the list. When it is considered, select a set if it has at least one element that is not already covered. Stop when all elements are covered. Largest-First: Consider sets in order of their size. If there are ties, break the tie in favor of the one that appears first on the list. When it is considered, select a set if it has at least one element that is not already covered. Stop when all elements are covered. Most-Help: Consider sets in order of the number of elements they contain that are not already covered. If there are ties, break the tie in favor of the one that appears first on the list. Stop when all elements are covered. Here is a list of sets: AB, BC, CD, DE, EF, FG, GH, AH, ADG, ADF First, determine the optimum solution, that is, the fewest sets that can be selected for a collection that covers all eight elements A,B,...,H. Then, determine the sizes of the collections that will be constructed by each of the four algorithms mentioned above. Compute the ratio of the size returned by the algorithm to the optimum size, and identify one of these ratios in the list below, correct to two decimal places.\n",
    "\n",
    "<ol>\n",
    "<li>The ratio for Simple is 1.75\n",
    "<li>The ratio for Largest-First is 1.75\n",
    "<li>The ratio for Dumb is 1.50\n",
    "<li>The ratio for Simple is 2.00\n",
    "</ol>"
   ]
  },
  {
   "cell_type": "code",
   "execution_count": 230,
   "metadata": {
    "collapsed": false
   },
   "outputs": [
    {
     "name": "stdout",
     "output_type": "stream",
     "text": [
      "1: True\n",
      "2: False\n",
      "3: False\n",
      "4: False\n"
     ]
    }
   ],
   "source": [
    "NUM_ELEMENTS = 8\n",
    "\n",
    "def dumb(l, collection=set([])):\n",
    "    for i, s in enumerate(l):\n",
    "        collection.update(s)\n",
    "        if len(collection) == NUM_ELEMENTS:\n",
    "            return i + 1\n",
    "        \n",
    "def simple(l, i = 0, collection=set([])):\n",
    "    while len(collection) < NUM_ELEMENTS:\n",
    "        diff = [1 if len(x.difference(collection)) > 0 else 0 for x in l]\n",
    "        j = diff.index(max(diff))\n",
    "        collection.update(l[j])\n",
    "        i += 1\n",
    "    return i  \n",
    "    \n",
    "def largest_first(l, i = 0, collection=set([])):\n",
    "    while len(collection) < NUM_ELEMENTS:\n",
    "        diff = [len(x) for x in l]\n",
    "        j = diff.index(max(diff))\n",
    "        collection.update(l[j])\n",
    "        del l[j]\n",
    "        i += 1\n",
    "    return i\n",
    "    \n",
    "def most_help(l, i = 0, collection=set([])):\n",
    "    while len(collection) < NUM_ELEMENTS:\n",
    "        diff = [len(x.difference(collection)) for x in l]\n",
    "        j = diff.index(max(diff))\n",
    "        collection.update(l[j])\n",
    "        i += 1\n",
    "    return i\n",
    "\n",
    "list_of_sets = [set([\"A\", \"B\"]),\n",
    "                set([\"B\", \"C\"]),\n",
    "                set([\"C\", \"D\"]),\n",
    "                set([\"D\", \"E\"]),\n",
    "                set([\"E\", \"F\"]),\n",
    "                set([\"F\", \"G\"]),\n",
    "                set([\"G\", \"H\"]),\n",
    "                set([\"A\", \"H\"]),\n",
    "                set([\"A\", \"D\", \"G\"]),\n",
    "                set([\"A\", \"D\", \"F\"])]\n",
    "\n",
    "d = dumb(list_of_sets)\n",
    "s = simple(list_of_sets)\n",
    "l = largest_first(list_of_sets.copy())\n",
    "m = most_help(list_of_sets)\n",
    "\n",
    "print(\"1:\", s/m == 1.75)\n",
    "print(\"2:\", l/m == 1.75)\n",
    "print(\"3:\", d/m == 1.5)\n",
    "print(\"4:\", s/m == 2.00)"
   ]
  },
  {
   "cell_type": "markdown",
   "metadata": {},
   "source": [
    "## Question 5\n",
    "\n",
    "This bipartite graph:\n",
    "\n",
    "<img src=\"https://d396qusza40orc.cloudfront.net/mmds/images/otc.gif\"/ style=\"float:left\">\n",
    "\n",
    "<br clear=\"all\">\n",
    "\n",
    "Has several perfect matchings. Find all the perfect matchings and then identify, in the list below, a pair of edges that can appear together in a perfect matching.\n",
    "\n",
    "<ol>\n",
    "<li>a0-b0 and a1-b3\n",
    "<li>a1-b2 and a0-b1\n",
    "<li>a4-b3 and a3-b1\n",
    "<li>a2-b0 and a3-b1\n",
    "</ol>"
   ]
  },
  {
   "cell_type": "code",
   "execution_count": 240,
   "metadata": {
    "collapsed": false
   },
   "outputs": [
    {
     "name": "stdout",
     "output_type": "stream",
     "text": [
      "[[0, 2, 4, 1, 3], [1, 3, 0, 2, 4]]\n"
     ]
    }
   ],
   "source": [
    "def perfect_match(graph, row = 0, selection = []):\n",
    "    if row == len(graph):\n",
    "        perfect_matches.append(selection.copy())    \n",
    "    else:\n",
    "        # For every node in b a points to\n",
    "        for b in graph[row]:\n",
    "            # If a vertice to node b not has been selected\n",
    "            if b not in selection:\n",
    "                selection.append(b)\n",
    "                perfect_match(graph, row + 1, selection)\n",
    "                selection.pop() #Backtrack\n",
    "\n",
    "#Biparte Graph               \n",
    "biparte_graph = [[0, 1],\n",
    "                 [2, 3], \n",
    "                 [0, 4], \n",
    "                 [1, 2], \n",
    "                 [3, 4]]\n",
    "\n",
    "perfect_matches = []\n",
    "perfect_match(B)\n",
    "print(perfect_matches)"
   ]
  },
  {
   "cell_type": "code",
   "execution_count": null,
   "metadata": {
    "collapsed": true
   },
   "outputs": [],
   "source": []
  }
 ],
 "metadata": {
  "kernelspec": {
   "display_name": "Python 3",
   "language": "python",
   "name": "python3"
  },
  "language_info": {
   "codemirror_mode": {
    "name": "ipython",
    "version": 3
   },
   "file_extension": ".py",
   "mimetype": "text/x-python",
   "name": "python",
   "nbconvert_exporter": "python",
   "pygments_lexer": "ipython3",
   "version": "3.4.3"
  }
 },
 "nbformat": 4,
 "nbformat_minor": 0
}

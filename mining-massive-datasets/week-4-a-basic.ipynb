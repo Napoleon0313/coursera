{
 "cells": [
  {
   "cell_type": "markdown",
   "metadata": {},
   "source": [
    "# Week4A (Basic)\n",
    "\n",
    "## Question 1\n",
    "\n",
    "Here is a table of 1-5 star ratings for five movies (M, N, P. Q. R) by three raters (A, B, C).\n",
    "\n",
    "<table style=\"float:left\">\n",
    "<tr><td><td>M<td>N<td>P<td>Q<td>R</tr>\n",
    "<tr><td>A<td>1<td>2<td>3<td>4<td>5</tr>\n",
    "<tr><td>B<td>2<td>3<td>2<td>5<td>3</tr>\n",
    "<tr><td>C<td>5<td>5<td>5<td>3<td>2</tr>\n",
    "</table>\n",
    "\n",
    "<br clear=\"all\">\n",
    "\n",
    "Normalize the ratings by subtracting the average for each row and then subtracting the average for each column in the resulting table. Then, identify the true statement about the normalized table.\n",
    "\n",
    "<ol>\n",
    "<li>There are more 0's than 1's.\n",
    "<li>The entry (C,P) is 4/3.\n",
    "<li>The largest element is (B,Q).\n",
    "<li>The largest element is (C,M).\n",
    "</ol>"
   ]
  },
  {
   "cell_type": "code",
   "execution_count": 94,
   "metadata": {
    "collapsed": false
   },
   "outputs": [
    {
     "name": "stdout",
     "output_type": "stream",
     "text": [
      "[[-1.333 -1.     0.     0.333  2.   ]\n",
      " [-0.333  0.    -1.     1.333  0.   ]\n",
      " [ 1.667  1.     1.    -1.667 -2.   ]]\n",
      "1 [ True]\n",
      "2: False\n",
      "3: False\n",
      "4: False\n"
     ]
    }
   ],
   "source": [
    "import numpy as np\n",
    "from scipy.stats import itemfreq\n",
    "\n",
    "R = np.array([\n",
    "            [1, 2, 3, 4, 5],\n",
    "            [2, 3, 2, 5, 3],\n",
    "            [5, 5, 5, 3, 2] \n",
    "        ])\n",
    "\n",
    "avg_row = np.mean(R, axis=1)\n",
    "R = (R.T - avg_row).T\n",
    "\n",
    "avg_col = np.mean(R, axis=0)\n",
    "R = R - avg_col\n",
    "\n",
    "print(np.around(R, decimals=3))\n",
    "\n",
    "unique, counts = np.unique(R, return_counts=True)\n",
    "\n",
    "print(\"1\", counts[np.where(unique==0)] > counts[np.where(unique==1)])\n",
    "print(\"2:\", R[2, 2] == 4/3)\n",
    "print(\"3:\", np.max(R) == R[1, 3])\n",
    "print(\"4:\", np.max(R) == R[2, 0])"
   ]
  },
  {
   "cell_type": "markdown",
   "metadata": {},
   "source": [
    "## Question 2\n",
    "\n",
    "Below is a table giving the profile of three items.\n",
    "\n",
    "<table style=\"float:left\">\n",
    "<tr><td>A<td>1<td>0<td>1<td>0<td>1<td>2</tr>\n",
    "<tr><td>B<td>1<td>1<td>0<td>0<td>1<td>6</tr>\n",
    "<tr><td>C<td>0<td>1<td>0<td>1<td>0<td>2</tr>\n",
    "</table>\n",
    "\n",
    "<br clear=\"all\">\n",
    "\n",
    "The first five attributes are Boolean, and the last is an integer \"rating.\" Assume that the scale factor for the rating is α. Compute, as a function of α, the cosine distances between each pair of profiles. For each of α = 0, 0.5, 1, and 2, determine the cosine of the angle between each pair of vectors. Which of the following is FALSE?\n",
    "\n",
    "<ol>\n",
    "<li>For α = 0, B is closer to A than C is.\n",
    "<li>For α = 1, B is closer to A than C is.\n",
    "<li>For α = 2, B is closer to A than C is.\n",
    "<li>For α = 0, C is closer to A than B is.\n",
    "</ol>"
   ]
  },
  {
   "cell_type": "code",
   "execution_count": 103,
   "metadata": {
    "collapsed": false
   },
   "outputs": [
    {
     "name": "stdout",
     "output_type": "stream",
     "text": [
      "1: False\n",
      "2: False\n",
      "3: False\n",
      "4: True\n"
     ]
    }
   ],
   "source": [
    "from scipy.spatial.distance import cosine\n",
    "\n",
    "R = np.array([[1, 0, 1, 0, 1, 2],\n",
    "              [1, 1, 0, 0, 1, 6],\n",
    "              [0, 1, 0, 1, 0, 2]])\n",
    "\n",
    "α = [0, 0.5, 1, 2]\n",
    "\n",
    "def calculate_cosine(a, b, α):\n",
    "    a[-1], b[-1] = a[-1] * α, b[-1] * α\n",
    "    return cosine(a, b)\n",
    "\n",
    "print(\"1:\", calculate_cosine(R[0], R[1], α[0]) > calculate_cosine(R[0], R[2], α[0]))\n",
    "print(\"2:\", calculate_cosine(R[0], R[1], α[0]) > calculate_cosine(R[0], R[2], α[2]))\n",
    "print(\"3:\", calculate_cosine(R[0], R[1], α[0]) > calculate_cosine(R[0], R[2], α[3]))\n",
    "print(\"4:\", calculate_cosine(R[2], R[1], α[0]) < calculate_cosine(R[0], R[2], α[1]))"
   ]
  },
  {
   "cell_type": "code",
   "execution_count": null,
   "metadata": {
    "collapsed": true
   },
   "outputs": [],
   "source": []
  }
 ],
 "metadata": {
  "kernelspec": {
   "display_name": "Python 3",
   "language": "python",
   "name": "python3"
  },
  "language_info": {
   "codemirror_mode": {
    "name": "ipython",
    "version": 3
   },
   "file_extension": ".py",
   "mimetype": "text/x-python",
   "name": "python",
   "nbconvert_exporter": "python",
   "pygments_lexer": "ipython3",
   "version": "3.4.3"
  }
 },
 "nbformat": 4,
 "nbformat_minor": 0
}

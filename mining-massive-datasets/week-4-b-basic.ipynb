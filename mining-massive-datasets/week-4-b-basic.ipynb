{
 "cells": [
  {
   "cell_type": "markdown",
   "metadata": {},
   "source": [
    "# Week4B (Basic)"
   ]
  },
  {
   "cell_type": "markdown",
   "metadata": {},
   "source": [
    "## Question 1\n",
    "\n",
    "Note: In this question, all columns will be written in their transposed form, as rows, to make the typography simpler. Matrix M has three rows and two columns, and the columns form an orthonormal basis. One of the columns is [2/7,3/7,6/7]. There are many options for the second column [x,y,z]. Write down those constraints on x, y, and z. Then, identify in the list below the one column that could be [x,y,z]. All components are computed to three decimal places, so the constraints may be satisfied only to a close approximation.\n",
    "\n",
    "<ol>\n",
    "<li>[-.297, .890, -.346]\n",
    "<li>[.312, .156, -.937]\n",
    "<li>[1.125, .500, -.625]\n",
    "<li>[-.548, .401, .273]\n",
    "</ol>"
   ]
  },
  {
   "cell_type": "code",
   "execution_count": 6,
   "metadata": {
    "collapsed": false
   },
   "outputs": [
    {
     "name": "stdout",
     "output_type": "stream",
     "text": [
      "1: True\n",
      "2: False\n",
      "3: False\n",
      "4: False\n"
     ]
    }
   ],
   "source": [
    "import numpy as np\n",
    "\n",
    "def is_orthonomal(m):\n",
    "    i, j = m[:,0], m[:,1]\n",
    "    if np.dot(i.T, j) != 0 or np.around(np.dot(j.T, j), decimals=3) != 1:\n",
    "        return False\n",
    "    return True\n",
    "\n",
    "M = np.array([\n",
    "    [2/7, 0],\n",
    "    [3/7, 0],\n",
    "    [6/7, 0]\n",
    "])\n",
    "\n",
    "columns = np.array([\n",
    "        [-0.297, 0.890, -0.346],\n",
    "        [0.312, 0.156, -0.937],\n",
    "        [1.125, 0.500, -0.625],\n",
    "        [-0.548, 0.401, 0.273]])\n",
    "\n",
    "for i, c in enumerate(columns):\n",
    "    M[:, 1] = c.T\n",
    "    print(str(i+1) + \":\", is_orthonomal(M))"
   ]
  },
  {
   "cell_type": "markdown",
   "metadata": {},
   "source": [
    "## Question 2\n",
    "\n",
    "Note: In this question, all columns will be written in their transposed form, as rows, to make the typography simpler. Matrix M has three rows and three columns, and the columns form an orthonormal basis. One of the columns is [2/7,3/7,6/7], and another is [6/7, 2/7, -3/7]. Let the third column be [x,y,z]. Since the length of the vector [x,y,z] must be 1, there is a constraint that x2+y2+z2 = 1. However, there are other constraints, and these other constraints can be used to deduce facts about the ratios among x, y, and z. Compute these ratios, and then identify one of them in the list below.\n",
    "\n",
    "<ol>\n",
    "<li>y = -2x\n",
    "<li>2z = 3x\n",
    "<li>2x = -3z\n",
    "<li>x = 2y\n",
    "</ol>\n",
    "\n",
    "### Solution\n",
    "\n",
    "2x + 3y + 6z = 0\n",
    "\n",
    "6x + 2y - 3z = 0\n",
    "\n",
    "-4x + y + 4z = 0\n",
    "\n",
    "<b>y = -2x</b>"
   ]
  },
  {
   "cell_type": "markdown",
   "metadata": {},
   "source": [
    "## Question 3\n",
    "\n",
    "Suppose we have three points in a two dimensional space: (1,1), (2,2), and (3,4). We want to perform PCA on these points, so we construct a 2-by-2 matrix whose eigenvectors are the directions that best represent these three points. Construct this matrix and identify, in the list below, one of its elements.\n",
    "\n",
    "<ol>\n",
    "<li>15\n",
    "<li>23\n",
    "<li>14\n",
    "<li>11\n",
    "</ol>"
   ]
  },
  {
   "cell_type": "code",
   "execution_count": 66,
   "metadata": {
    "collapsed": false
   },
   "outputs": [
    {
     "name": "stdout",
     "output_type": "stream",
     "text": [
      "1: False\n",
      "2: False\n",
      "3: True\n",
      "4: False\n"
     ]
    }
   ],
   "source": [
    "X = np.array([\n",
    "    [1, 1],\n",
    "    [2, 2],\n",
    "    [3, 4]\n",
    "])\n",
    "\n",
    "t = [15, 23, 14, 11]\n",
    "\n",
    "e = np.dot(X.T, X).flatten()\n",
    "\n",
    "print(\"1:\", t[0] in e)\n",
    "print(\"2:\", t[1] in e)\n",
    "print(\"3:\", t[2] in e)\n",
    "print(\"4:\", t[3] in e)"
   ]
  },
  {
   "cell_type": "markdown",
   "metadata": {},
   "source": [
    "## Question 4\n",
    "\n",
    "Find, in the list below, the vector that is orthogonal to the vector [1,2,3]. Note: the interesting concept regarding eigenvectors is \"orthonormal,\" that is unit vectors that are orthogonal. However, this question avoids using unit vectors to make the calculations simpler.\n",
    "\n",
    "<ol>\n",
    "<li>[-3, 4, -2]\n",
    "<li>[-4, -1, 2]\n",
    "<li>[1, 0, 0]\n",
    "<li>[-1, 1, -1]\n",
    "</ol>"
   ]
  },
  {
   "cell_type": "code",
   "execution_count": 9,
   "metadata": {
    "collapsed": false
   },
   "outputs": [
    {
     "name": "stdout",
     "output_type": "stream",
     "text": [
      "1: False\n",
      "2: True\n",
      "3: False\n",
      "4: False\n"
     ]
    }
   ],
   "source": [
    "def is_orthogonal(a, b):\n",
    "    if np.dot(a.T, b) != 0:\n",
    "        return False\n",
    "    return True\n",
    "    \n",
    "M = np.array([[1],\n",
    "              [2],\n",
    "              [3]])\n",
    "\n",
    "vec = np.array([\n",
    "        [-3, 4, -2],\n",
    "        [-4, -1, 2],\n",
    "        [1, 0, 0],\n",
    "        [-1, 1, -1]\n",
    "])\n",
    "\n",
    "for i, v in enumerate(vec):\n",
    "    print(str(i+1) + \":\", is_orthogonal(M, v.T))"
   ]
  },
  {
   "cell_type": "code",
   "execution_count": null,
   "metadata": {
    "collapsed": true
   },
   "outputs": [],
   "source": []
  }
 ],
 "metadata": {
  "kernelspec": {
   "display_name": "Python 3",
   "language": "python",
   "name": "python3"
  },
  "language_info": {
   "codemirror_mode": {
    "name": "ipython",
    "version": 3
   },
   "file_extension": ".py",
   "mimetype": "text/x-python",
   "name": "python",
   "nbconvert_exporter": "python",
   "pygments_lexer": "ipython3",
   "version": "3.4.3"
  }
 },
 "nbformat": 4,
 "nbformat_minor": 0
}

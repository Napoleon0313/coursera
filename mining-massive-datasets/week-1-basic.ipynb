{
 "cells": [
  {
   "cell_type": "markdown",
   "metadata": {},
   "source": [
    "# Week 1 - Quiz\n",
    "\n",
    "## Question 1:\n",
    "\n",
    "Consider three Web pages with the following links:\n",
    "\n",
    "<img src=\"https://d396qusza40orc.cloudfront.net/mmds/images/otc_pagerank2.gif\" style=\"float:left\">\n",
    "\n",
    "<br style=\"clear:both\" />\n",
    "\n",
    "Suppose we compute PageRank with a β of 0.7, and we introduce the additional constraint that the sum of the PageRanks of the three pages must be 3, to handle the problem that otherwise any multiple of a solution will also be a solution. Compute the PageRanks a, b, and c of the three pages A, B, and C, respectively. Then, identify from the list below, the true statement.\n",
    "\n",
    "<ol>\n",
    "<li> a + c = 2.595\n",
    "<li> a + c = 2.035\n",
    "<li> b + c = 2.5\n",
    "<li> b + c = 2.735\n",
    "</ol>\n",
    "\n"
   ]
  },
  {
   "cell_type": "code",
   "execution_count": 9,
   "metadata": {
    "collapsed": false
   },
   "outputs": [
    {
     "name": "stdout",
     "output_type": "stream",
     "text": [
      "Rank Matrix\n",
      "[[ 0.3  ]\n",
      " [ 0.405]\n",
      " [ 2.295]]\n",
      "\n",
      "1: True\n",
      "2: False\n",
      "3: False\n",
      "4: False\n"
     ]
    }
   ],
   "source": [
    "import numpy as np\n",
    "\n",
    "# Probability of following the link\n",
    "b = 0.7\n",
    "\n",
    "# Rank matrix\n",
    "r = np.matrix([1/3, 1/3, 1/3]).T\n",
    "\n",
    "# Graph\n",
    "M = np.matrix([\n",
    "        [0, 0, 0],\n",
    "        [1/2, 0, 0],\n",
    "        [1/2, 1, 1]\n",
    "    ])\n",
    "\n",
    "# Random teleport matrix\n",
    "N = np.matrix([1/3, 1/3, 1/3]).T\n",
    "\n",
    "for i in range(100):\n",
    "    r = b * M * r + (1 - b) * N\n",
    "\n",
    "# Sum of pagerank should equal 3    \n",
    "r = r*3\n",
    "\n",
    "print(\"Rank Matrix\")\n",
    "print(r)\n",
    "print()\n",
    "\n",
    "a, b, c = r.flat[0], r.flat[1], r.flat[2]\n",
    "\n",
    "print(\"1:\", round(a + c, 3) == 2.595)\n",
    "print(\"2:\", round(a + c, 3) == 2.035)\n",
    "print(\"3:\", round(b + c, 3) == 2.5)\n",
    "print(\"4:\", round(b + c, 3) == 2.735)"
   ]
  },
  {
   "cell_type": "markdown",
   "metadata": {},
   "source": [
    "## Question 2\n",
    "\n",
    "Consider three Web pages with the following links:\n",
    "\n",
    "<img src=\"https://d396qusza40orc.cloudfront.net/mmds/images/otc_pagerank3.gif\" style=\"float:left\">\n",
    "\n",
    "<br style=\"clear:both\" />\n",
    "\n",
    "Suppose we compute PageRank with β=0.85. Write the equations for the PageRanks a, b, and c of the three pages A, B, and C, respectively. Then, identify in the list below, one of the equations.\n",
    "\n",
    "<ol>\n",
    "<li>a = c + 0.15b\n",
    "<li>0.95b = 0.475a + 0.05c\n",
    "<li>85b = 0.575a + 0.15c\n",
    "<li>0.85a = c + 0.15b\n",
    "</ol>"
   ]
  },
  {
   "cell_type": "code",
   "execution_count": 21,
   "metadata": {
    "collapsed": false
   },
   "outputs": [
    {
     "name": "stdout",
     "output_type": "stream",
     "text": [
      "Rank Matrix\n",
      "[[ 0.38778971]\n",
      " [ 0.21481063]\n",
      " [ 0.39739966]]\n",
      "\n",
      "1: False\n",
      "2: True\n",
      "3: False\n",
      "4: False\n"
     ]
    }
   ],
   "source": [
    "# Probability of following the link\n",
    "b = 0.85\n",
    "\n",
    "# Graph\n",
    "M = np.matrix([\n",
    "        [0, 0, 1],\n",
    "        [1/2, 0, 0],\n",
    "        [1/2, 1, 0]\n",
    "    ])\n",
    "\n",
    "# Rank matrix\n",
    "r = np.matrix([1/3, 1/3, 1/3]).T\n",
    "\n",
    "for i in range(100):\n",
    "    r = b * M * r + (1 - b) * N\n",
    "\n",
    "print(\"Rank Matrix\")\n",
    "print(r)\n",
    "print()    \n",
    "    \n",
    "a, b, c = r.flat[0], r.flat[1], r.flat[2]\n",
    "\n",
    "print(\"1:\", round(a, 3) ==  round(c + 0.15 * b, 3))\n",
    "print(\"2:\", round(0.95 * b, 3) == round(0.475 * a + 0.05 * c, 3))\n",
    "print(\"3:\", round(85 * b, 3) == round(0.575 * a + 0.15 * c, 3))\n",
    "print(\"4:\", round(0.85 * a, 3) == round(0.575 * a + 0.15 * c,3))"
   ]
  },
  {
   "cell_type": "markdown",
   "metadata": {},
   "source": [
    "##  Question 3\n",
    "\n",
    "Consider three Web pages with the following links:\n",
    "\n",
    "<img src=\"https://d396qusza40orc.cloudfront.net/mmds/images/otc_pagerank3.gif\" style=\"float:left\">\n",
    "\n",
    "<br style=\"clear:both\" />\n",
    "\n",
    "Assuming no \"taxation,\" compute the PageRanks a, b, and c of the three pages A, B, and C, using iteration, starting with the \"0th\" iteration where all three pages have rank a = b = c = 1. Compute as far as the 5th iteration, and also determine what the PageRanks are in the limit. Then, identify the true statement from the list below.\n",
    "\n",
    "<ol>\n",
    "<li>Interation 5, b = 9/16\n",
    "<li>After iteration 4, c = 11/8\n",
    "<li>After iteration 5, b = 5/8 V\n",
    "<li>In the limit, a = 1\n",
    "</ol>"
   ]
  },
  {
   "cell_type": "code",
   "execution_count": 13,
   "metadata": {
    "collapsed": false
   },
   "outputs": [
    {
     "name": "stdout",
     "output_type": "stream",
     "text": [
      "Rank Matrix - Iteration 4\n",
      "[[ 1.25]\n",
      " [ 0.5 ]\n",
      " [ 1.25]]\n",
      "\n",
      "Rank Matrix - Iteration 5\n",
      "[[ 1.25 ]\n",
      " [ 0.625]\n",
      " [ 1.125]]\n",
      "\n",
      "Rank Matrix\n",
      "[[ 1.2]\n",
      " [ 0.6]\n",
      " [ 1.2]]\n",
      "\n",
      "1: False\n",
      "2: False\n",
      "3: True\n",
      "4: False\n"
     ]
    }
   ],
   "source": [
    "# Rank matrix\n",
    "r = np.matrix([1, 1, 1]).T\n",
    "\n",
    "for i in range(1, 100):\n",
    "    r = M * r\n",
    "    if i == 4:\n",
    "        r_4 = r\n",
    "    if i == 5:\n",
    "        r_5 = r    \n",
    "        \n",
    "print(\"Rank Matrix - Iteration 4\")\n",
    "print(r_4)\n",
    "print() \n",
    "\n",
    "print(\"Rank Matrix - Iteration 5\")\n",
    "print(r_5)\n",
    "print() \n",
    "\n",
    "print(\"Rank Matrix\")\n",
    "print(r)\n",
    "print() \n",
    "\n",
    "a, b, c = r.flat[0], r.flat[1], r.flat[2]\n",
    "\n",
    "print(\"1:\", round(r_5.flat[1], 3) == 9/16)\n",
    "print(\"2:\", round(r_4.flat[2], 3) == 11/8)\n",
    "print(\"3:\", round(r_5.flat[1], 3) == 5/8)\n",
    "print(\"4:\", round(a, 3) == 1)"
   ]
  },
  {
   "cell_type": "markdown",
   "metadata": {
    "collapsed": true
   },
   "source": [
    "## Question 4\n",
    "\n",
    "Suppose our input data to a map-reduce operation consists of integer values (the keys are not important). The map function takes an integer i and produces the list of pairs (p,i) such that p is a prime divisor of i. For example, $map(12) = [(2,12), (3,12)]$.\n",
    "The reduce function is addition. That is, $reduce(p, [i_1, i_2, ...,i_k])$ is $(p,i_1+i_2+...+i_k).$\n",
    "\n",
    "Compute the output, if the input is the set of integers 15, 21, 24, 30, 49. Then, identify, in the list below, one of the pairs in the output.\n",
    "\n",
    "<ol>\n",
    "<li>(7,119)\n",
    "<li>(7,70)\n",
    "<li>(2,102)\n",
    "<li>(5,49)\n",
    "</ol>"
   ]
  },
  {
   "cell_type": "code",
   "execution_count": 23,
   "metadata": {
    "collapsed": false
   },
   "outputs": [
    {
     "name": "stdout",
     "output_type": "stream",
     "text": [
      "Output\n",
      "dict_items([(2, 54), (3, 90), (5, 45), (7, 70)])\n",
      "\n",
      "1: False\n",
      "2: True\n",
      "3: False\n",
      "4: False\n"
     ]
    }
   ],
   "source": [
    "import math\n",
    "from collections import defaultdict\n",
    "\n",
    "def fac(n):\n",
    "    return [x for x in range(2, n+1) if n % x == 0 and is_prime(x)]\n",
    "\n",
    "def is_prime(n):\n",
    "    if n % 2 == 0 and n > 2: \n",
    "        return False\n",
    "    return all(n % i for i in range(3, int(math.sqrt(n)) + 1, 2))\n",
    "\n",
    "def map(f):\n",
    "    return [(x, f) for x in fac(f)]\n",
    "\n",
    "def reduce(o):\n",
    "    groups = defaultdict(int)\n",
    "    for key, value in o:\n",
    "        groups[key] += value\n",
    "    return groups\n",
    "\n",
    "inputs = [15, 21, 24, 30, 49]\n",
    "\n",
    "pairs = []\n",
    "\n",
    "for input in inputs:\n",
    "    pairs.extend(map(input))\n",
    "\n",
    "output = reduce(pairs)\n",
    "\n",
    "print(\"Output\")\n",
    "print(output.items())\n",
    "print()\n",
    "    \n",
    "print(\"1:\", output[7] == 119)\n",
    "print(\"2:\", output[7] == 70)\n",
    "print(\"3:\", output[2] == 102)\n",
    "print(\"4:\", output[5] == 49)"
   ]
  },
  {
   "cell_type": "code",
   "execution_count": null,
   "metadata": {
    "collapsed": true
   },
   "outputs": [],
   "source": []
  }
 ],
 "metadata": {
  "kernelspec": {
   "display_name": "Python 3",
   "language": "python",
   "name": "python3"
  },
  "language_info": {
   "codemirror_mode": {
    "name": "ipython",
    "version": 3
   },
   "file_extension": ".py",
   "mimetype": "text/x-python",
   "name": "python",
   "nbconvert_exporter": "python",
   "pygments_lexer": "ipython3",
   "version": "3.4.3"
  }
 },
 "nbformat": 4,
 "nbformat_minor": 0
}

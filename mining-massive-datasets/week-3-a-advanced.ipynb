{
 "cells": [
  {
   "cell_type": "markdown",
   "metadata": {},
   "source": [
    "# Week3A (Advanced)\n",
    "\n",
    "## Question 1\n",
    "\n",
    "For the following graph:"
   ]
  },
  {
   "cell_type": "code",
   "execution_count": 37,
   "metadata": {
    "collapsed": false
   },
   "outputs": [],
   "source": [
    "\"\"\"\n",
    "   C -- D -- E\n",
    " / |    |    | \\\n",
    "A  |    |    |  B\n",
    " \\ |    |    | /\n",
    "   F -- G -- H\n",
    "\"\"\";"
   ]
  },
  {
   "cell_type": "markdown",
   "metadata": {},
   "source": [
    "Write the adjacency matrix A, the degree matrix D, and the Laplacian matrix L. For each, find the sum of all entries and the number of nonzero entries. Then identify the true statement from the list below.\n",
    "\n",
    "<ol>\n",
    "<li>A has 30 nonzero entries.\n",
    "<li>A has 22 nonzero entries.\n",
    "<li>D has 16 nonzero entries.\n",
    "<li>L has 64 nonzero entries.\n",
    "<ol>"
   ]
  },
  {
   "cell_type": "code",
   "execution_count": 16,
   "metadata": {
    "collapsed": false
   },
   "outputs": [
    {
     "name": "stdout",
     "output_type": "stream",
     "text": [
      "Laplacian\n",
      "[[ 2  0 -1  0  0 -1  0  0]\n",
      " [ 0  2  0  0 -1  0  0 -1]\n",
      " [-1  0  3 -1  0 -1  0  0]\n",
      " [ 0  0 -1  3 -1  0 -1  0]\n",
      " [ 0 -1  0 -1  3  0  0 -1]\n",
      " [-1  0 -1  0  0  3 -1  0]\n",
      " [ 0  0  0  0 -1 -1  3 -1]\n",
      " [ 0 -1  0  0 -1  0 -1  3]]\n",
      "\n",
      "1: True\n",
      "2: True\n",
      "3: False\n",
      "4: False\n"
     ]
    }
   ],
   "source": [
    "import numpy as np\n",
    "\n",
    "# Adjacency matrix    \n",
    "A = np.matrix([[0, 0, 1, 0, 0, 1, 0, 0],\n",
    "               [0, 0, 0, 0, 1, 0, 0, 1], \n",
    "               [1, 0, 0, 1, 0, 1, 0, 0], \n",
    "               [0, 0, 1, 0, 1, 0, 1, 0], \n",
    "               [0, 1, 0, 1, 0, 0, 0, 1], \n",
    "               [1, 0, 1, 0, 0, 0, 1, 0], \n",
    "               [0, 0, 0, 0, 1, 1, 0, 1], \n",
    "               [0, 1, 0, 0, 1, 0, 1, 0]]) \n",
    "\n",
    "# Degree matrix\n",
    "D = np.diag([2,2,3,3,3,3,3,3])\n",
    "\n",
    "# Laplacian Matrix\n",
    "L = D - A\n",
    "\n",
    "print(\"Laplacian\")\n",
    "print(L)\n",
    "print()\n",
    "\n",
    "print(\"1:\", np.sum(L) == 0)\n",
    "print(\"2:\", np.count_nonzero(L) == 30)\n",
    "print(\"3:\", np.sum(A) == 0)\n",
    "print(\"4:\", np.count_nonzero(D) == 30)"
   ]
  },
  {
   "cell_type": "markdown",
   "metadata": {},
   "source": [
    "## Question 2\n",
    "\n",
    "You are given the following graph."
   ]
  },
  {
   "cell_type": "code",
   "execution_count": null,
   "metadata": {
    "collapsed": true
   },
   "outputs": [],
   "source": [
    "\"\"\"\n",
    "   2 ----6\n",
    " /  \\    |\n",
    "1    4   |\n",
    " \\  /  \\ |\n",
    "  3      5 \n",
    "\"\"\";"
   ]
  },
  {
   "cell_type": "markdown",
   "metadata": {},
   "source": [
    "The goal is to find two clusters in this graph using Spectral Clustering on the Laplacian matrix. Compute the Laplacian of this graph. Then compute the second eigen vector of the Laplacian (the one corresponding to the second smallest eigenvalue).\n",
    "\n",
    "To cluster the points, we decide to split at the mean value. We say that a node is a tie if its value in the eigen-vector is exactly equal to the mean value. Let's assume that if a point is a tie, we choose its cluster at random. Identify the true statement from the list below.\n",
    "\n",
    "<ol>\n",
    "<li>2 and 5 can either be in the same cluster or in different clusters (depending on randomness)\n",
    "<li>4 and 5 are in the same cluster\n",
    "<li>1 and 6 are in the same cluster\n",
    "<li>2 and 5 are in different clusters\n",
    "</ol>"
   ]
  },
  {
   "cell_type": "code",
   "execution_count": 17,
   "metadata": {
    "collapsed": false
   },
   "outputs": [
    {
     "name": "stdout",
     "output_type": "stream",
     "text": [
      "Eigenvector\n",
      "[ 0.5  0.   0.5  0.  -0.5 -0.5]\n",
      "\n",
      "1: True\n",
      "2: False\n",
      "2: False\n",
      "4: False\n"
     ]
    }
   ],
   "source": [
    "# Adjacency matrix\n",
    "A = np.array([[0, 1, 1, 0, 0, 0],\n",
    "              [1, 0, 0, 1, 0, 1],\n",
    "              [1, 0, 0, 1, 0, 0],\n",
    "              [0, 1, 1, 0, 1, 0],\n",
    "              [0, 0, 0, 1, 0, 1],\n",
    "              [0, 1, 0, 0, 1, 0]])\n",
    "\n",
    "# Degree matrix\n",
    "D = np.diag([2,3,2,3,2,2])\n",
    "\n",
    "# Laplacian Matrix\n",
    "L = D - A\n",
    "\n",
    "# Calculate eigenvalues and eigenvectors\n",
    "eigenvalues, eigenvectors = np.linalg.eig(L)\n",
    "\n",
    "# Find index the second smallest eigenvalue\n",
    "i = (-eigenvalues).argsort()[-2]\n",
    "\n",
    "# Find the eigenvector corresponding to the second smallest eigenvalue\n",
    "e = np.around(eigenvectors[:, i], decimals=4)\n",
    "\n",
    "mean = np.mean(e)\n",
    "\n",
    "print(\"Eigenvector\")\n",
    "print(np.around(e, decimals=4))\n",
    "print()\n",
    "\n",
    "# Same or different clusters: both values equaling mean or just one \n",
    "print(\"1:\", (e[1] == mean and not e[4] == mean) or (e[1] == mean and e[4] == mean))\n",
    "# Same cluster\n",
    "print(\"2:\", (e[3] > mean and e[4] > mean) or (e[3] < mean and e[4] < mean))\n",
    "print(\"2:\", (e[0] > mean and e[5] > mean) or (e[0] < mean and e[5] < mean))\n",
    "# Different clusters\n",
    "print(\"4:\", (e[1] > mean and not e[4] > mean) and (e[1] < mean and not e[4] < mean))"
   ]
  },
  {
   "cell_type": "markdown",
   "metadata": {},
   "source": [
    "## Question 3\n",
    "\n",
    "We wish to estimate the surprise number (2nd moment) of a data stream, using the method of AMS. It happens that our stream consists of ten different values, which we'll call 1, 2,..., 10, that cycle repeatedly. That is, at timestamps 1 through 10, the element of the stream equals the timestamp, at timestamps 11 through 20, the element is the timestamp minus 10, and so on. It is now timestamp 75, and a 5 has just been read from the stream. As a start, you should calculate the surprise number for this time.\n",
    "\n",
    "For our estimate of the surprise number, we shall choose three timestamps at random, and estimate the surprise number from each, using the AMS approach (length of the stream times 2m-1, where m is the number of occurrences of the element of the stream at that timestamp, considering all times from that timestamp on, to the current time). Then, our estimate will be the median of the three resulting values.\n",
    "\n",
    "You should discover the simple rules that determine the estimate derived from any given timestamp and from any set of three timestamps. Then, identify from the list below the set of three \"random\" timestamps that give the closest estimate.\n",
    "\n",
    "<ol>\n",
    "<li>{17, 43, 51}\n",
    "<li>{25, 34, 47}\n",
    "<li>{5, 33, 67}\n",
    "<li>{14, 35, 42}\n",
    "</ol>"
   ]
  },
  {
   "cell_type": "code",
   "execution_count": 20,
   "metadata": {
    "collapsed": false
   },
   "outputs": [
    {
     "name": "stdout",
     "output_type": "stream",
     "text": [
      "Surprise Number\n",
      "565\n",
      "\n",
      "Difference from median\n",
      "[110.0, 190.0, 40.0, 110.0]\n",
      "\n",
      "1: False\n",
      "2: False\n",
      "3: True\n",
      "4: False\n"
     ]
    }
   ],
   "source": [
    "import math\n",
    "\n",
    "def cycle_number(n):\n",
    "    return 10 if n % 10 == 0 else n % 10\n",
    "   \n",
    "def ams(stream, timestamp):\n",
    "    # Estimate 2nd moment (n(2 * m - 1))\n",
    "    window = stream[timestamp-1:] \n",
    "    m = window.count(cycle_number(timestamp)) \n",
    "    return (len(stream) * (2 * m - 1))\n",
    "\n",
    "test = [\n",
    "    (31, 32, 44),\n",
    "    (31, 48, 50),\n",
    "    (3, 45, 72),\n",
    "    (14, 35, 42)\n",
    "]\n",
    "\n",
    "# Generate stream elements\n",
    "stream = [cycle_number(x) for x in range(1,76)]\n",
    "\n",
    "# Calculate the surprise number\n",
    "surprise_number = np.sum(np.bincount(stream) ** 2)\n",
    "\n",
    "diff = []\n",
    "\n",
    "for t in test:\n",
    "    s = [ams(stream, x) for x in t]\n",
    "    diff.append(math.fabs(surprise_number - np.median(s)))\n",
    "    \n",
    "m = np.argmin(diff)\n",
    "\n",
    "print(\"Surprise Number\")\n",
    "print(surprise_number)\n",
    "print()\n",
    "\n",
    "print(\"Difference from median\")\n",
    "print(diff)\n",
    "print()\n",
    "\n",
    "for i in range(len(test)):\n",
    "    print(str(i+1) + \":\", m == i)"
   ]
  },
  {
   "cell_type": "markdown",
   "metadata": {},
   "source": [
    "## Question 4\n",
    "\n",
    "We wish to use the Flagolet-Martin lgorithm of Section 4.4 to count the number of distinct elements in a stream. Suppose that there ten possible elements, 1, 2,..., 10, that could appear in the stream, but only four of them have actually appeared. To make our estimate of the count of distinct elements, we hash each element to a 4-bit binary number. The element x is hashed to 3x + 7 (modulo 11). For example, element 8 hashes to 3*8+7 = 31, which is 9 modulo 11 (i.e., the remainder of 31/11 is 9). Thus, the 4-bit string for element 8 is 1001.\n",
    "\n",
    "A set of four of the elements 1 through 10 could give an estimate that is exact (if the estimate is 4), or too high, or too low. You should figure out under what circumstances a set of four elements falls into each of those categories. Then, identify in the list below the set of four elements that gives the exactly correct estimate.\n",
    "\n",
    "<ol>\n",
    "<li>{4, 5, 6, 7}\n",
    "<li>{4, 6, 9, 10}\n",
    "<li>{ 3, 7, 8, 10}\n",
    "<li>{3, 4, 8, 10}\n",
    "</ol>"
   ]
  },
  {
   "cell_type": "code",
   "execution_count": 31,
   "metadata": {
    "collapsed": false
   },
   "outputs": [
    {
     "name": "stdout",
     "output_type": "stream",
     "text": [
      "Flajolet Martin\n",
      "[16, 4, 2, 16]\n"
     ]
    }
   ],
   "source": [
    "def hash_function(x):\n",
    "    return (3 * x + 7) % 11\n",
    "\n",
    "def trailing_zeros(x):\n",
    "    if x == 0:\n",
    "        return 4\n",
    "    h = str(bin(x))\n",
    "    return len(h) - len(h.rstrip('0'))\n",
    "    \n",
    "def flajolet_martin(l):\n",
    "    v = [trailing_zeros(hash_function(x)) for x in l]\n",
    "    return 2 ** np.max(v)\n",
    "\n",
    "quadruples = [\n",
    "    (4, 5, 6, 10),\n",
    "    (2, 6, 8, 10),\n",
    "    (1, 3, 6, 8),\n",
    "    (2, 5, 7, 10)\n",
    "]\n",
    "\n",
    "fm = [flajolet_martin(x) for x in quadruples]\n",
    "\n",
    "print(\"Flajolet Martin\")\n",
    "print(fm)"
   ]
  },
  {
   "cell_type": "markdown",
   "metadata": {},
   "source": [
    "## Question 5\n",
    "\n",
    "Suppose we are using the DGIM algorithm of Section 4.6.2 to estimate the number of 1's in suffixes of a sliding window of length 40. The current timestamp is 100, and we have the following buckets stored:\n",
    "\n",
    "<table style=\"float:left\">\n",
    "<tr>\n",
    "    <td><b>End Time</b></td><td>100</td><td>98</td><td>95</td><td>92</td><td>87</td><td>80</td><td>65</td>\n",
    "</tr>\n",
    "<tr>\n",
    "    <td><b>Size</b></td><td>1</td><td>1</td><td>2</td><td>2</td><td>4</td><td>8</td><td>8</td>\n",
    "</tr>\n",
    "</table>\n",
    "\n",
    "<br style=\"clear:both\" />\n",
    "\n",
    "Note: we are showing timestamps as absolute values, rather than modulo the window size, as DGIM would do.\n",
    "\n",
    "Suppose that at times 101 through 105, 1's appear in the stream. Compute the set of buckets that would exist in the system at time 105. Then identify one such bucket from the list below. Buckets are represented by pairs (end-time, size).\n",
    "\n",
    "<ol>\n",
    "<li>(102,4)\n",
    "<li>(95,4)\n",
    "<li>(103,2)\n",
    "<li>(87,4)\n",
    "</ol>"
   ]
  },
  {
   "cell_type": "code",
   "execution_count": 35,
   "metadata": {
    "collapsed": false
   },
   "outputs": [
    {
     "name": "stdout",
     "output_type": "stream",
     "text": [
      "Buckets\n",
      "[{'s': 1, 't': 105}, {'s': 2, 't': 104}, {'s': 4, 't': 102}, {'s': 8, 't': 95}, {'s': 8, 't': 80}]\n",
      "\n",
      "1: False\n",
      "2: True\n",
      "3: False\n",
      "4: False\n"
     ]
    }
   ],
   "source": [
    "WINDOW_LENGTH = 40\n",
    "\n",
    "def merge_buckets(a, b):\n",
    "    return {\"t\": max(a[\"t\"], b[\"t\"]), \"s\": a[\"s\"] + b[\"s\"]}\n",
    "\n",
    "def update_buckets(buckets):\n",
    "    for i in range(101, 106):\n",
    "        # Remove buckets that fall outside the window\n",
    "        if i - buckets[-1][\"t\"] >= WINDOW_LENGTH:\n",
    "            buckets.pop()\n",
    "        # Insert new stream element\n",
    "        buckets.insert(0, {\"t\": i, \"s\": 1})\n",
    "        for i in range(0, len(buckets)-2):\n",
    "            if not i+3 > len(buckets):\n",
    "                # Perform a merge if merge criteria is met\n",
    "                if(buckets[i][\"s\"] == buckets[i+1][\"s\"] == buckets[i+2][\"s\"]):\n",
    "                    buckets[i+1] = merge_buckets(buckets[i+1], buckets[i+2])\n",
    "                    del buckets[i+2]\n",
    "                    # Reiterate to see if any new merges are possible\n",
    "                    i = 0\n",
    "    return buckets\n",
    "\n",
    "buckets = [\n",
    "    {\"t\": 100, \"s\": 1},\n",
    "    {\"t\": 98, \"s\": 1},\n",
    "    {\"t\": 95, \"s\": 2},\n",
    "    {\"t\": 92, \"s\": 2},\n",
    "    {\"t\": 87, \"s\": 4},\n",
    "    {\"t\": 80, \"s\": 8},\n",
    "    {\"t\": 65, \"s\": 8},\n",
    "]    \n",
    " \n",
    "test = [\n",
    "    {\"t\": 103, \"s\": 1},\n",
    "    {\"t\": 80, \"s\": 8},\n",
    "    {\"t\": 87, \"s\": 7},\n",
    "    {\"t\": 87, \"s\": 4}]      \n",
    "    \n",
    "buckets = update_buckets(buckets)\n",
    "\n",
    "print(\"Buckets\")\n",
    "print(buckets)\n",
    "print()\n",
    "\n",
    "for i in range(len(test)):\n",
    "    print(str(i+1) + \":\", test[i] in buckets)"
   ]
  }
 ],
 "metadata": {
  "kernelspec": {
   "display_name": "Python 3",
   "language": "python",
   "name": "python3"
  },
  "language_info": {
   "codemirror_mode": {
    "name": "ipython",
    "version": 3
   },
   "file_extension": ".py",
   "mimetype": "text/x-python",
   "name": "python",
   "nbconvert_exporter": "python",
   "pygments_lexer": "ipython3",
   "version": "3.4.3"
  }
 },
 "nbformat": 4,
 "nbformat_minor": 0
}

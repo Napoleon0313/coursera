{
 "cells": [
  {
   "cell_type": "markdown",
   "metadata": {},
   "source": [
    "# Week3A (Advanced)\n",
    "\n",
    "## Question 1\n",
    "\n",
    "For the following graph:"
   ]
  },
  {
   "cell_type": "code",
   "execution_count": 103,
   "metadata": {
    "collapsed": false
   },
   "outputs": [],
   "source": [
    "\"\"\"\n",
    "   C -- D -- E\n",
    " / |    |    | \\\n",
    "A  |    |    |  B\n",
    " \\ |    |    | /\n",
    "   F -- G -- H\n",
    "\"\"\";"
   ]
  },
  {
   "cell_type": "markdown",
   "metadata": {},
   "source": [
    "Write the adjacency matrix A, the degree matrix D, and the Laplacian matrix L. For each, find the sum of all entries and the number of nonzero entries. Then identify the true statement from the list below.\n",
    "\n",
    "<ol>\n",
    "<li>A has 30 nonzero entries.\n",
    "<li>A has 22 nonzero entries.\n",
    "<li>D has 16 nonzero entries.\n",
    "<li>L has 64 nonzero entries.\n",
    "<ol>"
   ]
  },
  {
   "cell_type": "code",
   "execution_count": 104,
   "metadata": {
    "collapsed": false
   },
   "outputs": [
    {
     "name": "stdout",
     "output_type": "stream",
     "text": [
      "1: False\n",
      "2: True\n",
      "3: False\n",
      "4: False\n"
     ]
    }
   ],
   "source": [
    "import numpy as np\n",
    "\n",
    "# Adjacency matrix    \n",
    "A = np.matrix([[0, 0, 1, 0, 0, 1, 0, 0],\n",
    "               [0, 0, 0, 0, 1, 0, 0, 1], \n",
    "               [1, 0, 0, 1, 0, 1, 0, 0], \n",
    "               [0, 0, 1, 0, 1, 0, 1, 0], \n",
    "               [0, 1, 0, 1, 0, 0, 0, 1], \n",
    "               [1, 0, 1, 0, 0, 0, 1, 0], \n",
    "               [0, 0, 0, 0, 1, 1, 0, 1], \n",
    "               [0, 1, 0, 0, 1, 0, 1, 0]]) \n",
    "\n",
    "# Degree matrix\n",
    "D = np.diag([2,2,3,3,3,3,3,3])\n",
    "\n",
    "# Laplacian Matrix\n",
    "L = D - A\n",
    "\n",
    "print(\"1:\", np.count_nonzero(A) == 30)\n",
    "print(\"2:\", np.count_nonzero(A) == 22)\n",
    "print(\"3:\", np.count_nonzero(D) == 16)\n",
    "print(\"4:\", np.count_nonzero(L) == 64)"
   ]
  },
  {
   "cell_type": "markdown",
   "metadata": {},
   "source": [
    "## Question 2\n",
    "\n",
    "You are given the following graph."
   ]
  },
  {
   "cell_type": "code",
   "execution_count": 30,
   "metadata": {
    "collapsed": false
   },
   "outputs": [],
   "source": [
    "\"\"\"\n",
    "   2 ----6\n",
    " /  \\    |\n",
    "1    4   |\n",
    " \\  /  \\ |\n",
    "  3      5 \n",
    "\"\"\";"
   ]
  },
  {
   "cell_type": "markdown",
   "metadata": {},
   "source": [
    "The goal is to find two clusters in this graph using Spectral Clustering on the Laplacian matrix. Compute the Laplacian of this graph. Then compute the second eigen vector of the Laplacian (the one corresponding to the second smallest eigenvalue).\n",
    "\n",
    "To cluster the points, we decide to split at the mean value. We say that a node is a tie if its value in the eigen-vector is exactly equal to the mean value. Let's assume that if a point is a tie, we choose its cluster at random. Identify the true statement from the list below.\n",
    "\n",
    "<ol>\n",
    "<li>2 and 5 can either be in the same cluster or in different clusters (depending on randomness)\n",
    "<li>4 and 5 are in the same cluster\n",
    "<li>1 and 6 are in the same cluster\n",
    "<li>2 and 5 are in different clusters\n",
    "</ol>"
   ]
  },
  {
   "cell_type": "code",
   "execution_count": 107,
   "metadata": {
    "collapsed": false
   },
   "outputs": [
    {
     "name": "stdout",
     "output_type": "stream",
     "text": [
      "1: False\n",
      "2: True\n",
      "3: False\n",
      "4: False\n"
     ]
    }
   ],
   "source": [
    "from numpy import linalg as LA\n",
    "\n",
    "# Adjacency matrix\n",
    "A = np.array([[0, 1, 1, 0, 0, 0],\n",
    "              [1, 0, 0, 1, 0, 1],\n",
    "              [1, 0, 0, 1, 0, 0],\n",
    "              [0, 1, 1, 0, 1, 0],\n",
    "              [0, 0, 0, 1, 0, 1],\n",
    "              [0, 1, 0, 0, 1, 0]])\n",
    "\n",
    "# Degree matrix\n",
    "D = np.diag([2,3,2,3,2,2])\n",
    "\n",
    "# Laplacian Matrix\n",
    "L = D - A\n",
    "\n",
    "eigenvalues, eigenvectors = LA.eig(L)\n",
    "e = eigenvectors[1]\n",
    "mean = e.mean()\n",
    "\n",
    "print(\"1:\", e[1] == e[4])\n",
    "print(\"2:\", (e[3] > mean and e[4] > mean) or (e[3] < mean and e[4] < mean))\n",
    "print(\"3:\", (e[0] > mean and e[5] > mean) or (e[0] < mean and e[5] < mean))\n",
    "print(\"4:\", (e[1] > mean and not e[4] > mean) and (e[1] < mean and not e[4] < mean))"
   ]
  },
  {
   "cell_type": "markdown",
   "metadata": {},
   "source": [
    "## Question 3\n",
    "\n",
    "We wish to estimate the surprise number (2nd moment) of a data stream, using the method of AMS. It happens that our stream consists of ten different values, which we'll call 1, 2,..., 10, that cycle repeatedly. That is, at timestamps 1 through 10, the element of the stream equals the timestamp, at timestamps 11 through 20, the element is the timestamp minus 10, and so on. It is now timestamp 75, and a 5 has just been read from the stream. As a start, you should calculate the surprise number for this time.\n",
    "\n",
    "For our estimate of the surprise number, we shall choose three timestamps at random, and estimate the surprise number from each, using the AMS approach (length of the stream times 2m-1, where m is the number of occurrences of the element of the stream at that timestamp, considering all times from that timestamp on, to the current time). Then, our estimate will be the median of the three resulting values.\n",
    "\n",
    "You should discover the simple rules that determine the estimate derived from any given timestamp and from any set of three timestamps. Then, identify from the list below the set of three \"random\" timestamps that give the closest estimate.\n",
    "\n",
    "<ol>\n",
    "<li>{17, 43, 51}\n",
    "<li>{25, 34, 47}\n",
    "<li>{5, 33, 67}\n",
    "<li>{14, 35, 42}\n",
    "</ol>"
   ]
  },
  {
   "cell_type": "code",
   "execution_count": 123,
   "metadata": {
    "collapsed": false
   },
   "outputs": [
    {
     "data": {
      "text/plain": [
       "185"
      ]
     },
     "execution_count": 123,
     "metadata": {},
     "output_type": "execute_result"
    }
   ],
   "source": [
    "def cycle_number(n):\n",
    "    if n % 10 == 0:\n",
    "        return 10\n",
    "    else:\n",
    "        return n % 10\n",
    "    \n",
    "def ams(timestamps, t):\n",
    "    window = timestamps[t:]\n",
    "    return (len(window) * 2 * window.count(cycle_number(t))) - 1\n",
    "    \n",
    "timestamps = [cycle_number(x) for x in range(1,76)]\n",
    "\n",
    "ams(timestamps, 44)"
   ]
  },
  {
   "cell_type": "markdown",
   "metadata": {},
   "source": [
    "## Question 4\n",
    "\n",
    "We wish to use the Flagolet-Martin lgorithm of Section 4.4 to count the number of distinct elements in a stream. Suppose that there ten possible elements, 1, 2,..., 10, that could appear in the stream, but only four of them have actually appeared. To make our estimate of the count of distinct elements, we hash each element to a 4-bit binary number. The element x is hashed to 3x + 7 (modulo 11). For example, element 8 hashes to 3*8+7 = 31, which is 9 modulo 11 (i.e., the remainder of 31/11 is 9). Thus, the 4-bit string for element 8 is 1001.\n",
    "A set of four of the elements 1 through 10 could give an estimate that is exact (if the estimate is 4), or too high, or too low. You should figure out under what circumstances a set of four elements falls into each of those categories. Then, identify in the list below the set of four elements that gives the exactly correct estimate.\n",
    "\n",
    "<ol>\n",
    "<li>{4, 5, 6, 7}\n",
    "<li>{4, 6, 9, 10}\n",
    "<li>{ 3, 7, 8, 10}\n",
    "<li>{3, 4, 8, 10}\n",
    "</ol>"
   ]
  },
  {
   "cell_type": "code",
   "execution_count": null,
   "metadata": {
    "collapsed": true
   },
   "outputs": [],
   "source": [
    "#TODO"
   ]
  },
  {
   "cell_type": "markdown",
   "metadata": {},
   "source": [
    "## Question 5\n",
    "\n",
    "Suppose we are using the DGIM algorithm of Section 4.6.2 to estimate the number of 1's in suffixes of a sliding window of length 40. The current timestamp is 100, and we have the following buckets stored:\n",
    "\n",
    "<table style=\"float:left\">\n",
    "<tr>\n",
    "    <td><b>End Time</b></td><td>100</td><td>98</td><td>95</td><td>92</td><td>87</td><td>80</td><td>65</td>\n",
    "</tr>\n",
    "<tr>\n",
    "    <td><b>Size</b></td><td>1</td><td>1</td><td>2</td><td>2</td><td>4</td><td>8</td><td>8</td>\n",
    "</tr>\n",
    "</table>\n",
    "\n",
    "<br style=\"clear:both\" />\n",
    "\n",
    "Note: we are showing timestamps as absolute values, rather than modulo the window size, as DGIM would do.\n",
    "\n",
    "Suppose that at times 101 through 105, 1's appear in the stream. Compute the set of buckets that would exist in the system at time 105. Then identify one such bucket from the list below. Buckets are represented by pairs (end-time, size).\n",
    "\n",
    "<ol>\n",
    "<li>(102,4)\n",
    "<li>(95,4)\n",
    "<li>(103,2)\n",
    "<li>(87,4)\n",
    "</ol>"
   ]
  },
  {
   "cell_type": "code",
   "execution_count": 50,
   "metadata": {
    "collapsed": true
   },
   "outputs": [],
   "source": [
    "#TODO\n",
    "\n",
    "#Video - Counting 1's\n",
    "#Book - Section 4.6.5"
   ]
  },
  {
   "cell_type": "code",
   "execution_count": null,
   "metadata": {
    "collapsed": true
   },
   "outputs": [],
   "source": []
  }
 ],
 "metadata": {
  "kernelspec": {
   "display_name": "Python 3",
   "language": "python",
   "name": "python3"
  },
  "language_info": {
   "codemirror_mode": {
    "name": "ipython",
    "version": 3
   },
   "file_extension": ".py",
   "mimetype": "text/x-python",
   "name": "python",
   "nbconvert_exporter": "python",
   "pygments_lexer": "ipython3",
   "version": "3.4.3"
  }
 },
 "nbformat": 4,
 "nbformat_minor": 0
}

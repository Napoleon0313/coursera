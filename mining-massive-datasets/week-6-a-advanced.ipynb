{
 "cells": [
  {
   "cell_type": "markdown",
   "metadata": {},
   "source": [
    "## Question 1\n",
    "\n",
    "Using the matrix-vector multiplication described in Section 2.3.1, applied to the matrix and vector:\n",
    "\n",
    "<table style=\"float:left\">\n",
    "<tr><td>1<td>\t2<td>\t3<td>\t4\n",
    "<tr><td>5<td>\t6<td>\t7<td>\t8\n",
    "<tr><td>9<td>\t10<td>\t11<td>\t12\n",
    "<tr><td>13<td>\t14<td>\t15<td>16\n",
    "</table>\n",
    "\n",
    "<table style=\"float:left\">\n",
    "<tr><td>1\n",
    "<tr><td>2\n",
    "<tr><td>3\n",
    "<tr><td>4\n",
    "</table>\n",
    "\n",
    "<br clear=\"all\">\n",
    "\n",
    "Apply the Map function to this matrix and vector. Then, identify in the list below, one of the key-value pairs that are output of Map.\n",
    "\n",
    "<ol>\n",
    "<li>(2,70)\n",
    "<li>(4,28)\n",
    "<li>(3,110)\n",
    "<li>(4,150)\n",
    "</ol>"
   ]
  },
  {
   "cell_type": "code",
   "execution_count": null,
   "metadata": {
    "collapsed": true
   },
   "outputs": [],
   "source": []
  },
  {
   "cell_type": "markdown",
   "metadata": {},
   "source": [
    "## Question 2\n",
    "\n",
    "Suppose we use the algorithm of Section 2.3.10 to compute the product of matrices M and N. Let M have x rows and y columns, while N has y rows and z columns. As a function of x, y, and z, express the answers to the following questions:\n",
    "\n",
    "<ol>\n",
    "<li>The output of the Map function has how many different keys? How many key-value pairs are there with each key? How many key-value pairs are there in all?\n",
    "<li>The input to the Reduce function has how many keys? What is the length of the value (a list) associated with each key?\n",
    "</ol>\n",
    "\n",
    "Then, identify the true statement in the list below.\n",
    "\n",
    "<ol>\n",
    "<li>The output of the Map function has xy+xz pairs.\n",
    "<li>The output of the Map function has xz different keys.\n",
    "<li>The output of the Map function has xyz pairs.\n",
    "<li>The input to the Reduce function has pairs with lists of length 2(x+z).\n",
    "</ol>"
   ]
  },
  {
   "cell_type": "code",
   "execution_count": null,
   "metadata": {
    "collapsed": true
   },
   "outputs": [],
   "source": []
  },
  {
   "cell_type": "markdown",
   "metadata": {},
   "source": [
    "## Question 3\n",
    "\n",
    "Suppose we use the two-stage algorithm of Section 2.3.9 to compute the product of matrices M and N. Let M have x rows and y columns, while N has y rows and z columns. As a function of x, y, and z, express the answers to the following questions:\n",
    "\n",
    "<ol>\n",
    "<li>The output of the first Map function has how many different keys? How many key-value pairs are there with each key? How many key-value pairs are there in all?\n",
    "<li>The output of the first Reduce function has how many keys? What is the length of the value (a list) associated with each key?\n",
    "<li>The output of the second Map function has how many different keys? How many key-value pairs are there with each <li>key? How many key-value pairs are there in all?\n",
    "</ol>\n",
    "\n",
    "Then, identify the true statement in the list below.\n",
    "\n",
    "<ol>\n",
    "<li>The output of the second Map function has xyz pairs.\n",
    "<li>The output of the second Map function has xz pairs.\n",
    "<li>The output of the first Map function has x(y+z) pairs.\n",
    "<li>The output of the first Map function has x pairs with each key.\n",
    "</ol>"
   ]
  },
  {
   "cell_type": "code",
   "execution_count": null,
   "metadata": {
    "collapsed": true
   },
   "outputs": [],
   "source": []
  },
  {
   "cell_type": "markdown",
   "metadata": {},
   "source": [
    "## Question 4\n",
    "\n",
    "Suppose we have the following relations:\n",
    "\n",
    "<table style=\"float:left\">\n",
    "<tr><td colspan=\"2\">R</tr>\n",
    "<tr><td>A\t<td>\tB</tr>\n",
    "<tr><td>0\t<td>\t1</tr>\n",
    "<tr><td>1\t<td>\t2</tr>\n",
    "<tr><td>2\t<td>\t3</tr>\n",
    "</table>\n",
    "\n",
    "<table style=\"float:left\">\n",
    "<tr><td colspan=\"2\">S\t</tr>\n",
    "<tr><td>B\t<td>\tC</tr>\n",
    "<tr><td>0\t<td>\t1</tr>\n",
    "<tr><td>1\t<td>\t2</tr>\n",
    "<tr><td>2\t<td>\t3</tr>\n",
    "</table>\n",
    "\n",
    "<br clear=\"all\">\n",
    "\n",
    "and we take their natural join by the algorithm of Section 2.3.7. Apply the Map function to the tuples of these relations. Then, construct the elements that are input to the Reduce function. Identify one of these elements in the list below.\n",
    "\n",
    "<ol>\n",
    "<li>(3, [(R,2)])\n",
    "<li>(0,(S,1))\n",
    "<li>(1,(S,2))\n",
    "<li>(2,(R,1))\n",
    "</ol>"
   ]
  },
  {
   "cell_type": "code",
   "execution_count": null,
   "metadata": {
    "collapsed": true
   },
   "outputs": [],
   "source": []
  }
 ],
 "metadata": {
  "kernelspec": {
   "display_name": "Python 3",
   "language": "python",
   "name": "python3"
  },
  "language_info": {
   "codemirror_mode": {
    "name": "ipython",
    "version": 3
   },
   "file_extension": ".py",
   "mimetype": "text/x-python",
   "name": "python",
   "nbconvert_exporter": "python",
   "pygments_lexer": "ipython3",
   "version": "3.4.3"
  }
 },
 "nbformat": 4,
 "nbformat_minor": 0
}

{
 "cells": [
  {
   "cell_type": "markdown",
   "metadata": {},
   "source": [
    "## Question 1\n",
    "\n",
    "Using the matrix-vector multiplication described in Section 2.3.1, applied to the matrix and vector:\n",
    "\n",
    "<table style=\"float:left\">\n",
    "<tr><td>1<td>\t2<td>\t3<td>\t4\n",
    "<tr><td>5<td>\t6<td>\t7<td>\t8\n",
    "<tr><td>9<td>\t10<td>\t11<td>\t12\n",
    "<tr><td>13<td>\t14<td>\t15<td>16\n",
    "</table>\n",
    "\n",
    "<table style=\"float:left\">\n",
    "<tr><td>1\n",
    "<tr><td>2\n",
    "<tr><td>3\n",
    "<tr><td>4\n",
    "</table>\n",
    "\n",
    "<br clear=\"all\">\n",
    "\n",
    "Apply the Map function to this matrix and vector. Then, identify in the list below, one of the key-value pairs that are output of Map.\n",
    "\n",
    "<ol>\n",
    "<li>(2,70)\n",
    "<li>(4,28)\n",
    "<li>(3,110)\n",
    "<li>(4,150)\n",
    "</ol>"
   ]
  },
  {
   "cell_type": "code",
   "execution_count": 89,
   "metadata": {
    "collapsed": false
   },
   "outputs": [
    {
     "name": "stdout",
     "output_type": "stream",
     "text": [
      "1 False\n",
      "2 True\n",
      "3 False\n",
      "4 False\n",
      "{1: array([[ 1,  4,  9, 16]]), 2: array([[ 5, 12, 21, 32]]), 3: array([[ 9, 20, 33, 48]]), 4: array([[13, 28, 45, 64]])}\n"
     ]
    }
   ],
   "source": [
    "import numpy as np\n",
    "\n",
    "M = np.array([[1, 2, 3, 4],\n",
    "              [5, 6, 7, 8],\n",
    "              [9, 10, 11, 12],\n",
    "              [13, 14, 15, 16]])\n",
    "\n",
    "V = np.array([[1],\n",
    "              [2],\n",
    "              [3],\n",
    "              [4]])\n",
    "\n",
    "key_value = {}\n",
    "\n",
    "for i, row in enumerate(M):\n",
    "    key_value[i+1] = row * V.T\n",
    "    \n",
    "print(\"1\", 70 in key_value[2])\n",
    "print(\"2\", 28 in key_value[4])\n",
    "print(\"3\", 110 in key_value[3])\n",
    "print(\"4\", 150 in key_value[4])\n",
    "\n",
    "print(key_value)"
   ]
  },
  {
   "cell_type": "markdown",
   "metadata": {},
   "source": [
    "## Question 2\n",
    "\n",
    "Suppose we use the algorithm of Section 2.3.10 to compute the product of matrices M and N. Let M have x rows and y columns, while N has y rows and z columns. As a function of x, y, and z, express the answers to the following questions:\n",
    "\n",
    "<ol>\n",
    "<li>The output of the Map function has how many different keys?\n",
    "<li>How many key-value pairs are there with each key?\n",
    "<li>How many key-value pairs are there in all?\n",
    "<li>The input to the Reduce function has how many keys?\n",
    "<li>What is the length of the value (a list) associated with each key?\n",
    "</ol>\n",
    "\n",
    "Then, identify the true statement in the list below.\n",
    "\n",
    "<ol>\n",
    "<li>The output of the Map function has xy+xz pairs.\n",
    "<li>The output of the Map function has xz different keys.\n",
    "<li>The output of the Map function has xyz pairs.\n",
    "<li>The input to the Reduce function has pairs with lists of length 2(x+z).\n",
    "</ol>"
   ]
  },
  {
   "cell_type": "code",
   "execution_count": null,
   "metadata": {
    "collapsed": true
   },
   "outputs": [],
   "source": [
    "# The output of the map function has x * z different keys (Wrong)\n",
    "# How many key-value pairs are there with each key? 2 * y\n",
    "# How many key-value pairs are there in all? 2 * x * y * z\n",
    "# The input to the Reduce function has how many keys? \n",
    "# What is the length of the value (a list) associated with each key? 2 * y"
   ]
  },
  {
   "cell_type": "markdown",
   "metadata": {},
   "source": [
    "## Question 3\n",
    "\n",
    "Suppose we use the two-stage algorithm of Section 2.3.9 to compute the product of matrices M and N. Let M have x rows and y columns, while N has y rows and z columns. As a function of x, y, and z, express the answers to the following questions:\n",
    "\n",
    "<ol>\n",
    "<li>The output of the first Map function has how many different keys?\n",
    "<li>How many key-value pairs are there with each key?\n",
    "<li>How many key-value pairs are there in all?\n",
    "<li>The output of the first Reduce function has how many keys?\n",
    "<li>What is the length of the value (a list) associated with each key?\n",
    "<li>The output of the second Map function has how many different keys?\n",
    "<li>How many key-value pairs are there with each key?\n",
    "<li>How many key-value pairs are there in all?\n",
    "</ol>\n",
    "\n",
    "Then, identify the true statement in the list below.\n",
    "\n",
    "<ol>\n",
    "<li>The output of the second Map function has xyz pairs.\n",
    "<li>The output of the second Map function has xz pairs.\n",
    "<li>The output of the first Map function has x(y+z) pairs.\n",
    "<li>The output of the first Map function has x pairs with each key.\n",
    "</ol>"
   ]
  },
  {
   "cell_type": "code",
   "execution_count": null,
   "metadata": {
    "collapsed": true
   },
   "outputs": [],
   "source": [
    "# The output of the first Map function has how many different keys? y\n",
    "# How many key-value pairs are there with each key? x + z\n",
    "# How many key-value pairs are there in all?  y ∗ x + y ∗ z\n",
    "# The output of the first Reduce function has how many keys? x * z\n",
    "# What is the length of the value (a list) associated with each key? y\n",
    "# The output of the second Map function has how many different keys? x * z\n",
    "# How many key-value pairs are there with each key? y\n",
    "# How many key-value pairs are there in all? x * y * z"
   ]
  },
  {
   "cell_type": "markdown",
   "metadata": {},
   "source": [
    "## Question 4\n",
    "\n",
    "Suppose we have the following relations:\n",
    "\n",
    "<table style=\"float:left\">\n",
    "<tr><td colspan=\"2\">R</tr>\n",
    "<tr><td>A\t<td>\tB</tr>\n",
    "<tr><td>0\t<td>\t1</tr>\n",
    "<tr><td>1\t<td>\t2</tr>\n",
    "<tr><td>2\t<td>\t3</tr>\n",
    "</table>\n",
    "\n",
    "<table style=\"float:left\">\n",
    "<tr><td colspan=\"2\">S\t</tr>\n",
    "<tr><td>B\t<td>\tC</tr>\n",
    "<tr><td>0\t<td>\t1</tr>\n",
    "<tr><td>1\t<td>\t2</tr>\n",
    "<tr><td>2\t<td>\t3</tr>\n",
    "</table>\n",
    "\n",
    "<br clear=\"all\">\n",
    "\n",
    "and we take their natural join by the algorithm of Section 2.3.7. Apply the Map function to the tuples of these relations. Then, construct the elements that are input to the Reduce function. Identify one of these elements in the list below.\n",
    "\n",
    "<ol>\n",
    "<li>(3, [(R,2)])\n",
    "<li>(0,(S,1))\n",
    "<li>(1,(S,2))\n",
    "<li>(2,(R,1))\n",
    "</ol>"
   ]
  },
  {
   "cell_type": "code",
   "execution_count": 88,
   "metadata": {
    "collapsed": false
   },
   "outputs": [
    {
     "name": "stdout",
     "output_type": "stream",
     "text": [
      "[(1, ('R', 0)), (2, ('R', 1)), (3, ('R', 2)), (0, ('S', 1)), (1, ('S', 2)), (2, ('S', 3))]\n",
      "defaultdict(<class 'list'>, {0: [('S', 1)], 1: [('R', 0), ('S', 2)], 2: [('R', 1), ('S', 3)], 3: [('R', 2)]})\n",
      "1: True\n",
      "2: True\n",
      "3: False\n",
      "4: False\n"
     ]
    }
   ],
   "source": [
    "from collections import defaultdict\n",
    "\n",
    "def mapper(a, b, l):\n",
    "    touples = []\n",
    "    for a, b in zip(a, b):\n",
    "        touples.append((b, (l, a)))\n",
    "    return touples\n",
    "\n",
    "def merge(touples):\n",
    "    d = defaultdict(list)\n",
    "    for k, v in touples:\n",
    "        d[k].append(v)\n",
    "    return d\n",
    "    \n",
    "R = {'A': [0, 1, 2], 'B': [1, 2, 3]}\n",
    "S = {'B': [0, 1, 2], 'C': [1, 2, 3]}   \n",
    "    \n",
    "# Generate all touples\n",
    "touples = mapper(R['A'], R['B'], 'R') + mapper(S['C'], S['B'], 'S')\n",
    "# Construct the input to the reduce function\n",
    "reduce_input = merge(touples)\n",
    "\n",
    "print(touples)\n",
    "print(reduce_input)\n",
    "\n",
    "print(\"1:\", reduce_input[3] == [('R', 2)])\n",
    "print(\"2:\", reduce_input[0] == [('S', 1)]) #Should not be correct\n",
    "print(\"3:\", reduce_input[1] == [('S', 2)])\n",
    "print(\"4:\", reduce_input[2] == [('R', 1)])"
   ]
  },
  {
   "cell_type": "code",
   "execution_count": null,
   "metadata": {
    "collapsed": true
   },
   "outputs": [],
   "source": []
  }
 ],
 "metadata": {
  "kernelspec": {
   "display_name": "Python 3",
   "language": "python",
   "name": "python3"
  },
  "language_info": {
   "codemirror_mode": {
    "name": "ipython",
    "version": 3
   },
   "file_extension": ".py",
   "mimetype": "text/x-python",
   "name": "python",
   "nbconvert_exporter": "python",
   "pygments_lexer": "ipython3",
   "version": "3.4.3"
  }
 },
 "nbformat": 4,
 "nbformat_minor": 0
}

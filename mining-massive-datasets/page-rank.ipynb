{
 "cells": [
  {
   "cell_type": "markdown",
   "metadata": {},
   "source": [
    "# Week 1 - Quiz\n",
    "\n",
    "## Question 1:\n",
    "\n",
    "<ul>\n",
    "<li> b + c = 2.5\n",
    "<li> b + c = 2.735\n",
    "<li> a + c = 2.595\n",
    "<li> a + c = 2.035\n",
    "</ul>"
   ]
  },
  {
   "cell_type": "code",
   "execution_count": 11,
   "metadata": {
    "collapsed": false
   },
   "outputs": [
    {
     "name": "stdout",
     "output_type": "stream",
     "text": [
      "a + c =  2.595\n",
      "b + c =  2.7\n"
     ]
    }
   ],
   "source": [
    "import numpy as np\n",
    "\n",
    "# Probability of following the link\n",
    "β = 0.7\n",
    "\n",
    "# Graph\n",
    "M = np.matrix([[0, 0, 0], [1/2, 0, 0], [1/2, 1, 1]])\n",
    "\n",
    "# Rank matrix\n",
    "r = np.matrix([1/3, 1/3, 1/3]).T\n",
    "\n",
    "# Random teleport matrix\n",
    "N = np.matrix([(1 - β)/3, (1 - β)/3, (1 - β)/3]).T\n",
    "\n",
    "# Convergence criteria\n",
    "𝛆 = 1 / 10000\n",
    "\n",
    "def page_rank(r):\n",
    "    while True:\n",
    "        old = r\n",
    "        r = β * M * r + N\n",
    "        diff = np.absolute(old - r).max()\n",
    "        if(diff < 𝛆):\n",
    "            return r\n",
    "\n",
    "r = page_rank(r)    \n",
    "    \n",
    "# Sum of pagerank should equal 3    \n",
    "r = r*3\n",
    "\n",
    "a, b, c = r.flat[0], r.flat[1], r.flat[2]\n",
    "\n",
    "print(\"a + c = \", round(a + c, 3))\n",
    "print(\"b + c = \", round(b + c, 3))"
   ]
  },
  {
   "cell_type": "markdown",
   "metadata": {},
   "source": [
    "## Question 2\n",
    "\n",
    "<ul>\n",
    "<li> a = c + 0.15b</li>\n",
    "<li>.95b = .475a + .05c V</li>\n",
    "<li>85b = .575a + .15c</li>\n",
    "<li>.85a = c + .15b</li>\n",
    "</ul>"
   ]
  },
  {
   "cell_type": "code",
   "execution_count": 12,
   "metadata": {
    "collapsed": false
   },
   "outputs": [
    {
     "name": "stdout",
     "output_type": "stream",
     "text": [
      "a = c + 0.15b:  False\n",
      "0.95b = 0.475a + 0.05c:  True\n",
      "85b = 0.575a + 0.15c  False\n",
      "0.85a = c + 0.15b: False\n"
     ]
    }
   ],
   "source": [
    "#We can reuse most of the code from question 1\n",
    "\n",
    "# Probability of following the link\n",
    "β = 0.85\n",
    "\n",
    "# Graph\n",
    "M = np.matrix([[0, 0, 1], [1/2, 0, 0], [1/2, 1, 0]])\n",
    "\n",
    "# Re-initialize rank matrix\n",
    "r = np.matrix([1/3, 1/3, 1/3]).T\n",
    "\n",
    "r = page_rank(r)\n",
    "\n",
    "a, b, c = r.flat[0], r.flat[1], r.flat[2]\n",
    "\n",
    "print(\"a = c + 0.15b: \", round(a, 3) ==  round(c + 0.15 * b, 3))\n",
    "print(\"0.95b = 0.475a + 0.05c: \", round(0.95 * b, 3) == round(0.475 * a + 0.05 * c, 3))\n",
    "print(\"85b = 0.575a + 0.15c \", round(85 * b, 3) == round(0.575 * a + 0.15 * c, 3))\n",
    "print(\"0.85a = c + 0.15b:\", round(0.85 * a, 3) == round(0.575 * a + 0.15 * c,3))"
   ]
  },
  {
   "cell_type": "markdown",
   "metadata": {},
   "source": [
    "##  Question 3\n",
    "\n",
    "<ul>\n",
    "<li>Interation 5, b = 9/16\n",
    "<li>After iteration 4, c = 11/8\n",
    "<li>After iteration 5, b = 5/8 V\n",
    "<li>In the limit, a = 1\n",
    "</ul>"
   ]
  },
  {
   "cell_type": "code",
   "execution_count": 10,
   "metadata": {
    "collapsed": false
   },
   "outputs": [
    {
     "name": "stdout",
     "output_type": "stream",
     "text": [
      "Interation 5, b = 9/16:  False\n",
      "After iteration 4, c = 11/8:  False\n",
      "After iteration 5, b = 5/8:  True\n",
      "In the limit, a = 1:  False\n"
     ]
    }
   ],
   "source": [
    "# Re-initialize rank matrix\n",
    "r = np.matrix([1, 1, 1]).T\n",
    "\n",
    "def page_rank_modified(r):\n",
    "    # loop to arbitrary large number...\n",
    "    for i in range(1, 10000000):\n",
    "        old = r\n",
    "        r = M * r\n",
    "        if i == 4:\n",
    "            r_4 = r\n",
    "        if i == 5:\n",
    "            r_5 = r     \n",
    "        diff = np.absolute(old - r).max()\n",
    "        if(diff < 𝛆):\n",
    "            return r, r_4, r_5\n",
    "        \n",
    "r, r_4, r_5 = page_rank_modified(r)\n",
    "\n",
    "a, b, c = r.flat[0], r.flat[1], r.flat[2]\n",
    "\n",
    "print(\"Interation 5, b = 9/16: \", round(r_5.flat[1], 3) == 9/16)\n",
    "print(\"After iteration 4, c = 11/8: \", round(r_4.flat[2], 3) == round(11/8, 3))\n",
    "print(\"After iteration 5, b = 5/8: \", round(r_5.flat[1], 3) == round(5/8, 3))\n",
    "print(\"In the limit, a = 1: \", round(a, 3) == 1)"
   ]
  },
  {
   "cell_type": "code",
   "execution_count": null,
   "metadata": {
    "collapsed": true
   },
   "outputs": [],
   "source": []
  }
 ],
 "metadata": {
  "kernelspec": {
   "display_name": "Python 3",
   "language": "python",
   "name": "python3"
  },
  "language_info": {
   "codemirror_mode": {
    "name": "ipython",
    "version": 3
   },
   "file_extension": ".py",
   "mimetype": "text/x-python",
   "name": "python",
   "nbconvert_exporter": "python",
   "pygments_lexer": "ipython3",
   "version": "3.4.3"
  }
 },
 "nbformat": 4,
 "nbformat_minor": 0
}

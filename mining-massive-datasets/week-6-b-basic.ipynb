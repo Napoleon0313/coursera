{
 "cells": [
  {
   "cell_type": "markdown",
   "metadata": {},
   "source": [
    "## Question 1\n",
    "\n",
    "The figure below shows two positive points (purple squares) and two negative points (green circles): \n",
    "\n",
    "<img src=\"https://d396qusza40orc.cloudfront.net/mmds/images/otc_svm1.gif\" style=\"float:left\">\n",
    "\n",
    "<br clear=\"all\">\n",
    "\n",
    "That is, the training data set consists of:\n",
    "\n",
    "- (x1,y1) = ((5,4),+1)\n",
    "- (x2,y2) = ((8,3),+1)\n",
    "- (x3,y3) = ((7,2),-1)\n",
    "- (x4,y4) = ((3,3),-1)\n",
    "\n",
    "Our goal is to find the maximum-margin linear classifier for this data. In easy cases, the shortest line between a positive and negative point has a perpendicular bisector that separates the points. If so, the perpendicular bisector is surely the maximum-margin separator. Alas, in this case, the closest pair of positive and negative points, x2 and x3, have a perpendicular bisector that misclassifies x1 as negative, so that won't work.\n",
    "\n",
    "The next-best possibility is that we can find a pair of points on one side (i.e., either two positive or two negative points) such that a line parallel to the line through these points is the maximum-margin separator. In these cases, the limit to how far from the two points the parallel line can get is determined by the closest (to the line between the two points) of the points on the other side. For our simple data set, this situation holds.\n",
    "\n",
    "Consider all possibilities for boundaries of this type, and express the boundary as w.x+b=0, such that w.x+b≥1 for positive points x and w.x+b≤-1 for negative points x. Assuming that w = (w1,w2), identify in the list below the true statement about one of w1, w2, and b.\n",
    "\n",
    "<ol>\n",
    "<li>w2 = 8/5\n",
    "<li>w2 = 10/3\n",
    "<li>b = -15/2\n",
    "<li>w1 = 2/5\n",
    "</ol>"
   ]
  },
  {
   "cell_type": "code",
   "execution_count": 208,
   "metadata": {
    "collapsed": false
   },
   "outputs": [
    {
     "name": "stdout",
     "output_type": "stream",
     "text": [
      "1: False\n",
      "2: False\n",
      "3: True\n",
      "4: False\n"
     ]
    }
   ],
   "source": [
    "import math\n",
    "from numpy import linalg as LA\n",
    "\n",
    "data = np.array([[5, 4, 1],\n",
    "                 [8, 3, 1],\n",
    "                 [7, 2, -1],\n",
    "                 [3, 3, -1]])\n",
    "\n",
    "# Pick the three support vectors: The line through points (5, 4) and (8, 3) is the best line.\n",
    "# The third support vector is then (7, 2), which is the closest point to this line\n",
    "\n",
    "# We have the following constraints\n",
    "\n",
    "#5u + 4v + b >= 1\n",
    "#8u + 3v + b >= 1\n",
    "#3u + 3v + b <= -1\n",
    "\n",
    "# Solve the linear equations\n",
    "p = np.array([(5, 4, 1),(8, 3, 1), (7, 2, 1)])\n",
    "r = np.array([1, 1, -1])\n",
    "x = np.linalg.solve(p, r)\n",
    "\n",
    "print(\"1:\", x[1] == 8/5)\n",
    "print(\"2:\", x[1] == 10/3)\n",
    "print(\"3:\", x[2] == -15/2)\n",
    "print(\"4:\", x[0] == 2/5)"
   ]
  },
  {
   "cell_type": "markdown",
   "metadata": {},
   "source": [
    "## Question 2\n",
    "\n",
    "Consider the following training set of 16 points. The eight purple squares are positive examples, and the eight green circles are negative examples.\n",
    "\n",
    "<img src=\"https://d396qusza40orc.cloudfront.net/mmds/images/newsvm4.gif\" style=\"float:left\"/>\n",
    "<br clear=\"all\"/>\n",
    "\n",
    "We propose to use the diagonal line with slope +1 and intercept +2 as a decision boundary, with positive examples above and negative examples below. However, like any linear boundary for this training set, some examples are misclassified. We can measure the goodness of the boundary by computing all the slack variables that exceed 0, and then using them in one of several objective functions. In this problem, we shall only concern ourselves with computing the slack variables, not an objective function.\n",
    "\n",
    "To be specific, suppose the boundary is written in the form w.x+b=0, where w = (-1,1) and b = -2. Note that we can scale the three numbers involved as we wish, and so doing changes the margin around the boundary. However, we want to consider this specific boundary and margin.\n",
    "\n",
    "Determine the slack for each of the 16 points. Then, identify the correct statement in the list below.\n",
    "\n",
    "<ol>\n",
    "<li>The slack for (7,8) is 0.\n",
    "<li>The slack for (1,4) is 0.\n",
    "<li>The slack for (3,4) is 2.\n",
    "<li>The slack for (3,6) is 2.\n",
    "</ol>"
   ]
  },
  {
   "cell_type": "code",
   "execution_count": 120,
   "metadata": {
    "collapsed": false
   },
   "outputs": [
    {
     "name": "stdout",
     "output_type": "stream",
     "text": [
      "1: False\n",
      "2: False\n",
      "3: True\n",
      "4: False\n"
     ]
    },
    {
     "data": {
      "image/png": "[encoded data removed]",
      "text/plain": [
       "<matplotlib.figure.Figure at 0x10be774a8>"
      ]
     },
     "metadata": {},
     "output_type": "display_data"
    }
   ],
   "source": [
    "%matplotlib inline\n",
    "import numpy as np\n",
    "import matplotlib.pyplot as plt\n",
    "import seaborn; seaborn.set()\n",
    "\n",
    "def calculate_slack(point, w, b, y):\n",
    "    # Distance from line L\n",
    "    d = point[0] * w[0] + point[1] * w[1] + b\n",
    "    # Confidence\n",
    "    c = d * y\n",
    "    # If correctly classified, return 0\n",
    "    # Else return the penalty, which is 1 + the distance from the line L\n",
    "    return 0 if c >= 0 else abs(c) + penalty\n",
    "\n",
    "def decision_boundary(x):\n",
    "    return x + 2\n",
    "\n",
    "points = np.array([[5, 10, 1],\n",
    "                   [7, 10, 1],\n",
    "                   [1, 8, 1],\n",
    "                   [3, 8, 1],\n",
    "                   [7, 8, 1],\n",
    "                   [1, 6, 1],\n",
    "                   [3, 6, 1],\n",
    "                   [3, 4, 1],\n",
    "                   [5, 8, -1],\n",
    "                   [5, 6, -1],\n",
    "                   [7, 6, -1],\n",
    "                   [1, 4, -1],\n",
    "                   [5, 4, -1],\n",
    "                   [7, 4, -1],\n",
    "                   [1, 2, -1],\n",
    "                   [3, 2, -1]])\n",
    "\n",
    "w = np.array([-1, 1])\n",
    "b = -2\n",
    "penalty = 1\n",
    "\n",
    "X_fit = np.linspace(0, 8, 2)[:, np.newaxis]\n",
    "y_fit = decision_boundary(X_fit)\n",
    "\n",
    "X, y = points[:,[0,1]], points[:, 2]\n",
    "plt.scatter(X[:, 0], X[:, 1], c=y, s=50, cmap='winter');\n",
    "plt.plot(X_fit, y_fit);\n",
    "plt.xlim(0, 8)\n",
    "\n",
    "print(\"1:\", calculate_slack(X[4], w, b, y[4]) == 0)\n",
    "print(\"2:\", calculate_slack(X[11], w, b, y[11]) == 0)\n",
    "print(\"3:\", calculate_slack(X[7], w, b, y[7]) == 2)\n",
    "print(\"4:\", calculate_slack(X[6], w, b, y[6]) == 2)"
   ]
  },
  {
   "cell_type": "markdown",
   "metadata": {},
   "source": [
    "## Question 3\n",
    "\n",
    "Below we see a set of 20 points and a decision tree for classifying the points.\n",
    "\n",
    "<img src=\"https://d396qusza40orc.cloudfront.net/mmds/images/otc_gold-small.gif\" style=\"float:left\">\n",
    "<img src=\"https://d396qusza40orc.cloudfront.net/mmds/images/otc_dectree1.gif\" style=\"float:left\">\n",
    "<br clear=\"all\">\n",
    "\t\n",
    "To be precise, the 20 points represent (Age,Salary) pairs of people who do or do not buy gold jewelry. Age (appreviated A in the decision tree) is the x-axis, and Salary (S in the tree) is the y-axis. Those that do are represented by gold points, and those that do not by green points. The 10 points of gold-jewelry buyers are:\n",
    "\n",
    "(28,145), (38,115), (43,83), (50,130), (50,90), (50,60), (50,30), (55,118), (63,88), and (65,140).\n",
    "\n",
    "The 10 points of those that do not buy gold jewelry are:\n",
    "\n",
    "(23,40), (25,125), (29,97), (33,22), (35,63), (42,57), (44, 105), (55,63), (55,20), and (64,37).\n",
    "\n",
    "Some of these points are correctly classified by the decision tree and some are not. Determine the classification of each point, and then indicate in the list below the point that is misclassified.\n",
    "\n",
    "<ol>\n",
    "<li>(65,140)\n",
    "<li>(25,125)\n",
    "<li>(35,63)\n",
    "<li>(29,97)\n",
    "</ol>"
   ]
  },
  {
   "cell_type": "code",
   "execution_count": 213,
   "metadata": {
    "collapsed": false
   },
   "outputs": [
    {
     "name": "stdout",
     "output_type": "stream",
     "text": [
      "1: False\n",
      "2: False\n",
      "3: False\n",
      "4: False\n"
     ]
    }
   ],
   "source": [
    "def decision_tree(p):\n",
    "    if p[0] < 45:\n",
    "        return False if p[1] < 110 else True\n",
    "    else:\n",
    "        return False if p[1] < 75 else True\n",
    "            \n",
    "data = [(28, 145, 1),\n",
    "        (38, 115, 1),\n",
    "        (43, 83, 1), \n",
    "        (50, 130, 1), \n",
    "        (50, 90, 1),\n",
    "        (50, 60, 1), \n",
    "        (50, 30, 1),\n",
    "        (55, 118, 1),\n",
    "        (63, 88, 1),\n",
    "        (65, 140, 1),\n",
    "        (23, 40, 0),\n",
    "        (25, 125, 0),\n",
    "        (29, 97, 0), \n",
    "        (33, 22, 0),\n",
    "        (35, 63, 0),\n",
    "        (42, 57, 0),\n",
    "        (44, 105, 0),\n",
    "        (55, 63, 0),\n",
    "        (55, 20, 0),\n",
    "        (64, 37, 0)]\n",
    "\n",
    "misclassified = []\n",
    "\n",
    "\n",
    "misclassified = [x for x in data if ]\n",
    "for d in data:\n",
    "    if decision_tree(d) != d[-1]:\n",
    "        misclassified.append(d[:2])\n",
    "        \n",
    "print(\"1:\", (65, 140) in misclassified)\n",
    "print(\"2:\", (25, 125) in misclassified)\n",
    "print(\"3:\", (35, 63) in misclassified)\n",
    "print(\"4:\", (29, 97) in misclassified)"
   ]
  },
  {
   "cell_type": "code",
   "execution_count": null,
   "metadata": {
    "collapsed": true
   },
   "outputs": [],
   "source": []
  }
 ],
 "metadata": {
  "kernelspec": {
   "display_name": "Python 3",
   "language": "python",
   "name": "python3"
  },
  "language_info": {
   "codemirror_mode": {
    "name": "ipython",
    "version": 3
   },
   "file_extension": ".py",
   "mimetype": "text/x-python",
   "name": "python",
   "nbconvert_exporter": "python",
   "pygments_lexer": "ipython3",
   "version": "3.4.3"
  }
 },
 "nbformat": 4,
 "nbformat_minor": 0
}

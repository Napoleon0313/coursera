{
 "cells": [
  {
   "cell_type": "markdown",
   "metadata": {},
   "source": [
    "# Week3B (Basic)\n",
    "\n",
    "## Question 1\n",
    "\n",
    "Suppose we hash the elements of a set S having 20 members, to a bit array of length 99. The array is initially all-0's, and we set a bit to 1 whenever a member of S hashes to it. The hash function is random and uniform in its distribution. What is the expected fraction of 0's in the array after hashing? What is the expected fraction of 1's? You may assume that 99 is large enough that asymptotic limits are reached.\n",
    "\n",
    "<ol>\n",
    "<li>The fraction of 1's is $79/99$ (0.798)\n",
    "<li>The fraction of 1's is $e^{-79/99}$ (0.450)\n",
    "<li>The fraction of 1's is 1 - $e^{-20/99}$ (0.182)\n",
    "<li>The fraction of 1's is $e^{-20/99}$ (0.817)\n",
    "</ol>\n",
    "\n",
    "### Solution:\n",
    "Throwing darts approximation: $(1−\\frac{1}{t})t^{(d/t)}$ = $e^{-d/t}$"
   ]
  },
  {
   "cell_type": "code",
   "execution_count": 38,
   "metadata": {
    "collapsed": false
   },
   "outputs": [
    {
     "name": "stdout",
     "output_type": "stream",
     "text": [
      "1: False\n",
      "2: False\n",
      "3: True\n",
      "4: False\n"
     ]
    }
   ],
   "source": [
    "# Video: Week 3: Bloom Filter\n",
    "# TODO: Investigate how to write out the equation to get the exact answer\n",
    "\n",
    "import math\n",
    "\n",
    "def find_result(approx, test):\n",
    "    \"\"\"\n",
    "    The number of 1' is approximately the number of elements times the number of hash functions, in this case 1.\n",
    "    However, some collision might occur and lower this number slightly.\n",
    "    \"\"\"\n",
    "    temp = [x for x in test if x <= approx]\n",
    "    return (min(temp, key=lambda x:abs(x-approx)))\n",
    "\n",
    "approx = 20/99\n",
    "test = [79/99, math.e ** (-79/99), 1 - math.e ** (-20/99), math.e ** (-20/99)]\n",
    "\n",
    "m = find_result(approximate, test)\n",
    "\n",
    "print(\"1:\", m == test[0])\n",
    "print(\"2:\", m == test[1])\n",
    "print(\"3:\", m == test[2])\n",
    "print(\"4:\", m == test[3])"
   ]
  },
  {
   "cell_type": "markdown",
   "metadata": {},
   "source": [
    "## Question 2\n",
    "\n",
    "A certain Web mail service (like gmail, e.g.) has 108 users, and wishes to create a sample of data about these users, occupying 1010 bytes. Activity at the service can be viewed as a stream of elements, each of which is an email. The element contains the ID of the sender, which must be one of the 108 users of the service, and other information, e.g., the recipient(s), and contents of the message. The plan is to pick a subset of the users and collect in the 1010 bytes records of length 100 bytes about every email sent by the users in the selected set (and nothing about other users).\n",
    "The method of Section 4.2.4 will be used. User ID's will be hashed to a bucket number, from 0 to 999,999. At all times, there will be a threshold t such that the 100-byte records for all the users whose ID's hash to t or less will be retained, and other users' records will not be retained. You may assume that each user generates emails at exactly the same rate as other users. As a function of n, the number of emails in the stream so far, what should the threshold t be in order that the selected records will not exceed the 1010 bytes available to store records? From the list below, identify the true statement about a value of n and its value of t.\n",
    "\n",
    "\n",
    "<ol>\n",
    "<li>n = $10^{9}$; t = 999\n",
    "<li>n = $10^{12}$; t = 999\n",
    "<li>n = $10^{10}$; t = 10,000\n",
    "<li>n = $10^{13}$; t = 9\n",
    "</ol>"
   ]
  },
  {
   "cell_type": "code",
   "execution_count": 70,
   "metadata": {
    "collapsed": false
   },
   "outputs": [
    {
     "name": "stdout",
     "output_type": "stream",
     "text": [
      "False\n",
      "False\n",
      "False\n",
      "True\n"
     ]
    }
   ],
   "source": [
    "# Video - Sampling a Stream\n",
    "\n",
    "BYTE_LIMIT = 1010\n",
    "\n",
    "test = [\n",
    "    {\"n\": 10**9, \"t\": 999},\n",
    "    {\"n\": 10**12, \"t\": 999},\n",
    "    {\"n\": 10**10, \"t\": 10000},\n",
    "    {\"n\": 10**13, \"t\": 9}]\n",
    "\n",
    "for t in test:\n",
    "    print(((t[\"t\"] / t[\"n\"]) * t[\"n\"] * 100) < 1010)"
   ]
  },
  {
   "cell_type": "code",
   "execution_count": null,
   "metadata": {
    "collapsed": true
   },
   "outputs": [],
   "source": []
  }
 ],
 "metadata": {
  "kernelspec": {
   "display_name": "Python 3",
   "language": "python",
   "name": "python3"
  },
  "language_info": {
   "codemirror_mode": {
    "name": "ipython",
    "version": 3
   },
   "file_extension": ".py",
   "mimetype": "text/x-python",
   "name": "python",
   "nbconvert_exporter": "python",
   "pygments_lexer": "ipython3",
   "version": "3.4.3"
  }
 },
 "nbformat": 4,
 "nbformat_minor": 0
}
